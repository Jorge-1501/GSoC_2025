{
  "cells": [
    {
      "cell_type": "markdown",
      "metadata": {},
      "source": [
        "# <h1>Shor's Algorithm and RSA Cryptosystem</h1>"
      ]
    },
    {
      "cell_type": "markdown",
      "metadata": {},
      "source": [
        "<b>Intructions</b>\n",
        "\n",
        "Comment on quantum computing or quantum machine learning. You can also comment on one quantum algorithm or one quantum software you are familiar with. You can also suggest methods you think are good and you would like to work on. Please use your own understanding. Comments copied from the internet will not be considered."
      ]
    },
    {
      "cell_type": "markdown",
      "metadata": {},
      "source": [
        "This notebook introduces Shor's algorithm, starting with cryptographic systems and continuing with the algorithm itself. It contains two main codes: one focusing on the RSA encryption process, and the other using Shor's algorithm to decrypt a message."
      ]
    },
    {
      "cell_type": "markdown",
      "metadata": {},
      "source": [
        "## **Table of Content**\n",
        "\n",
        "<div class=\"alert alert-block alert-info\" style=\"margin-top: 20px\">\n",
        "    \n",
        "1. [Introduction to cryptography](#1-introduction-to-cryptography)<br>\n",
        "2. [RSA cryptosystem](#2-rsa-cryptosystem) <br>\n",
        "3. [Shor's algorithm overview](#3-shors-algorithm-overview) <br>\n",
        "4. [Conclusions](#4-conclusion-and-reflections) <br>\n",
        "5. [References](#5-references) <br>\n",
        "    </div>\n",
        "    <hr>\n",
        "***"
      ]
    },
    {
      "cell_type": "markdown",
      "metadata": {},
      "source": [
        "## <h2>1. Introduction to Cryptography</h2>"
      ]
    },
    {
      "cell_type": "markdown",
      "metadata": {},
      "source": [
        "To understand the motivations behind Shor's algorithm, which we'll refer to as \"S.A.\" from now on, we need to understand some basic cryptographic concepts before moving on to the RSA system, which SA claims to have broken. "
      ]
    },
    {
      "cell_type": "markdown",
      "metadata": {},
      "source": [
        "First of all... what is cryptography?\n",
        ">> Cryptography is the art of writing or solving codes.\n",
        "\n",
        ">> <i>Concise Oxford English Dictionary</i>\n",
        "\n",
        "    \n",
        "The modern cryptography involves the study of mathematical techniques for securing digital information, systems, and distributed computations against adversarial attacks. This means the cryptography helps us to mantein our secret messages ... secrets."
      ]
    },
    {
      "cell_type": "markdown",
      "metadata": {},
      "source": [
        "### 1.1 Basic scenario"
      ]
    },
    {
      "cell_type": "markdown",
      "metadata": {},
      "source": [
        "Alice and Bob wish to communicate secretly. To do so, they use a cryptosystem or <i>cipher</i>.\n",
        "\n",
        "* Alice has a message or <i>plaintext</i> $M$ which she encrypts using an encryption function $e(\\cdot)$.\n",
        "* This producess a <i>ciphertext</i> $C = e(M)$\n",
        "* She sends this to Bob who <i>decrypts</i> it using a decryption function $d(\\cdot)$\n",
        "\\begin{equation*}\n",
        "\\begin{aligned}\n",
        "    M &= d(C) \\\\\n",
        "    & = d(e(M))\n",
        "\\end{aligned}\n",
        "\\end{equation*}"
      ]
    },
    {
      "cell_type": "markdown",
      "metadata": {},
      "source": [
        "This scheme belongs to an asymmetric system. There are two types of schemes.\n",
        "* <b>Symmetric:</b> Same key for encryption and decryption, $d = e$ .\n",
        "* <b>Asymmetric:</b> Public key for encryption, private key for decryption, $d \\neq e$."
      ]
    },
    {
      "cell_type": "markdown",
      "metadata": {},
      "source": [
        "___\n",
        "___"
      ]
    },
    {
      "cell_type": "markdown",
      "metadata": {},
      "source": [
        "## <h2>2. RSA Cryptosystem</h2>"
      ]
    },
    {
      "cell_type": "markdown",
      "metadata": {},
      "source": [
        "The RSA (Rivest, Shamir y Adleman) cryptosystem is asymmetric and it uses a pair as key\n",
        "* Public key: $(e,N)$\n",
        "* Private key: $(d,N)$\n",
        "\n",
        "The security is based on the difficulty of factoring large numbers, in this case $N$ is the large number."
      ]
    },
    {
      "cell_type": "markdown",
      "metadata": {},
      "source": [
        "### 2.1 General Idea"
      ]
    },
    {
      "cell_type": "markdown",
      "metadata": {},
      "source": [
        "* Alice wants to send Bob a secure message.\n",
        "* Bob shares his <b>public key</b>, so anyone can send him messages.\n",
        "* Alice encrypts her message with Bob’s <b>public key</b>.\n",
        "* Only Bob can <b>decrypt</b> it using his <b>private key</b>."
      ]
    },
    {
      "cell_type": "markdown",
      "metadata": {},
      "source": [
        "<b>Step 1: Key generation</b>\n",
        "\n",
        "1. choose two large prime numbers: $p$ and $q$\n",
        "2. Compute $N = p \\times q$\n",
        "3. Compute Euler's totient: $\\phi(N) = (p-1)(q-1)$\n",
        "4. Choose encryption exponent $e$ such that $gcd(e, \\phi(N)) = 1$\n",
        "5. Compute decryption exponent (Euclides' algorithm) $d$ as $d \\equiv e^{-1}\\ mod\\ \\phi(N)$"
      ]
    },
    {
      "cell_type": "markdown",
      "metadata": {},
      "source": [
        "<b>Step 2: Public and private keys</b>\n",
        "\n",
        "* <b>Public key:</b> $(e,N)$ used for encryption\n",
        "* <b>Private key:</b> $(d,N)$ used for decryption\n",
        "* Knowing $e$ and $N$ does not reveal $d$ unless factoring $N$ is feasible."
      ]
    },
    {
      "cell_type": "markdown",
      "metadata": {},
      "source": [
        "<b>Step 3: Encryption</b>\n",
        "\n",
        "Convert message $M$ into a numerical representation.\n",
        "* Compute ciphertext:\n",
        "\\begin{equation*}\n",
        "C = M^e\\ mod\\ N\n",
        "\\end{equation*}\n",
        "* Send $C$ to Bob."
      ]
    },
    {
      "cell_type": "markdown",
      "metadata": {},
      "source": [
        "<b>Step 4: Decryption</b>\n",
        "\n",
        "* Bob computes the original message:\n",
        "$$M = C^d\\ mod\\ N$$\n",
        "* Only Bob, who knows $d$, can decrypt $C$."
      ]
    },
    {
      "cell_type": "markdown",
      "metadata": {},
      "source": [
        "### 2.2 Code"
      ]
    },
    {
      "cell_type": "code",
      "execution_count": 2,
      "metadata": {},
      "outputs": [],
      "source": [
        "# === RSA Interactive Demo ===\n",
        "import math\n",
        "from numpy.random import randint, choice\n",
        "\n",
        "#--------------------------\n",
        "#   Functions\n",
        "#--------------------------\n",
        "\n",
        "# Convert a string into a list of numbers using ASCII values\n",
        "def string_to_numbers(text):\n",
        "    \"\"\"Converts a string into a list of integer values using UTF-8 encoding.\"\"\"\n",
        "    return list(text.encode(\"utf-8\"))\n",
        "\n",
        "def numbers_to_string(numbers):\n",
        "    \"\"\"Converts a list of integer values back into a string using UTF-8 decoding.\"\"\"\n",
        "    return bytes(numbers).decode(\"utf-8\")\n",
        "\n",
        "# Encrypt and decrypt each character separately\n",
        "def encrypt(text, e, N, k):\n",
        "    \"\"\"Encrypts a UTF-8 encoded string using RSA with grouped bytes.\"\"\"\n",
        "    byte_list = string_to_numbers(text)\n",
        "    grouped_numbers = group_bytes(byte_list, k)\n",
        "    encrypted_values = [pow(num, e, N) for num in grouped_numbers]\n",
        "    return encrypted_values\n",
        "\n",
        "\n",
        "def decrypt(encrypted_values, d, N, k):\n",
        "    \"\"\"Decrypts RSA-encrypted numbers and reconstructs the original string.\"\"\"\n",
        "    decrypted_numbers = [pow(num, d, N) for num in encrypted_values]\n",
        "    byte_list = ungroup_bytes(decrypted_numbers, k)\n",
        "    return numbers_to_string(byte_list)\n",
        "\n",
        "\n",
        "def prime_number(n):\n",
        "    \"\"\"Check if a number n is primer or not\"\"\"\n",
        "    if n < 2:\n",
        "        return False\n",
        "    for i in range (2, int(math.sqrt(n) + 1)):\n",
        "        if n % i ==0:\n",
        "            return False\n",
        "    return True\n",
        "\n",
        "def modular_inverse(e, phi):\n",
        "    \"\"\"Computes the modular inverse of e mod phi.\"\"\"\n",
        "    try:\n",
        "        return pow(e, -1, phi)\n",
        "    except ValueError:\n",
        "        return None\n",
        "    \n",
        "# Function obtaining e and d\n",
        "def get_e_and_d(phi):\n",
        "    \"\"\"Finds a valid prime e < phi and its modular inverse d, ensuring e ≠ d.\n",
        "    \n",
        "    Returns:\n",
        "        (e, d): Tuple with valid values or (None, None) if no valid pair is found.\n",
        "    \"\"\"\n",
        "    primes = [i for i in range(2, phi) if prime_number(i) and math.gcd(i, phi) == 1]\n",
        "    \n",
        "    if not primes:\n",
        "        return None, None\n",
        "    \n",
        "    while primes:\n",
        "        e = int(choice(primes))\n",
        "        d = modular_inverse(e, phi)\n",
        "        \n",
        "        if d is not None and d != e:\n",
        "            return e, d\n",
        "        primes.remove(e)\n",
        "    \n",
        "    return None, None\n",
        "\n",
        "\n",
        "def group_bytes(byte_list, k):\n",
        "    \"\"\"Group k bytes together into single large numbers.\"\"\"\n",
        "    grouped = []\n",
        "    for i in range(0, len(byte_list), k):\n",
        "        chunk = byte_list[i:i+k]\n",
        "        num = sum(byte << (8 * j) for j, byte in enumerate(chunk))\n",
        "        grouped.append(num)\n",
        "    return grouped\n",
        "\n",
        "def ungroup_bytes(number_list, k):\n",
        "    \"\"\"Split large numbers back into their original bytes.\"\"\"\n",
        "    byte_list = []\n",
        "    for num in number_list:\n",
        "        chunk = [(num >> (8 * j)) & 0xFF for j in range(k)]\n",
        "        byte_list.extend(chunk)\n",
        "    return byte_list"
      ]
    },
    {
      "cell_type": "code",
      "execution_count": null,
      "metadata": {},
      "outputs": [
        {
          "name": "stdout",
          "output_type": "stream",
          "text": [
            "\n",
            "______________________________________________________\n",
            "\n",
            "\n",
            "Examples of prime numbers: [11, 13, 17, 19, 41, 67, 71, 89, 97, 101, 919, 997, ...] \n",
            "\n",
            "\n",
            "The public key is: (83, 323)\n",
            "The private key is: (59, 323)\n",
            "\n",
            "Original Message: Hello, today is a great day!\n",
            "Encrypted Message (as numbers): [98, 169, 97, 97, 66, 150, 230, 262, 66, 196, 300, 144, 230, 299, 191, 230, 300, 230, 69, 266, 169, 300, 262, 230, 196, 300, 144, 203]\n",
            "Decrypted Message: Hello, today is a great day!\n",
            "The message was correctly decrypted!\n"
          ]
        }
      ],
      "source": [
        "#------------------------------\n",
        "#       Encrypt\n",
        "#------------------------------\n",
        "\n",
        "# Acquire input values\n",
        "print(\"\\n______________________________________________________\\n\")\n",
        "print(\"\\nExamples of prime numbers: [11, 13, 17, 19, 41, 67, 71, 89, 97, 101, 919, 997, ...] \\n\")\n",
        "\n",
        "p = 17\n",
        "q = 19\n",
        "\n",
        "N = p * q\n",
        "phi = (p - 1) * (q - 1)\n",
        "k = math.floor(math.log(N, 256))\n",
        "\n",
        "e, d = get_e_and_d(phi)\n",
        "while e is None or d is None:\n",
        "    e, d = get_e_and_d(phi)\n",
        "    \n",
        "# Define keys\n",
        "public = (e, N)\n",
        "private = (d, N)\n",
        "print(\"\\nThe public key is:\", public)\n",
        "print(\"The private key is:\", private)\n",
        "    \n",
        "#-------------------\n",
        "#   Message\n",
        "#-------------------\n",
        "\n",
        "# Get user input\n",
        "message = \"Hello, today is a great day!\"\n",
        "\n",
        "# Encrypt and decrypt\n",
        "encrypted_message = encrypt(message, e, N, k)\n",
        "decrypted_message = decrypt(encrypted_message, d, N, k)\n",
        "\n",
        "print(\"\\nOriginal Message:\", message)\n",
        "print(\"Encrypted Message (as numbers):\", encrypted_message)\n",
        "print(\"Decrypted Message:\", decrypted_message)\n",
        "\n",
        "# Check if decryption was successful\n",
        "if decrypted_message == message:\n",
        "    print(\"The message was correctly decrypted!\")\n",
        "else:\n",
        "    print(\"Something went wrong.\")"
      ]
    },
    {
      "cell_type": "markdown",
      "metadata": {},
      "source": [
        "### 2.3 The Problem: Factoring Complexity"
      ]
    },
    {
      "cell_type": "markdown",
      "metadata": {},
      "source": [
        "The best classical algorithm is the General Number Field Sieve (GNFS) and the required resources increase exponentially with the number $N$.\n",
        "\n",
        "\\begin{equation}\n",
        "    O\\left(e^{(c (\\log N)^{1/3} (\\log \\log N)^{2/3})}\\right)\n",
        "\\end{equation}"
      ]
    },
    {
      "cell_type": "markdown",
      "metadata": {},
      "source": [
        "___\n",
        "___"
      ]
    },
    {
      "cell_type": "markdown",
      "metadata": {},
      "source": [
        "## 3. Shor's Algorithm: Overview"
      ]
    },
    {
      "cell_type": "markdown",
      "metadata": {},
      "source": [
        "The SA allows us to efficiently factorize a composite integer $N=p \\times q$.\n",
        "\n",
        "This is important because classical factorization is believed to be intractable (sub-exponential time), while Shor's algorithm runs in polynomial time, posing a threat to RSA and other cryptosystems."
      ]
    },
    {
      "cell_type": "markdown",
      "metadata": {},
      "source": [
        "<b>Key Idea:</b> Reduce factorization to the order-finding problem:\n",
        "\\begin{equation*}\n",
        "    \\text{Given } a,\\, N, \\text{ find } r \\text{ such that } a^r \\equiv 1 \\pmod{N}.\n",
        "\\end{equation*}"
      ]
    },
    {
      "cell_type": "markdown",
      "metadata": {},
      "source": [
        "<b>Structure</b>\n",
        "\n",
        "<b>Inputs:</b> Number $N$ to be factored.\n",
        "    \n",
        "<b>Outputs:</b> A non-trivial factor of $N$.\n",
        "    \n",
        "<b>Procedure:</b>\n",
        "* Choose random integer $a < N$.\n",
        "* Compute greatest common divisor: if $\\gcd(a, N) > 1$, done.\n",
        "* Use quantum Fourier transform (QFT) to find period $r$ of $a^x \\mod N$.\n",
        "* Is $r$ is even and $x^{r/2}\\neq -1\\ mod\\ N$ then compute $\\gcd(a^{r/2} \\pm 1, N)$ to obtain factors (repeat if it is necessary).\n",
        "    \n",
        "<b>Runtime:</b> $O((\\log N)^3)$, polynomial time."
      ]
    },
    {
      "cell_type": "markdown",
      "metadata": {},
      "source": [
        "### 3.1 Code"
      ]
    },
    {
      "cell_type": "markdown",
      "metadata": {},
      "source": [
        "The hardest part is developing the SA oracle. This oracle extracts the eigenvalues ​​of an operator, which is necessary because the SA needs to extract the period of the function associated with the RSA system.\n",
        "\n",
        "Below, we present a proposal for an oracle, to factorize the number 15."
      ]
    },
    {
      "cell_type": "code",
      "execution_count": 23,
      "metadata": {},
      "outputs": [
        {
          "name": "stdout",
          "output_type": "stream",
          "text": [
            "a = 7\n",
            "The factors of 15 are 3 and 5.\n"
          ]
        }
      ],
      "source": [
        "import numpy as np\n",
        "from qiskit import QuantumCircuit, transpile\n",
        "from qiskit.visualization import plot_histogram\n",
        "from math import gcd\n",
        "import random\n",
        "from qiskit_aer import Aer\n",
        "\n",
        "# Compuerta c_U\n",
        "def c_amod15(a, potencia):\n",
        "    '''Compuerta control con a mod 15'''\n",
        "    if a not in [2,4,7,8,11,13]:\n",
        "        raise ValueError(\"'a' must be 2, 4, 7, 8, 11 o 13\")\n",
        "    U = QuantumCircuit(4)\n",
        "    for _iteration in range(potencia):\n",
        "        if a in [2, 13]:\n",
        "            U.swap(2,3)\n",
        "            U.swap(1,2)\n",
        "            U.swap(0,1)\n",
        "        if a in [7, 8]:\n",
        "            U.swap(0,1)          \n",
        "            U.swap(1,2)\n",
        "            U.swap(2,3)\n",
        "        if a in [4,11]:\n",
        "            U.swap(1,3)          \n",
        "            U.swap(0,2)\n",
        "        if a in [7,11,13]:\n",
        "            for q in range(4):\n",
        "                U.x(q)\n",
        "    U = U.to_gate()\n",
        "    U.name = f\"{a}^{potencia} mod 15\"\n",
        "    c_U = U.control()\n",
        "    return c_U\n",
        "\n",
        "# QFT inversa\n",
        "def qft_dagger(n):\n",
        "    '''n-quibit aplica QFTdagger a los primeros n quibits'''\n",
        "    qc = QuantumCircuit(n)\n",
        "    # Hacemos los respectivos swaps\n",
        "    for qubit in range(n//2):\n",
        "        qc.swap(qubit, n-qubit-1)\n",
        "    for j in range(n):\n",
        "        for m in range(j):\n",
        "            qc.cp(-np.pi / float(2**(j-m)), m, j)\n",
        "        qc.h(j)\n",
        "    qc.name = \"QFT_dagger\"\n",
        "    return qc\n",
        "\n",
        "# Order-finding algorithm\n",
        "def quantum_order_finding(a, N):\n",
        "    \"\"\"\n",
        "    Defines and executes the quantum circuit to find the period r of a^r mod N.\n",
        "    \"\"\"\n",
        "    # Number of qubits for register and measurement\n",
        "    n = int(np.ceil(np.log2(N))) \n",
        "    num_qubits = 2 * n  # We use 2n qubits in total\n",
        "    \n",
        "    # Definition of the quantum circuit\n",
        "    qc = QuantumCircuit(num_qubits, n)\n",
        "    \n",
        "    # We apply hadarmard to the first n qibits\n",
        "    for q in range(n):\n",
        "        qc.h(q)\n",
        "    \n",
        "    # We initialize the auxiliary register to 1\n",
        "    qc.x(n)\n",
        "    \n",
        "    # We perform the Control-U operations in the second register\n",
        "    for q in range (n):\n",
        "        qc.append(c_amod15(a, 2**q),\n",
        "                [q] + [i + n for i in range(n)])\n",
        "\n",
        "    \n",
        "    # Apply the Inverse Quantum Fourier Transform\n",
        "    qc.append(qft_dagger(n), range(n))\n",
        "    \n",
        "    # Measure the first n qibits\n",
        "    qc.measure(range(n), range(n))\n",
        "    \n",
        "    # We draw the circuit\n",
        "    qc.draw(fold=-1)\n",
        "\n",
        "    # Run in the simulator\n",
        "    aer_sim = Aer.get_backend('aer_simulator')\n",
        "    t_qc = transpile(qc, aer_sim)\n",
        "    counts = aer_sim.run(t_qc).result().get_counts()\n",
        "    \n",
        "    plot_histogram(counts)\n",
        "    \n",
        "    return counts, qc\n",
        "\n",
        "\n",
        "def classical_post_processing(counts, N, a):\n",
        "    \"\"\"\n",
        "    Process the results of the quantum circuit to find the period r and obtain the factors of N.\n",
        "    \"\"\"\n",
        "    measured_values = [int(k, 2) for k in counts.keys()]\n",
        "    measured_values.sort()\n",
        "    \n",
        "    for m in measured_values:\n",
        "        if m == 0:\n",
        "            continue\n",
        "        \n",
        "        # Approximate the period r using continued fractions\n",
        "        r = round(N / m)\n",
        "        \n",
        "        if r % 2 == 1:\n",
        "            continue  # r must be even to apply factoring\n",
        "        \n",
        "        # Obtaining the factors of N\n",
        "        factor1 = gcd(a**(r//2) - 1, N)\n",
        "        factor2 = gcd(a**(r//2) + 1, N)\n",
        "        \n",
        "        if factor1 > 1 and factor1 < N:\n",
        "            return factor1, factor2\n",
        "    \n",
        "    return None, None\n",
        "\n",
        "def shor_algorithm(N):\n",
        "    \"\"\"\n",
        "    Implement Shor's algorithm to factor N.\n",
        "    \"\"\"\n",
        "    # A random number is chosen, a < N\n",
        "    while True:\n",
        "        a = random.randint(2, N//2)\n",
        "        if gcd(a, N) == 1:\n",
        "            print(f\"a = {a}\")\n",
        "            break\n",
        "    \n",
        "    # Run the quantum part\n",
        "    counts, circuit = quantum_order_finding(a, N)\n",
        "    \n",
        "    # Classical processing to obtain the factors\n",
        "    factor1, factor2 = classical_post_processing(counts, N, a)\n",
        "    \n",
        "    if factor1 is None:\n",
        "        print(\"No factorization found, please try again.\")\n",
        "    else:\n",
        "        print(f\"The factors of {N} are {factor1} and {factor2}.\")\n",
        "    \n",
        "    return factor1, factor2, circuit\n",
        "\n",
        "# Run the SA for 15\n",
        "N = 15 \n",
        "Factor1, Factor2, circuit = shor_algorithm(N)"
      ]
    },
    {
      "cell_type": "code",
      "execution_count": 24,
      "metadata": {},
      "outputs": [
        {
          "data": {
            "image/png": "[encoded data removed]",
            "text/plain": [
              "<Figure size 1792.5x785.944 with 1 Axes>"
            ]
          },
          "metadata": {},
          "output_type": "display_data"
        }
      ],
      "source": [
        "display(circuit.draw('mpl'))"
      ]
    },
    {
      "cell_type": "markdown",
      "metadata": {},
      "source": [
        "___\n",
        "___"
      ]
    },
    {
      "cell_type": "markdown",
      "metadata": {},
      "source": [
        "## 4. Conclusion and Reflections"
      ]
    },
    {
      "cell_type": "markdown",
      "metadata": {},
      "source": [
        "Shor's algorithm is a revolutionary algorithm that promises to break the RSA system, but it is too sensitive to noise and inefficient with current quantum computers. Meanwhile, post-quantum cryptography is working on creating new systems that RSA cannot handle.\n",
        "\n",
        "Another important problem is the definition and effective implementation of the oracle; this is a topic still under development that could be addressed through new methods, either with neural networks or quantum algorithms. "
      ]
    },
    {
      "cell_type": "markdown",
      "metadata": {},
      "source": [
        "___\n",
        "___"
      ]
    },
    {
      "cell_type": "markdown",
      "metadata": {},
      "source": [
        "## 5. References"
      ]
    },
    {
      "cell_type": "markdown",
      "metadata": {},
      "source": [
        "- Nielsen, M. A., & Chuang, I. L. (2012). Quantum Computation and Quantum Information. https://doi.org/10.1017/cbo9780511976667\n",
        "- Talbot, J., & Welsh, D. (2006). Complexity and Cryptography. https://doi.org/10.1017/cbo9780511755286"
      ]
    }
  ],
  "metadata": {
    "kernelspec": {
      "display_name": "base",
      "language": "python",
      "name": "python3"
    },
    "language_info": {
      "codemirror_mode": {
        "name": "ipython",
        "version": 3
      },
      "file_extension": ".py",
      "mimetype": "text/x-python",
      "name": "python",
      "nbconvert_exporter": "python",
      "pygments_lexer": "ipython3",
      "version": "3.12.4"
    }
  },
  "nbformat": 4,
  "nbformat_minor": 2
}

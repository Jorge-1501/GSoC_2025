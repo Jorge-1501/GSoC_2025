{
  "cells": [
    {
      "cell_type": "markdown",
      "id": "1f65f497",
      "metadata": {
        "id": "1f65f497"
      },
      "source": [
        "# Task IX. Quantum Kolmogorov-Arnold Networks for High Energy Physics Analisys at the LHC"
      ]
    },
    {
      "cell_type": "markdown",
      "id": "27a67aac",
      "metadata": {
        "id": "27a67aac"
      },
      "source": [
        "<b> Instructions</b>\n",
        "\n",
        "Implement a <i>classical</i> Kolmogorov-Arnold Network using basis-splines or some other KAN architecture and apply it to MNIST. Show its performance on the test data.\n",
        "\n",
        "Comment on potential ideas to extend this classical KAN architecture to a quantum KAN and sketch out the architecture in detail."
      ]
    },
    {
      "cell_type": "markdown",
      "id": "a8a60df2",
      "metadata": {
        "id": "a8a60df2"
      },
      "source": [
        "## **Table of Content**\n",
        "\n",
        "<div class=\"alert alert-block alert-info\" style=\"margin-top: 20px\">\n",
        "    \n",
        "1. [Introduction](#1-introduction)<br>\n",
        "2. [Classical KAN on MNIST](#2-classical-kan-on-mnist) <br>\n",
        "3. [Extentions Q-KANs](#3-extensions-quantum-kolmogorov-arnold-networks) <br>\n",
        "4. [References](#4-references) <br>\n",
        "    </div>\n",
        "    <hr>\n",
        "***"
      ]
    },
    {
      "cell_type": "markdown",
      "id": "05899700",
      "metadata": {
        "id": "05899700"
      },
      "source": [
        "## 1. Introduction"
      ]
    },
    {
      "cell_type": "markdown",
      "id": "b251a105",
      "metadata": {
        "id": "b251a105"
      },
      "source": [
        "This section introduces the foundational concepts that underpin our work, beginning with Hilbert’s 13th Problem, progressing through the Kolmogorov-Arnold Theorem, and culminating in the discussion of Kolmogorov-Arnold Networks (KANs)."
      ]
    },
    {
      "cell_type": "markdown",
      "id": "e3218d9c",
      "metadata": {
        "id": "e3218d9c"
      },
      "source": [
        "### 1.1 Hilbert's 13th Problem"
      ]
    },
    {
      "cell_type": "markdown",
      "id": "a8429831",
      "metadata": {
        "id": "a8429831"
      },
      "source": [
        "Hilbert’s 13th Problem originated from a series of 23 open problems presented by David Hilbert in 1900, which greatly influenced the direction of mathematical research in the twentieth century. Specifically, the 13th problem asks whether the solution of a general algebraic equation of degree seven can be represented as a superposition of continuous functions of two variables. Formally, Hilbert inquired whether one can express the roots of a seventh-degree polynomial, whose solution by radicals is precluded by the Abel-Ruffini theorem, in terms of functions that depend only on two variables. This problem highlights a fundamental inquiry into the nature of functional representation and the inherent complexity of multivariable functions."
      ]
    },
    {
      "cell_type": "markdown",
      "id": "c6a12617",
      "metadata": {
        "id": "c6a12617"
      },
      "source": [
        "### 1.2 Kolmogorov-Arnold Theorem"
      ]
    },
    {
      "cell_type": "markdown",
      "id": "71aaffb5",
      "metadata": {
        "id": "71aaffb5"
      },
      "source": [
        "Building on the insights prompted by Hilbert’s question, the Kolmogorov-Arnold Theorem provided a groundbreaking result in the theory of functions. The theorem states that any continuous function $f:[0,1]^n \\rightarrow \\mathbb{R}$ can be represented as a finite sum of compositions of continuous functions of a single variable and addition. A typical formulation of the theorem is as follows:\n",
        "\n",
        "\\begin{equation}\n",
        "    f{x_1, x_2, ..., x_n} = \\sum_{q=1}^{2n+1} \\phi_q\n",
        "                            \\left( \\sum_{p=1}^{n} \\psi_{pq}(x_p) \\right)\n",
        "\\end{equation}\n",
        "\n",
        "where $\\phi_q: \\mathbb{R} \\rightarrow \\mathbb{R}$ and $\\psi_{pq}: \\mathbb{R} \\rightarrow \\mathbb{R}$ are continuous functions. This result not only resolved Hilbert's query in a topological sense but also established a universal representation for multivariate continuous functions, thereby providing a theoretical foundation for various approximation methods in analysis and computational mathematics."
      ]
    },
    {
      "cell_type": "markdown",
      "id": "31aa3402",
      "metadata": {
        "id": "31aa3402"
      },
      "source": [
        "### 1.3 Kolmogorov-Arnold Networks (KANs)"
      ]
    },
    {
      "cell_type": "markdown",
      "id": "47e288c8",
      "metadata": {
        "id": "47e288c8"
      },
      "source": [
        "Kolmogorov-Arnold Networks (KANs) are neural network architectures inspired by the Kolmogorov-Arnold Theorem. They aim to leverage the theorem's insight that any continuous function can be decomposed into a finite composition of univariate functions and addition. This approach is particularly attractive in the context of function approximation and learning, where interpretability and efficiency are crucial."
      ]
    },
    {
      "cell_type": "markdown",
      "id": "5260df58",
      "metadata": {
        "id": "5260df58"
      },
      "source": [
        "#### 1.3.1 Spline-based"
      ]
    },
    {
      "cell_type": "markdown",
      "id": "324bdbef",
      "metadata": {
        "id": "324bdbef"
      },
      "source": [
        "Spline-based KANs utilize basis splines (B-splines) to model the univariate functions $\\phi_q$ and $\\psi_{pq}$ involved in the Kolmogorov-Arnold representation. B-splines are well-suited for this task due to their excellent approximation properties, smoothness, and computational efficiency. By representing the univariate functions as a linear combination of B-spline basis functions, these networks can achieve high levels of accuracy with relatively few parameters. This makes spline-based KANs particularly useful in settings where interpretability and smooth function approximation are desired."
      ]
    },
    {
      "cell_type": "markdown",
      "id": "e3052ea6",
      "metadata": {
        "id": "e3052ea6"
      },
      "source": [
        "#### 1.3.2 Shallow architectures"
      ]
    },
    {
      "cell_type": "markdown",
      "id": "3ffb6b55",
      "metadata": {
        "id": "3ffb6b55"
      },
      "source": [
        "Shallow architectures in the context of KANs refer to network designs that do not require deep, multi-layered structures to approximate complex functions. Instead, the decomposition provided by the Kolmogorov-Arnold Theorem allows for the construction of networks with a single or few hidden layers. In such architectures, the critical non-linear transformations are performed by the univariate function approximators, while the overall function is synthesized through a simple summation. This paradigm contrasts with conventional deep networks, and it offers advantages in terms of interpretability and computational efficiency, especially when the target functions exhibit a structure that is well-captured by the theorem's decomposition."
      ]
    },
    {
      "cell_type": "markdown",
      "id": "7b2eadc0",
      "metadata": {
        "id": "7b2eadc0"
      },
      "source": [
        "___\n",
        "___"
      ]
    },
    {
      "cell_type": "markdown",
      "id": "f05080de",
      "metadata": {
        "id": "f05080de"
      },
      "source": [
        "## 2. Classical KAN on MNIST"
      ]
    },
    {
      "cell_type": "markdown",
      "id": "a2e49445",
      "metadata": {
        "id": "a2e49445"
      },
      "source": [
        "In this section, we implement a classical Kolmogorov–Arnold Network (KAN) using a spline-based architecture. The notebook is structured as follows:\n",
        "\n",
        "<b>2.1 Data Preparation and Visualization:</b> Load the MNIST dataset and split train into 80% for training and 20% for validation. The test set doesn't chance.\n",
        "\n",
        "<b>2.2 KAN Model Implementation and Training:</b> Define the spline-based KAN architecture, train the model with early stopping (patience of 3 epochs on validation loss), and save the best model.\n",
        "\n",
        "<b>2.3 Evaluation:</b> Evaluate the model using five metrics (accuracy, confusion matrix, precision, recall, and F1-score) and plot the training/validation loss curves."
      ]
    },
    {
      "cell_type": "code",
      "source": [
        "%pip install tensorflow\n",
        "%pip install tensorflow-probability"
      ],
      "metadata": {
        "colab": {
          "base_uri": "https://localhost:8080/",
          "height": 0
        },
        "id": "j4W8wNnmxVeI",
        "outputId": "13d9879c-d900-4332-99f3-980edd589d78"
      },
      "id": "j4W8wNnmxVeI",
      "execution_count": 60,
      "outputs": [
        {
          "output_type": "stream",
          "name": "stdout",
          "text": [
            "Requirement already satisfied: tensorflow in /usr/local/lib/python3.11/dist-packages (2.19.0)\n",
            "Requirement already satisfied: absl-py>=1.0.0 in /usr/local/lib/python3.11/dist-packages (from tensorflow) (1.4.0)\n",
            "Requirement already satisfied: astunparse>=1.6.0 in /usr/local/lib/python3.11/dist-packages (from tensorflow) (1.6.3)\n",
            "Requirement already satisfied: flatbuffers>=24.3.25 in /usr/local/lib/python3.11/dist-packages (from tensorflow) (25.2.10)\n",
            "Requirement already satisfied: gast!=0.5.0,!=0.5.1,!=0.5.2,>=0.2.1 in /usr/local/lib/python3.11/dist-packages (from tensorflow) (0.6.0)\n",
            "Requirement already satisfied: google-pasta>=0.1.1 in /usr/local/lib/python3.11/dist-packages (from tensorflow) (0.2.0)\n",
            "Requirement already satisfied: libclang>=13.0.0 in /usr/local/lib/python3.11/dist-packages (from tensorflow) (18.1.1)\n",
            "Requirement already satisfied: opt-einsum>=2.3.2 in /usr/local/lib/python3.11/dist-packages (from tensorflow) (3.4.0)\n",
            "Requirement already satisfied: packaging in /usr/local/lib/python3.11/dist-packages (from tensorflow) (24.2)\n",
            "Requirement already satisfied: protobuf!=4.21.0,!=4.21.1,!=4.21.2,!=4.21.3,!=4.21.4,!=4.21.5,<6.0.0dev,>=3.20.3 in /usr/local/lib/python3.11/dist-packages (from tensorflow) (5.29.4)\n",
            "Requirement already satisfied: requests<3,>=2.21.0 in /usr/local/lib/python3.11/dist-packages (from tensorflow) (2.32.3)\n",
            "Requirement already satisfied: setuptools in /usr/local/lib/python3.11/dist-packages (from tensorflow) (75.2.0)\n",
            "Requirement already satisfied: six>=1.12.0 in /usr/local/lib/python3.11/dist-packages (from tensorflow) (1.17.0)\n",
            "Requirement already satisfied: termcolor>=1.1.0 in /usr/local/lib/python3.11/dist-packages (from tensorflow) (3.0.1)\n",
            "Requirement already satisfied: typing-extensions>=3.6.6 in /usr/local/lib/python3.11/dist-packages (from tensorflow) (4.13.0)\n",
            "Requirement already satisfied: wrapt>=1.11.0 in /usr/local/lib/python3.11/dist-packages (from tensorflow) (1.17.2)\n",
            "Requirement already satisfied: grpcio<2.0,>=1.24.3 in /usr/local/lib/python3.11/dist-packages (from tensorflow) (1.71.0)\n",
            "Requirement already satisfied: tensorboard~=2.19.0 in /usr/local/lib/python3.11/dist-packages (from tensorflow) (2.19.0)\n",
            "Requirement already satisfied: keras>=3.5.0 in /usr/local/lib/python3.11/dist-packages (from tensorflow) (3.8.0)\n",
            "Requirement already satisfied: numpy<2.2.0,>=1.26.0 in /usr/local/lib/python3.11/dist-packages (from tensorflow) (2.0.2)\n",
            "Requirement already satisfied: h5py>=3.11.0 in /usr/local/lib/python3.11/dist-packages (from tensorflow) (3.13.0)\n",
            "Requirement already satisfied: ml-dtypes<1.0.0,>=0.5.1 in /usr/local/lib/python3.11/dist-packages (from tensorflow) (0.5.1)\n",
            "Requirement already satisfied: tensorflow-io-gcs-filesystem>=0.23.1 in /usr/local/lib/python3.11/dist-packages (from tensorflow) (0.37.1)\n",
            "Requirement already satisfied: wheel<1.0,>=0.23.0 in /usr/local/lib/python3.11/dist-packages (from astunparse>=1.6.0->tensorflow) (0.45.1)\n",
            "Requirement already satisfied: rich in /usr/local/lib/python3.11/dist-packages (from keras>=3.5.0->tensorflow) (14.0.0)\n",
            "Requirement already satisfied: namex in /usr/local/lib/python3.11/dist-packages (from keras>=3.5.0->tensorflow) (0.0.8)\n",
            "Requirement already satisfied: optree in /usr/local/lib/python3.11/dist-packages (from keras>=3.5.0->tensorflow) (0.14.1)\n",
            "Requirement already satisfied: charset-normalizer<4,>=2 in /usr/local/lib/python3.11/dist-packages (from requests<3,>=2.21.0->tensorflow) (3.4.1)\n",
            "Requirement already satisfied: idna<4,>=2.5 in /usr/local/lib/python3.11/dist-packages (from requests<3,>=2.21.0->tensorflow) (3.10)\n",
            "Requirement already satisfied: urllib3<3,>=1.21.1 in /usr/local/lib/python3.11/dist-packages (from requests<3,>=2.21.0->tensorflow) (2.3.0)\n",
            "Requirement already satisfied: certifi>=2017.4.17 in /usr/local/lib/python3.11/dist-packages (from requests<3,>=2.21.0->tensorflow) (2025.1.31)\n",
            "Requirement already satisfied: markdown>=2.6.8 in /usr/lib/python3/dist-packages (from tensorboard~=2.19.0->tensorflow) (3.3.6)\n",
            "Requirement already satisfied: tensorboard-data-server<0.8.0,>=0.7.0 in /usr/local/lib/python3.11/dist-packages (from tensorboard~=2.19.0->tensorflow) (0.7.2)\n",
            "Requirement already satisfied: werkzeug>=1.0.1 in /usr/local/lib/python3.11/dist-packages (from tensorboard~=2.19.0->tensorflow) (3.1.3)\n",
            "Requirement already satisfied: MarkupSafe>=2.1.1 in /usr/local/lib/python3.11/dist-packages (from werkzeug>=1.0.1->tensorboard~=2.19.0->tensorflow) (3.0.2)\n",
            "Requirement already satisfied: markdown-it-py>=2.2.0 in /usr/local/lib/python3.11/dist-packages (from rich->keras>=3.5.0->tensorflow) (3.0.0)\n",
            "Requirement already satisfied: pygments<3.0.0,>=2.13.0 in /usr/local/lib/python3.11/dist-packages (from rich->keras>=3.5.0->tensorflow) (2.19.1)\n",
            "Requirement already satisfied: mdurl~=0.1 in /usr/local/lib/python3.11/dist-packages (from markdown-it-py>=2.2.0->rich->keras>=3.5.0->tensorflow) (0.1.2)\n",
            "Requirement already satisfied: tensorflow-probability in /usr/local/lib/python3.11/dist-packages (0.25.0)\n",
            "Requirement already satisfied: absl-py in /usr/local/lib/python3.11/dist-packages (from tensorflow-probability) (1.4.0)\n",
            "Requirement already satisfied: six>=1.10.0 in /usr/local/lib/python3.11/dist-packages (from tensorflow-probability) (1.17.0)\n",
            "Requirement already satisfied: numpy>=1.13.3 in /usr/local/lib/python3.11/dist-packages (from tensorflow-probability) (2.0.2)\n",
            "Requirement already satisfied: decorator in /usr/local/lib/python3.11/dist-packages (from tensorflow-probability) (5.2.1)\n",
            "Requirement already satisfied: cloudpickle>=1.3 in /usr/local/lib/python3.11/dist-packages (from tensorflow-probability) (3.1.1)\n",
            "Requirement already satisfied: gast>=0.3.2 in /usr/local/lib/python3.11/dist-packages (from tensorflow-probability) (0.6.0)\n",
            "Requirement already satisfied: dm-tree in /usr/local/lib/python3.11/dist-packages (from tensorflow-probability) (0.1.9)\n",
            "Requirement already satisfied: attrs>=18.2.0 in /usr/local/lib/python3.11/dist-packages (from dm-tree->tensorflow-probability) (25.3.0)\n",
            "Requirement already satisfied: wrapt>=1.11.2 in /usr/local/lib/python3.11/dist-packages (from dm-tree->tensorflow-probability) (1.17.2)\n"
          ]
        }
      ]
    },
    {
      "cell_type": "markdown",
      "id": "0f367eff",
      "metadata": {
        "id": "0f367eff"
      },
      "source": [
        "### 2.1 Data preparation and visulization"
      ]
    },
    {
      "cell_type": "code",
      "execution_count": 61,
      "id": "4ff954d1",
      "metadata": {
        "colab": {
          "base_uri": "https://localhost:8080/",
          "height": 0
        },
        "id": "4ff954d1",
        "outputId": "b1ae8f0e-d0cf-4170-8be5-b712071c9e3a"
      },
      "outputs": [
        {
          "output_type": "stream",
          "name": "stdout",
          "text": [
            "The packages were imported successfully, you can continue.\n"
          ]
        }
      ],
      "source": [
        "import numpy as np\n",
        "import matplotlib.pyplot as plt\n",
        "from tensorflow.keras.datasets import mnist\n",
        "from tensorflow.keras.utils import to_categorical\n",
        "from sklearn.model_selection import train_test_split\n",
        "print(\"The packages were imported successfully, you can continue.\")"
      ]
    },
    {
      "cell_type": "code",
      "execution_count": 62,
      "id": "e18de55b",
      "metadata": {
        "colab": {
          "base_uri": "https://localhost:8080/",
          "height": 0
        },
        "id": "e18de55b",
        "outputId": "2f804224-7b6e-4857-90e5-f8f6321a582f"
      },
      "outputs": [
        {
          "output_type": "stream",
          "name": "stdout",
          "text": [
            "Training set: (50400, 784) (50400,)\n",
            "Validation set: (9600, 784) (9600,)\n",
            "Test set: (10000, 784) (10000,)\n"
          ]
        }
      ],
      "source": [
        "# Load MNIST dataset\n",
        "(x_train_full, y_train_full), (x_test, y_test) = mnist.load_data()\n",
        "\n",
        "# Normalize images\n",
        "x_train_full = x_train_full.astype(\"float32\") / 255.0\n",
        "x_test = x_test.astype(\"float32\") / 255.0\n",
        "\n",
        "# Reshape images to vectors (MNIST images are 28x28 => 784 features)\n",
        "x_train_full = x_train_full.reshape((x_train_full.shape[0], -1))\n",
        "x_test = x_test.reshape((x_test.shape[0], -1))\n",
        "\n",
        "# Split data into, approximate, 70% training, 15% validation, 15% test\n",
        "x_train, x_val, y_train, y_val = train_test_split(x_train_full, y_train_full, test_size=0.16, random_state=42)\n",
        "\n",
        "print(\"Training set:\", x_train.shape, y_train.shape)\n",
        "print(\"Validation set:\", x_val.shape, y_val.shape)\n",
        "print(\"Test set:\", x_test.shape, y_test.shape)"
      ]
    },
    {
      "cell_type": "code",
      "execution_count": 63,
      "id": "588195c9",
      "metadata": {
        "colab": {
          "base_uri": "https://localhost:8080/",
          "height": 385
        },
        "id": "588195c9",
        "outputId": "bc42779b-66e0-4a71-fab4-f7aecebff13f"
      },
      "outputs": [
        {
          "output_type": "display_data",
          "data": {
            "text/plain": [
              "<Figure size 1000x400 with 8 Axes>"
            ],
            "image/png": "[encoded data removed]"
          },
          "metadata": {}
        }
      ],
      "source": [
        "# Visualize some sample images from the training set\n",
        "plt.figure(figsize=(10,4))\n",
        "for i in range(8):\n",
        "    plt.subplot(2, 4, i+1)\n",
        "    plt.imshow(x_train[i].reshape(28,28), cmap='gray')\n",
        "    plt.title(f\"Label: {y_train[i]}\")\n",
        "    plt.axis('off')\n",
        "plt.suptitle(\"Sample MNIST Images (Training Set)\")\n",
        "plt.show()"
      ]
    },
    {
      "cell_type": "markdown",
      "id": "174ee251",
      "metadata": {
        "id": "174ee251"
      },
      "source": [
        "### 2.2 KAN Model implemetation and training"
      ]
    },
    {
      "cell_type": "markdown",
      "id": "79bcc1b2",
      "metadata": {
        "id": "79bcc1b2"
      },
      "source": [
        "In this section, we define our spline-based KAN architecture. The design is inspired by the Kolmogorov–Arnold representation. The network is structured as follows:\n",
        "\n",
        "1. **BSplineLayer ($\\psi$ function):** A custom layer that applies a spline-based transformation elementwise on the input. This layer approximates a univariate function via a fixed number of trainable control points.\n",
        "\n",
        "2. **Group Sum Layer:** The output of the $\\psi$ layer is grouped and summed along feature groups. For MNIST, with 784 input features, we partition the features into 8 equal groups.\n",
        "\n",
        "3. **BSplineLayer ($\\phi$ function):** A second BSplineLayer is applied to each group sum to produce a non-linear transformation.\n",
        "\n",
        "4. **Final Dense Layer:** The outputs are concatenated and fed to a final Dense layer with softmax activation for classification.\n",
        "\n",
        "The training procedure uses early stopping (patience = 5 epochs) based on the validation loss.\n",
        "At each epoch, training and validation accuracy and loss are printed, and the best model is saved."
      ]
    },
    {
      "cell_type": "code",
      "source": [
        "#!pip install --upgrade tensorflow\n",
        "#!pip install --upgrade tensorflow-probability\n",
        "#!pip install tf-keras"
      ],
      "metadata": {
        "id": "GuwUhD390PXM"
      },
      "id": "GuwUhD390PXM",
      "execution_count": 64,
      "outputs": []
    },
    {
      "cell_type": "code",
      "execution_count": 65,
      "id": "5c939932",
      "metadata": {
        "colab": {
          "base_uri": "https://localhost:8080/",
          "height": 0
        },
        "id": "5c939932",
        "outputId": "3a4b1740-2477-4c98-f949-57884a16ecb6"
      },
      "outputs": [
        {
          "output_type": "stream",
          "name": "stdout",
          "text": [
            "The packages were imported successfully, you can continue.\n"
          ]
        }
      ],
      "source": [
        "import tensorflow as tf\n",
        "import tensorflow_probability as tfp\n",
        "from tensorflow.keras import layers, models, callbacks # type: ignore\n",
        "from os import name\n",
        "print(\"The packages were imported successfully, you can continue.\")"
      ]
    },
    {
      "cell_type": "markdown",
      "source": [
        "#### First architecture"
      ],
      "metadata": {
        "id": "m7e9O8BHMtpz"
      },
      "id": "m7e9O8BHMtpz"
    },
    {
      "cell_type": "code",
      "source": [
        "# Define a custom BSplineLayer that applies a spline-based transformation using interpolation.\n",
        "class BSplineLayer(layers.Layer):\n",
        "    def __init__(self, num_knots=50, x_min=0.0, x_max=1.0, **kwargs):\n",
        "        \"\"\"\n",
        "        num_knots: Number of knots (control points) for the spline.\n",
        "        x_min, x_max: Range over which the spline is defined (assumes inputs are normalized).\n",
        "        \"\"\"\n",
        "        super(BSplineLayer, self).__init__(**kwargs)\n",
        "        self.num_knots = num_knots\n",
        "        self.x_min = x_min\n",
        "        self.x_max = x_max\n",
        "\n",
        "    def build(self, input_shape):\n",
        "        # Initialize trainable control points for the spline transformation.\n",
        "        self.control_points = self.add_weight(\n",
        "            shape=(self.num_knots,),\n",
        "            #initializer=tf.keras.initializers.RandomUniform(minval=-1.0, maxval=1.0),\n",
        "            initializer=tf.keras.initializers.GlorotUniform(),\n",
        "            trainable=True,\n",
        "            name=\"control_points\"\n",
        "        )\n",
        "        super(BSplineLayer, self).build(input_shape)\n",
        "\n",
        "    def call(self, inputs):\n",
        "        # Clamp inputs to the defined range to avoid extrapolation issues.\n",
        "        clamped_inputs = tf.clip_by_value(inputs, self.x_min, self.x_max)\n",
        "\n",
        "        # Use TensorFlow Probability's interpolation function to compute the spline output.\n",
        "        # This function interpolates the control points over the regular grid defined by num_knots.\n",
        "        # The inputs are assumed to be in the range [x_min, x_max].\n",
        "        outputs = tfp.math.interp_regular_1d_grid(\n",
        "            x=inputs,\n",
        "            x_ref_min=self.x_min,\n",
        "            x_ref_max=self.x_max,\n",
        "            y_ref=self.control_points,\n",
        "            axis=-1\n",
        "        )\n",
        "        return outputs\n",
        "\n",
        "    def get_config(self):\n",
        "        config = super(BSplineLayer, self).get_config()\n",
        "        config.update({\n",
        "            \"num_knots\": self.num_knots,\n",
        "            \"x_min\": self.x_min,\n",
        "            \"x_max\": self.x_max,\n",
        "        })\n",
        "        return config\n",
        "\n",
        "# Define a custom layer for grouping and summing features.\n",
        "class GroupSumLayer(layers.Layer):\n",
        "    def __init__(self, num_groups, **kwargs):\n",
        "        \"\"\"\n",
        "        num_groups: Number of groups to partition the features into.\n",
        "        \"\"\"\n",
        "        super(GroupSumLayer, self).__init__(**kwargs)\n",
        "        self.num_groups = num_groups\n",
        "\n",
        "    def call(self, inputs):\n",
        "        # inputs shape: (batch, num_features)\n",
        "        num_features = tf.shape(inputs)[1]\n",
        "        # Calculate group size (assuming num_features is divisible by num_groups)\n",
        "        group_size = num_features // self.num_groups\n",
        "        # Reshape to (batch, num_groups, group_size)\n",
        "        reshaped = tf.reshape(inputs[:, :self.num_groups * group_size], (-1, self.num_groups, group_size))\n",
        "        # Sum along the last dimension (group_size)\n",
        "        group_sum = tf.reduce_sum(reshaped, axis=-1)\n",
        "        return group_sum\n",
        "\n",
        "    def get_config(self):\n",
        "        config = super(GroupSumLayer, self).get_config()\n",
        "        config.update({\"num_groups\": self.num_groups})\n",
        "        return config\n",
        "\n",
        "# Define the full KAN model architecture.\n",
        "def build_kan_model(input_dim=784, num_groups=28, num_knots=50, dropout_rate = 0.3):\n",
        "    inputs = layers.Input(shape=(input_dim,))\n",
        "\n",
        "    # \\phi transformation: apply BSplineLayer elementwise.\n",
        "    psi = BSplineLayer(num_knots=num_knots, x_min=0.0, x_max=1.0, name=\"psi_spline\")(inputs)\n",
        "\n",
        "    # Group the features into equal groups and sum them.\n",
        "    grouped = GroupSumLayer(num_groups=num_groups, name=\"group_sum\")(psi)\n",
        "\n",
        "    # Normalize the grouped features.\n",
        "    bn = layers.BatchNormalization(name=\"bn_group\")(grouped)\n",
        "\n",
        "    # Dropout for regularization\n",
        "    dropout1 = layers.Dropout(dropout_rate, name=\"dropout_after_group\")(grouped)\n",
        "\n",
        "    # \\phi transformation: apply BSplineLayer to each group's sum.\n",
        "    phi = BSplineLayer(num_knots=num_knots, x_min=0.0, x_max=grouped.shape[-1], name=\"phi_spline\")(grouped)\n",
        "\n",
        "    # Flatten the output and add dense layers to improve accuracy\n",
        "    flatten = layers.Flatten()(phi)\n",
        "    outputs = layers.Dense(10, activation=\"softmax\", name=\"output\")(flatten)\n",
        "\n",
        "    model = models.Model(inputs=inputs, outputs=outputs, name=\"Spline_Based_KAN\")\n",
        "    return model\n",
        "\n",
        "# Build the model\n",
        "model_2 = build_kan_model()\n",
        "model_2.summary()"
      ],
      "metadata": {
        "colab": {
          "base_uri": "https://localhost:8080/",
          "height": 321
        },
        "id": "GW2b3DO2L2oO",
        "outputId": "57910eda-7fa7-4dd5-93eb-20e1c665ac11"
      },
      "id": "GW2b3DO2L2oO",
      "execution_count": 66,
      "outputs": [
        {
          "output_type": "display_data",
          "data": {
            "text/plain": [
              "\u001b[1mModel: \"Spline_Based_KAN\"\u001b[0m\n"
            ],
            "text/html": [
              "<pre style=\"white-space:pre;overflow-x:auto;line-height:normal;font-family:Menlo,'DejaVu Sans Mono',consolas,'Courier New',monospace\"><span style=\"font-weight: bold\">Model: \"Spline_Based_KAN\"</span>\n",
              "</pre>\n"
            ]
          },
          "metadata": {}
        },
        {
          "output_type": "display_data",
          "data": {
            "text/plain": [
              "┏━━━━━━━━━━━━━━━━━━━━━━━━━━━━━━━━━━━━━━┳━━━━━━━━━━━━━━━━━━━━━━━━━━━━━┳━━━━━━━━━━━━━━━━━┓\n",
              "┃\u001b[1m \u001b[0m\u001b[1mLayer (type)                        \u001b[0m\u001b[1m \u001b[0m┃\u001b[1m \u001b[0m\u001b[1mOutput Shape               \u001b[0m\u001b[1m \u001b[0m┃\u001b[1m \u001b[0m\u001b[1m        Param #\u001b[0m\u001b[1m \u001b[0m┃\n",
              "┡━━━━━━━━━━━━━━━━━━━━━━━━━━━━━━━━━━━━━━╇━━━━━━━━━━━━━━━━━━━━━━━━━━━━━╇━━━━━━━━━━━━━━━━━┩\n",
              "│ input_layer_13 (\u001b[38;5;33mInputLayer\u001b[0m)          │ (\u001b[38;5;45mNone\u001b[0m, \u001b[38;5;34m784\u001b[0m)                 │               \u001b[38;5;34m0\u001b[0m │\n",
              "├──────────────────────────────────────┼─────────────────────────────┼─────────────────┤\n",
              "│ psi_spline (\u001b[38;5;33mBSplineLayer\u001b[0m)            │ (\u001b[38;5;45mNone\u001b[0m, \u001b[38;5;34m784\u001b[0m)                 │              \u001b[38;5;34m50\u001b[0m │\n",
              "├──────────────────────────────────────┼─────────────────────────────┼─────────────────┤\n",
              "│ group_sum (\u001b[38;5;33mGroupSumLayer\u001b[0m)            │ (\u001b[38;5;45mNone\u001b[0m, \u001b[38;5;34m28\u001b[0m)                  │               \u001b[38;5;34m0\u001b[0m │\n",
              "├──────────────────────────────────────┼─────────────────────────────┼─────────────────┤\n",
              "│ phi_spline (\u001b[38;5;33mBSplineLayer\u001b[0m)            │ (\u001b[38;5;45mNone\u001b[0m, \u001b[38;5;34m28\u001b[0m)                  │              \u001b[38;5;34m50\u001b[0m │\n",
              "├──────────────────────────────────────┼─────────────────────────────┼─────────────────┤\n",
              "│ flatten_8 (\u001b[38;5;33mFlatten\u001b[0m)                  │ (\u001b[38;5;45mNone\u001b[0m, \u001b[38;5;34m28\u001b[0m)                  │               \u001b[38;5;34m0\u001b[0m │\n",
              "├──────────────────────────────────────┼─────────────────────────────┼─────────────────┤\n",
              "│ output (\u001b[38;5;33mDense\u001b[0m)                       │ (\u001b[38;5;45mNone\u001b[0m, \u001b[38;5;34m10\u001b[0m)                  │             \u001b[38;5;34m290\u001b[0m │\n",
              "└──────────────────────────────────────┴─────────────────────────────┴─────────────────┘\n"
            ],
            "text/html": [
              "<pre style=\"white-space:pre;overflow-x:auto;line-height:normal;font-family:Menlo,'DejaVu Sans Mono',consolas,'Courier New',monospace\">┏━━━━━━━━━━━━━━━━━━━━━━━━━━━━━━━━━━━━━━┳━━━━━━━━━━━━━━━━━━━━━━━━━━━━━┳━━━━━━━━━━━━━━━━━┓\n",
              "┃<span style=\"font-weight: bold\"> Layer (type)                         </span>┃<span style=\"font-weight: bold\"> Output Shape                </span>┃<span style=\"font-weight: bold\">         Param # </span>┃\n",
              "┡━━━━━━━━━━━━━━━━━━━━━━━━━━━━━━━━━━━━━━╇━━━━━━━━━━━━━━━━━━━━━━━━━━━━━╇━━━━━━━━━━━━━━━━━┩\n",
              "│ input_layer_13 (<span style=\"color: #0087ff; text-decoration-color: #0087ff\">InputLayer</span>)          │ (<span style=\"color: #00d7ff; text-decoration-color: #00d7ff\">None</span>, <span style=\"color: #00af00; text-decoration-color: #00af00\">784</span>)                 │               <span style=\"color: #00af00; text-decoration-color: #00af00\">0</span> │\n",
              "├──────────────────────────────────────┼─────────────────────────────┼─────────────────┤\n",
              "│ psi_spline (<span style=\"color: #0087ff; text-decoration-color: #0087ff\">BSplineLayer</span>)            │ (<span style=\"color: #00d7ff; text-decoration-color: #00d7ff\">None</span>, <span style=\"color: #00af00; text-decoration-color: #00af00\">784</span>)                 │              <span style=\"color: #00af00; text-decoration-color: #00af00\">50</span> │\n",
              "├──────────────────────────────────────┼─────────────────────────────┼─────────────────┤\n",
              "│ group_sum (<span style=\"color: #0087ff; text-decoration-color: #0087ff\">GroupSumLayer</span>)            │ (<span style=\"color: #00d7ff; text-decoration-color: #00d7ff\">None</span>, <span style=\"color: #00af00; text-decoration-color: #00af00\">28</span>)                  │               <span style=\"color: #00af00; text-decoration-color: #00af00\">0</span> │\n",
              "├──────────────────────────────────────┼─────────────────────────────┼─────────────────┤\n",
              "│ phi_spline (<span style=\"color: #0087ff; text-decoration-color: #0087ff\">BSplineLayer</span>)            │ (<span style=\"color: #00d7ff; text-decoration-color: #00d7ff\">None</span>, <span style=\"color: #00af00; text-decoration-color: #00af00\">28</span>)                  │              <span style=\"color: #00af00; text-decoration-color: #00af00\">50</span> │\n",
              "├──────────────────────────────────────┼─────────────────────────────┼─────────────────┤\n",
              "│ flatten_8 (<span style=\"color: #0087ff; text-decoration-color: #0087ff\">Flatten</span>)                  │ (<span style=\"color: #00d7ff; text-decoration-color: #00d7ff\">None</span>, <span style=\"color: #00af00; text-decoration-color: #00af00\">28</span>)                  │               <span style=\"color: #00af00; text-decoration-color: #00af00\">0</span> │\n",
              "├──────────────────────────────────────┼─────────────────────────────┼─────────────────┤\n",
              "│ output (<span style=\"color: #0087ff; text-decoration-color: #0087ff\">Dense</span>)                       │ (<span style=\"color: #00d7ff; text-decoration-color: #00d7ff\">None</span>, <span style=\"color: #00af00; text-decoration-color: #00af00\">10</span>)                  │             <span style=\"color: #00af00; text-decoration-color: #00af00\">290</span> │\n",
              "└──────────────────────────────────────┴─────────────────────────────┴─────────────────┘\n",
              "</pre>\n"
            ]
          },
          "metadata": {}
        },
        {
          "output_type": "display_data",
          "data": {
            "text/plain": [
              "\u001b[1m Total params: \u001b[0m\u001b[38;5;34m390\u001b[0m (1.52 KB)\n"
            ],
            "text/html": [
              "<pre style=\"white-space:pre;overflow-x:auto;line-height:normal;font-family:Menlo,'DejaVu Sans Mono',consolas,'Courier New',monospace\"><span style=\"font-weight: bold\"> Total params: </span><span style=\"color: #00af00; text-decoration-color: #00af00\">390</span> (1.52 KB)\n",
              "</pre>\n"
            ]
          },
          "metadata": {}
        },
        {
          "output_type": "display_data",
          "data": {
            "text/plain": [
              "\u001b[1m Trainable params: \u001b[0m\u001b[38;5;34m390\u001b[0m (1.52 KB)\n"
            ],
            "text/html": [
              "<pre style=\"white-space:pre;overflow-x:auto;line-height:normal;font-family:Menlo,'DejaVu Sans Mono',consolas,'Courier New',monospace\"><span style=\"font-weight: bold\"> Trainable params: </span><span style=\"color: #00af00; text-decoration-color: #00af00\">390</span> (1.52 KB)\n",
              "</pre>\n"
            ]
          },
          "metadata": {}
        },
        {
          "output_type": "display_data",
          "data": {
            "text/plain": [
              "\u001b[1m Non-trainable params: \u001b[0m\u001b[38;5;34m0\u001b[0m (0.00 B)\n"
            ],
            "text/html": [
              "<pre style=\"white-space:pre;overflow-x:auto;line-height:normal;font-family:Menlo,'DejaVu Sans Mono',consolas,'Courier New',monospace\"><span style=\"font-weight: bold\"> Non-trainable params: </span><span style=\"color: #00af00; text-decoration-color: #00af00\">0</span> (0.00 B)\n",
              "</pre>\n"
            ]
          },
          "metadata": {}
        }
      ]
    },
    {
      "cell_type": "code",
      "source": [
        "# One-hot encode the labels\n",
        "y_train_cat = to_categorical(y_train, num_classes=10)\n",
        "y_val_cat   = to_categorical(y_val, num_classes=10)\n",
        "y_test_cat  = to_categorical(y_test, num_classes=10)\n",
        "\n",
        "# Optimizer\n",
        "optimizer = tf.keras.optimizers.Adam(learning_rate=0.0005)\n",
        "\n",
        "# Compile the model\n",
        "model_2.compile(optimizer=optimizer,\n",
        "              loss='categorical_crossentropy',\n",
        "              metrics=['accuracy'])\n",
        "\n",
        "# Define callbacks: EarlyStopping and ModelCheckpoint\n",
        "early_stop = callbacks.EarlyStopping(monitor='val_loss', patience=5, verbose=1, restore_best_weights=True)\n",
        "model_checkpoint = callbacks.ModelCheckpoint(\"best_kan_model_noDense.h5\", monitor='val_loss', save_best_only=True, verbose=1)\n",
        "\n",
        "# Train the model\n",
        "history_2 = model_2.fit(\n",
        "    x_train, y_train_cat,\n",
        "    validation_data=(x_val, y_val_cat),\n",
        "    epochs=50,\n",
        "    batch_size=64,\n",
        "    callbacks=[early_stop, model_checkpoint],\n",
        "    verbose=1\n",
        ")"
      ],
      "metadata": {
        "colab": {
          "base_uri": "https://localhost:8080/",
          "height": 0
        },
        "id": "7xceoyPyM7XG",
        "outputId": "7740b629-4900-4e50-c1a9-9d21460523ad"
      },
      "id": "7xceoyPyM7XG",
      "execution_count": 67,
      "outputs": [
        {
          "output_type": "stream",
          "name": "stdout",
          "text": [
            "Epoch 1/50\n",
            "\u001b[1m786/788\u001b[0m \u001b[32m━━━━━━━━━━━━━━━━━━━\u001b[0m\u001b[37m━\u001b[0m \u001b[1m0s\u001b[0m 9ms/step - accuracy: 0.1104 - loss: 2.3036\n",
            "Epoch 1: val_loss improved from inf to 2.30172, saving model to best_kan_model_noDense.h5\n"
          ]
        },
        {
          "output_type": "stream",
          "name": "stderr",
          "text": [
            "WARNING:absl:You are saving your model as an HDF5 file via `model.save()` or `keras.saving.save_model(model)`. This file format is considered legacy. We recommend using instead the native Keras format, e.g. `model.save('my_model.keras')` or `keras.saving.save_model(model, 'my_model.keras')`. \n"
          ]
        },
        {
          "output_type": "stream",
          "name": "stdout",
          "text": [
            "\b\b\b\b\b\b\b\b\b\b\b\b\b\b\b\b\b\b\b\b\b\b\b\b\b\b\b\b\b\b\b\b\b\b\b\b\b\b\b\b\b\b\b\b\b\b\b\b\b\b\b\b\b\b\b\b\b\b\b\b\b\b\b\b\b\b\b\b\b\b\b\b\b\b\r\u001b[1m788/788\u001b[0m \u001b[32m━━━━━━━━━━━━━━━━━━━━\u001b[0m\u001b[37m\u001b[0m \u001b[1m9s\u001b[0m 10ms/step - accuracy: 0.1104 - loss: 2.3036 - val_accuracy: 0.1101 - val_loss: 2.3017\n",
            "Epoch 2/50\n",
            "\u001b[1m784/788\u001b[0m \u001b[32m━━━━━━━━━━━━━━━━━━━\u001b[0m\u001b[37m━\u001b[0m \u001b[1m0s\u001b[0m 6ms/step - accuracy: 0.1108 - loss: 2.3014\n",
            "Epoch 2: val_loss improved from 2.30172 to 2.30167, saving model to best_kan_model_noDense.h5\n"
          ]
        },
        {
          "output_type": "stream",
          "name": "stderr",
          "text": [
            "WARNING:absl:You are saving your model as an HDF5 file via `model.save()` or `keras.saving.save_model(model)`. This file format is considered legacy. We recommend using instead the native Keras format, e.g. `model.save('my_model.keras')` or `keras.saving.save_model(model, 'my_model.keras')`. \n"
          ]
        },
        {
          "output_type": "stream",
          "name": "stdout",
          "text": [
            "\b\b\b\b\b\b\b\b\b\b\b\b\b\b\b\b\b\b\b\b\b\b\b\b\b\b\b\b\b\b\b\b\b\b\b\b\b\b\b\b\b\b\b\b\b\b\b\b\b\b\b\b\b\b\b\b\b\b\b\b\b\b\b\b\b\b\b\b\b\b\b\b\b\b\r\u001b[1m788/788\u001b[0m \u001b[32m━━━━━━━━━━━━━━━━━━━━\u001b[0m\u001b[37m\u001b[0m \u001b[1m5s\u001b[0m 7ms/step - accuracy: 0.1108 - loss: 2.3014 - val_accuracy: 0.1101 - val_loss: 2.3017\n",
            "Epoch 3/50\n",
            "\u001b[1m787/788\u001b[0m \u001b[32m━━━━━━━━━━━━━━━━━━━\u001b[0m\u001b[37m━\u001b[0m \u001b[1m0s\u001b[0m 6ms/step - accuracy: 0.1125 - loss: 2.3013\n",
            "Epoch 3: val_loss did not improve from 2.30167\n",
            "\u001b[1m788/788\u001b[0m \u001b[32m━━━━━━━━━━━━━━━━━━━━\u001b[0m\u001b[37m\u001b[0m \u001b[1m5s\u001b[0m 7ms/step - accuracy: 0.1125 - loss: 2.3013 - val_accuracy: 0.1101 - val_loss: 2.3018\n",
            "Epoch 4/50\n",
            "\u001b[1m780/788\u001b[0m \u001b[32m━━━━━━━━━━━━━━━━━━━\u001b[0m\u001b[37m━\u001b[0m \u001b[1m0s\u001b[0m 6ms/step - accuracy: 0.1755 - loss: 2.2003\n",
            "Epoch 4: val_loss improved from 2.30167 to 1.01227, saving model to best_kan_model_noDense.h5\n"
          ]
        },
        {
          "output_type": "stream",
          "name": "stderr",
          "text": [
            "WARNING:absl:You are saving your model as an HDF5 file via `model.save()` or `keras.saving.save_model(model)`. This file format is considered legacy. We recommend using instead the native Keras format, e.g. `model.save('my_model.keras')` or `keras.saving.save_model(model, 'my_model.keras')`. \n"
          ]
        },
        {
          "output_type": "stream",
          "name": "stdout",
          "text": [
            "\b\b\b\b\b\b\b\b\b\b\b\b\b\b\b\b\b\b\b\b\b\b\b\b\b\b\b\b\b\b\b\b\b\b\b\b\b\b\b\b\b\b\b\b\b\b\b\b\b\b\b\b\b\b\b\b\b\b\b\b\b\b\b\b\b\b\b\b\b\b\b\b\b\b\r\u001b[1m788/788\u001b[0m \u001b[32m━━━━━━━━━━━━━━━━━━━━\u001b[0m\u001b[37m\u001b[0m \u001b[1m5s\u001b[0m 7ms/step - accuracy: 0.1775 - loss: 2.1963 - val_accuracy: 0.6526 - val_loss: 1.0123\n",
            "Epoch 5/50\n",
            "\u001b[1m785/788\u001b[0m \u001b[32m━━━━━━━━━━━━━━━━━━━\u001b[0m\u001b[37m━\u001b[0m \u001b[1m0s\u001b[0m 6ms/step - accuracy: 0.6713 - loss: 0.9376\n",
            "Epoch 5: val_loss improved from 1.01227 to 0.86864, saving model to best_kan_model_noDense.h5\n"
          ]
        },
        {
          "output_type": "stream",
          "name": "stderr",
          "text": [
            "WARNING:absl:You are saving your model as an HDF5 file via `model.save()` or `keras.saving.save_model(model)`. This file format is considered legacy. We recommend using instead the native Keras format, e.g. `model.save('my_model.keras')` or `keras.saving.save_model(model, 'my_model.keras')`. \n"
          ]
        },
        {
          "output_type": "stream",
          "name": "stdout",
          "text": [
            "\b\b\b\b\b\b\b\b\b\b\b\b\b\b\b\b\b\b\b\b\b\b\b\b\b\b\b\b\b\b\b\b\b\b\b\b\b\b\b\b\b\b\b\b\b\b\b\b\b\b\b\b\b\b\b\b\b\b\b\b\b\b\b\b\b\b\b\b\b\b\b\b\b\b\r\u001b[1m788/788\u001b[0m \u001b[32m━━━━━━━━━━━━━━━━━━━━\u001b[0m\u001b[37m\u001b[0m \u001b[1m5s\u001b[0m 6ms/step - accuracy: 0.6713 - loss: 0.9375 - val_accuracy: 0.6918 - val_loss: 0.8686\n",
            "Epoch 6/50\n",
            "\u001b[1m787/788\u001b[0m \u001b[32m━━━━━━━━━━━━━━━━━━━\u001b[0m\u001b[37m━\u001b[0m \u001b[1m0s\u001b[0m 6ms/step - accuracy: 0.6909 - loss: 0.8701\n",
            "Epoch 6: val_loss improved from 0.86864 to 0.85457, saving model to best_kan_model_noDense.h5\n"
          ]
        },
        {
          "output_type": "stream",
          "name": "stderr",
          "text": [
            "WARNING:absl:You are saving your model as an HDF5 file via `model.save()` or `keras.saving.save_model(model)`. This file format is considered legacy. We recommend using instead the native Keras format, e.g. `model.save('my_model.keras')` or `keras.saving.save_model(model, 'my_model.keras')`. \n"
          ]
        },
        {
          "output_type": "stream",
          "name": "stdout",
          "text": [
            "\b\b\b\b\b\b\b\b\b\b\b\b\b\b\b\b\b\b\b\b\b\b\b\b\b\b\b\b\b\b\b\b\b\b\b\b\b\b\b\b\b\b\b\b\b\b\b\b\b\b\b\b\b\b\b\b\b\b\b\b\b\b\b\b\b\b\b\b\b\b\b\b\b\b\r\u001b[1m788/788\u001b[0m \u001b[32m━━━━━━━━━━━━━━━━━━━━\u001b[0m\u001b[37m\u001b[0m \u001b[1m5s\u001b[0m 7ms/step - accuracy: 0.6909 - loss: 0.8701 - val_accuracy: 0.6941 - val_loss: 0.8546\n",
            "Epoch 7/50\n",
            "\u001b[1m783/788\u001b[0m \u001b[32m━━━━━━━━━━━━━━━━━━━\u001b[0m\u001b[37m━\u001b[0m \u001b[1m0s\u001b[0m 6ms/step - accuracy: 0.7022 - loss: 0.8499\n",
            "Epoch 7: val_loss improved from 0.85457 to 0.85297, saving model to best_kan_model_noDense.h5\n"
          ]
        },
        {
          "output_type": "stream",
          "name": "stderr",
          "text": [
            "WARNING:absl:You are saving your model as an HDF5 file via `model.save()` or `keras.saving.save_model(model)`. This file format is considered legacy. We recommend using instead the native Keras format, e.g. `model.save('my_model.keras')` or `keras.saving.save_model(model, 'my_model.keras')`. \n"
          ]
        },
        {
          "output_type": "stream",
          "name": "stdout",
          "text": [
            "\b\b\b\b\b\b\b\b\b\b\b\b\b\b\b\b\b\b\b\b\b\b\b\b\b\b\b\b\b\b\b\b\b\b\b\b\b\b\b\b\b\b\b\b\b\b\b\b\b\b\b\b\b\b\b\b\b\b\b\b\b\b\b\b\b\b\b\b\b\b\b\b\b\b\r\u001b[1m788/788\u001b[0m \u001b[32m━━━━━━━━━━━━━━━━━━━━\u001b[0m\u001b[37m\u001b[0m \u001b[1m5s\u001b[0m 6ms/step - accuracy: 0.7022 - loss: 0.8499 - val_accuracy: 0.6999 - val_loss: 0.8530\n",
            "Epoch 8/50\n",
            "\u001b[1m787/788\u001b[0m \u001b[32m━━━━━━━━━━━━━━━━━━━\u001b[0m\u001b[37m━\u001b[0m \u001b[1m0s\u001b[0m 7ms/step - accuracy: 0.7016 - loss: 0.8375\n",
            "Epoch 8: val_loss did not improve from 0.85297\n",
            "\u001b[1m788/788\u001b[0m \u001b[32m━━━━━━━━━━━━━━━━━━━━\u001b[0m\u001b[37m\u001b[0m \u001b[1m6s\u001b[0m 7ms/step - accuracy: 0.7016 - loss: 0.8375 - val_accuracy: 0.6830 - val_loss: 0.8878\n",
            "Epoch 9/50\n",
            "\u001b[1m779/788\u001b[0m \u001b[32m━━━━━━━━━━━━━━━━━━━\u001b[0m\u001b[37m━\u001b[0m \u001b[1m0s\u001b[0m 6ms/step - accuracy: 0.7066 - loss: 0.8405\n",
            "Epoch 9: val_loss did not improve from 0.85297\n",
            "\u001b[1m788/788\u001b[0m \u001b[32m━━━━━━━━━━━━━━━━━━━━\u001b[0m\u001b[37m\u001b[0m \u001b[1m5s\u001b[0m 6ms/step - accuracy: 0.7066 - loss: 0.8403 - val_accuracy: 0.6972 - val_loss: 0.8639\n",
            "Epoch 10/50\n",
            "\u001b[1m786/788\u001b[0m \u001b[32m━━━━━━━━━━━━━━━━━━━\u001b[0m\u001b[37m━\u001b[0m \u001b[1m0s\u001b[0m 6ms/step - accuracy: 0.7134 - loss: 0.8239\n",
            "Epoch 10: val_loss improved from 0.85297 to 0.81873, saving model to best_kan_model_noDense.h5\n"
          ]
        },
        {
          "output_type": "stream",
          "name": "stderr",
          "text": [
            "WARNING:absl:You are saving your model as an HDF5 file via `model.save()` or `keras.saving.save_model(model)`. This file format is considered legacy. We recommend using instead the native Keras format, e.g. `model.save('my_model.keras')` or `keras.saving.save_model(model, 'my_model.keras')`. \n"
          ]
        },
        {
          "output_type": "stream",
          "name": "stdout",
          "text": [
            "\b\b\b\b\b\b\b\b\b\b\b\b\b\b\b\b\b\b\b\b\b\b\b\b\b\b\b\b\b\b\b\b\b\b\b\b\b\b\b\b\b\b\b\b\b\b\b\b\b\b\b\b\b\b\b\b\b\b\b\b\b\b\b\b\b\b\b\b\b\b\b\b\b\b\r\u001b[1m788/788\u001b[0m \u001b[32m━━━━━━━━━━━━━━━━━━━━\u001b[0m\u001b[37m\u001b[0m \u001b[1m5s\u001b[0m 7ms/step - accuracy: 0.7134 - loss: 0.8240 - val_accuracy: 0.7101 - val_loss: 0.8187\n",
            "Epoch 11/50\n",
            "\u001b[1m788/788\u001b[0m \u001b[32m━━━━━━━━━━━━━━━━━━━━\u001b[0m\u001b[37m\u001b[0m \u001b[1m0s\u001b[0m 6ms/step - accuracy: 0.7118 - loss: 0.8182\n",
            "Epoch 11: val_loss improved from 0.81873 to 0.81520, saving model to best_kan_model_noDense.h5\n"
          ]
        },
        {
          "output_type": "stream",
          "name": "stderr",
          "text": [
            "WARNING:absl:You are saving your model as an HDF5 file via `model.save()` or `keras.saving.save_model(model)`. This file format is considered legacy. We recommend using instead the native Keras format, e.g. `model.save('my_model.keras')` or `keras.saving.save_model(model, 'my_model.keras')`. \n"
          ]
        },
        {
          "output_type": "stream",
          "name": "stdout",
          "text": [
            "\b\b\b\b\b\b\b\b\b\b\b\b\b\b\b\b\b\b\b\b\b\b\b\b\b\b\b\b\b\b\b\b\b\b\b\b\b\b\b\b\b\b\b\b\b\b\b\b\b\b\b\b\b\b\b\b\b\b\b\b\b\b\b\b\b\b\b\b\b\b\b\b\b\b\r\u001b[1m788/788\u001b[0m \u001b[32m━━━━━━━━━━━━━━━━━━━━\u001b[0m\u001b[37m\u001b[0m \u001b[1m5s\u001b[0m 6ms/step - accuracy: 0.7118 - loss: 0.8182 - val_accuracy: 0.7105 - val_loss: 0.8152\n",
            "Epoch 12/50\n",
            "\u001b[1m779/788\u001b[0m \u001b[32m━━━━━━━━━━━━━━━━━━━\u001b[0m\u001b[37m━\u001b[0m \u001b[1m0s\u001b[0m 6ms/step - accuracy: 0.7155 - loss: 0.8176\n",
            "Epoch 12: val_loss improved from 0.81520 to 0.80730, saving model to best_kan_model_noDense.h5\n"
          ]
        },
        {
          "output_type": "stream",
          "name": "stderr",
          "text": [
            "WARNING:absl:You are saving your model as an HDF5 file via `model.save()` or `keras.saving.save_model(model)`. This file format is considered legacy. We recommend using instead the native Keras format, e.g. `model.save('my_model.keras')` or `keras.saving.save_model(model, 'my_model.keras')`. \n"
          ]
        },
        {
          "output_type": "stream",
          "name": "stdout",
          "text": [
            "\b\b\b\b\b\b\b\b\b\b\b\b\b\b\b\b\b\b\b\b\b\b\b\b\b\b\b\b\b\b\b\b\b\b\b\b\b\b\b\b\b\b\b\b\b\b\b\b\b\b\b\b\b\b\b\b\b\b\b\b\b\b\b\b\b\b\b\b\b\b\b\b\b\b\r\u001b[1m788/788\u001b[0m \u001b[32m━━━━━━━━━━━━━━━━━━━━\u001b[0m\u001b[37m\u001b[0m \u001b[1m5s\u001b[0m 6ms/step - accuracy: 0.7154 - loss: 0.8176 - val_accuracy: 0.7172 - val_loss: 0.8073\n",
            "Epoch 13/50\n",
            "\u001b[1m783/788\u001b[0m \u001b[32m━━━━━━━━━━━━━━━━━━━\u001b[0m\u001b[37m━\u001b[0m \u001b[1m0s\u001b[0m 6ms/step - accuracy: 0.7114 - loss: 0.8224\n",
            "Epoch 13: val_loss did not improve from 0.80730\n",
            "\u001b[1m788/788\u001b[0m \u001b[32m━━━━━━━━━━━━━━━━━━━━\u001b[0m\u001b[37m\u001b[0m \u001b[1m5s\u001b[0m 6ms/step - accuracy: 0.7114 - loss: 0.8224 - val_accuracy: 0.7031 - val_loss: 0.8492\n",
            "Epoch 14/50\n",
            "\u001b[1m783/788\u001b[0m \u001b[32m━━━━━━━━━━━━━━━━━━━\u001b[0m\u001b[37m━\u001b[0m \u001b[1m0s\u001b[0m 6ms/step - accuracy: 0.7122 - loss: 0.8194\n",
            "Epoch 14: val_loss did not improve from 0.80730\n",
            "\u001b[1m788/788\u001b[0m \u001b[32m━━━━━━━━━━━━━━━━━━━━\u001b[0m\u001b[37m\u001b[0m \u001b[1m5s\u001b[0m 6ms/step - accuracy: 0.7122 - loss: 0.8193 - val_accuracy: 0.7080 - val_loss: 0.8179\n",
            "Epoch 15/50\n",
            "\u001b[1m787/788\u001b[0m \u001b[32m━━━━━━━━━━━━━━━━━━━\u001b[0m\u001b[37m━\u001b[0m \u001b[1m0s\u001b[0m 6ms/step - accuracy: 0.7217 - loss: 0.8031\n",
            "Epoch 15: val_loss did not improve from 0.80730\n",
            "\u001b[1m788/788\u001b[0m \u001b[32m━━━━━━━━━━━━━━━━━━━━\u001b[0m\u001b[37m\u001b[0m \u001b[1m5s\u001b[0m 6ms/step - accuracy: 0.7217 - loss: 0.8031 - val_accuracy: 0.7054 - val_loss: 0.8396\n",
            "Epoch 16/50\n",
            "\u001b[1m784/788\u001b[0m \u001b[32m━━━━━━━━━━━━━━━━━━━\u001b[0m\u001b[37m━\u001b[0m \u001b[1m0s\u001b[0m 6ms/step - accuracy: 0.7165 - loss: 0.8155\n",
            "Epoch 16: val_loss improved from 0.80730 to 0.80244, saving model to best_kan_model_noDense.h5\n"
          ]
        },
        {
          "output_type": "stream",
          "name": "stderr",
          "text": [
            "WARNING:absl:You are saving your model as an HDF5 file via `model.save()` or `keras.saving.save_model(model)`. This file format is considered legacy. We recommend using instead the native Keras format, e.g. `model.save('my_model.keras')` or `keras.saving.save_model(model, 'my_model.keras')`. \n"
          ]
        },
        {
          "output_type": "stream",
          "name": "stdout",
          "text": [
            "\b\b\b\b\b\b\b\b\b\b\b\b\b\b\b\b\b\b\b\b\b\b\b\b\b\b\b\b\b\b\b\b\b\b\b\b\b\b\b\b\b\b\b\b\b\b\b\b\b\b\b\b\b\b\b\b\b\b\b\b\b\b\b\b\b\b\b\b\b\b\b\b\b\b\r\u001b[1m788/788\u001b[0m \u001b[32m━━━━━━━━━━━━━━━━━━━━\u001b[0m\u001b[37m\u001b[0m \u001b[1m5s\u001b[0m 7ms/step - accuracy: 0.7165 - loss: 0.8155 - val_accuracy: 0.7196 - val_loss: 0.8024\n",
            "Epoch 17/50\n",
            "\u001b[1m781/788\u001b[0m \u001b[32m━━━━━━━━━━━━━━━━━━━\u001b[0m\u001b[37m━\u001b[0m \u001b[1m0s\u001b[0m 6ms/step - accuracy: 0.7191 - loss: 0.8020\n",
            "Epoch 17: val_loss improved from 0.80244 to 0.80076, saving model to best_kan_model_noDense.h5\n"
          ]
        },
        {
          "output_type": "stream",
          "name": "stderr",
          "text": [
            "WARNING:absl:You are saving your model as an HDF5 file via `model.save()` or `keras.saving.save_model(model)`. This file format is considered legacy. We recommend using instead the native Keras format, e.g. `model.save('my_model.keras')` or `keras.saving.save_model(model, 'my_model.keras')`. \n"
          ]
        },
        {
          "output_type": "stream",
          "name": "stdout",
          "text": [
            "\b\b\b\b\b\b\b\b\b\b\b\b\b\b\b\b\b\b\b\b\b\b\b\b\b\b\b\b\b\b\b\b\b\b\b\b\b\b\b\b\b\b\b\b\b\b\b\b\b\b\b\b\b\b\b\b\b\b\b\b\b\b\b\b\b\b\b\b\b\b\b\b\b\b\r\u001b[1m788/788\u001b[0m \u001b[32m━━━━━━━━━━━━━━━━━━━━\u001b[0m\u001b[37m\u001b[0m \u001b[1m5s\u001b[0m 6ms/step - accuracy: 0.7191 - loss: 0.8021 - val_accuracy: 0.7196 - val_loss: 0.8008\n",
            "Epoch 18/50\n",
            "\u001b[1m788/788\u001b[0m \u001b[32m━━━━━━━━━━━━━━━━━━━━\u001b[0m\u001b[37m\u001b[0m \u001b[1m0s\u001b[0m 6ms/step - accuracy: 0.7218 - loss: 0.8035\n",
            "Epoch 18: val_loss did not improve from 0.80076\n",
            "\u001b[1m788/788\u001b[0m \u001b[32m━━━━━━━━━━━━━━━━━━━━\u001b[0m\u001b[37m\u001b[0m \u001b[1m5s\u001b[0m 6ms/step - accuracy: 0.7218 - loss: 0.8035 - val_accuracy: 0.7173 - val_loss: 0.8022\n",
            "Epoch 19/50\n",
            "\u001b[1m777/788\u001b[0m \u001b[32m━━━━━━━━━━━━━━━━━━━\u001b[0m\u001b[37m━\u001b[0m \u001b[1m0s\u001b[0m 6ms/step - accuracy: 0.7180 - loss: 0.8059\n",
            "Epoch 19: val_loss improved from 0.80076 to 0.79966, saving model to best_kan_model_noDense.h5\n"
          ]
        },
        {
          "output_type": "stream",
          "name": "stderr",
          "text": [
            "WARNING:absl:You are saving your model as an HDF5 file via `model.save()` or `keras.saving.save_model(model)`. This file format is considered legacy. We recommend using instead the native Keras format, e.g. `model.save('my_model.keras')` or `keras.saving.save_model(model, 'my_model.keras')`. \n"
          ]
        },
        {
          "output_type": "stream",
          "name": "stdout",
          "text": [
            "\b\b\b\b\b\b\b\b\b\b\b\b\b\b\b\b\b\b\b\b\b\b\b\b\b\b\b\b\b\b\b\b\b\b\b\b\b\b\b\b\b\b\b\b\b\b\b\b\b\b\b\b\b\b\b\b\b\b\b\b\b\b\b\b\b\b\b\b\b\b\b\b\b\b\r\u001b[1m788/788\u001b[0m \u001b[32m━━━━━━━━━━━━━━━━━━━━\u001b[0m\u001b[37m\u001b[0m \u001b[1m5s\u001b[0m 6ms/step - accuracy: 0.7181 - loss: 0.8059 - val_accuracy: 0.7202 - val_loss: 0.7997\n",
            "Epoch 20/50\n",
            "\u001b[1m777/788\u001b[0m \u001b[32m━━━━━━━━━━━━━━━━━━━\u001b[0m\u001b[37m━\u001b[0m \u001b[1m0s\u001b[0m 6ms/step - accuracy: 0.7209 - loss: 0.8047\n",
            "Epoch 20: val_loss did not improve from 0.79966\n",
            "\u001b[1m788/788\u001b[0m \u001b[32m━━━━━━━━━━━━━━━━━━━━\u001b[0m\u001b[37m\u001b[0m \u001b[1m5s\u001b[0m 7ms/step - accuracy: 0.7208 - loss: 0.8047 - val_accuracy: 0.7204 - val_loss: 0.8009\n",
            "Epoch 21/50\n",
            "\u001b[1m783/788\u001b[0m \u001b[32m━━━━━━━━━━━━━━━━━━━\u001b[0m\u001b[37m━\u001b[0m \u001b[1m0s\u001b[0m 6ms/step - accuracy: 0.7210 - loss: 0.8048\n",
            "Epoch 21: val_loss did not improve from 0.79966\n",
            "\u001b[1m788/788\u001b[0m \u001b[32m━━━━━━━━━━━━━━━━━━━━\u001b[0m\u001b[37m\u001b[0m \u001b[1m5s\u001b[0m 6ms/step - accuracy: 0.7210 - loss: 0.8048 - val_accuracy: 0.7166 - val_loss: 0.8019\n",
            "Epoch 22/50\n",
            "\u001b[1m788/788\u001b[0m \u001b[32m━━━━━━━━━━━━━━━━━━━━\u001b[0m\u001b[37m\u001b[0m \u001b[1m0s\u001b[0m 6ms/step - accuracy: 0.7236 - loss: 0.7999\n",
            "Epoch 22: val_loss did not improve from 0.79966\n",
            "\u001b[1m788/788\u001b[0m \u001b[32m━━━━━━━━━━━━━━━━━━━━\u001b[0m\u001b[37m\u001b[0m \u001b[1m5s\u001b[0m 7ms/step - accuracy: 0.7236 - loss: 0.7999 - val_accuracy: 0.7203 - val_loss: 0.7997\n",
            "Epoch 23/50\n",
            "\u001b[1m786/788\u001b[0m \u001b[32m━━━━━━━━━━━━━━━━━━━\u001b[0m\u001b[37m━\u001b[0m \u001b[1m0s\u001b[0m 6ms/step - accuracy: 0.7214 - loss: 0.8059\n",
            "Epoch 23: val_loss improved from 0.79966 to 0.79758, saving model to best_kan_model_noDense.h5\n"
          ]
        },
        {
          "output_type": "stream",
          "name": "stderr",
          "text": [
            "WARNING:absl:You are saving your model as an HDF5 file via `model.save()` or `keras.saving.save_model(model)`. This file format is considered legacy. We recommend using instead the native Keras format, e.g. `model.save('my_model.keras')` or `keras.saving.save_model(model, 'my_model.keras')`. \n"
          ]
        },
        {
          "output_type": "stream",
          "name": "stdout",
          "text": [
            "\b\b\b\b\b\b\b\b\b\b\b\b\b\b\b\b\b\b\b\b\b\b\b\b\b\b\b\b\b\b\b\b\b\b\b\b\b\b\b\b\b\b\b\b\b\b\b\b\b\b\b\b\b\b\b\b\b\b\b\b\b\b\b\b\b\b\b\b\b\b\b\b\b\b\r\u001b[1m788/788\u001b[0m \u001b[32m━━━━━━━━━━━━━━━━━━━━\u001b[0m\u001b[37m\u001b[0m \u001b[1m5s\u001b[0m 7ms/step - accuracy: 0.7214 - loss: 0.8059 - val_accuracy: 0.7231 - val_loss: 0.7976\n",
            "Epoch 24/50\n",
            "\u001b[1m788/788\u001b[0m \u001b[32m━━━━━━━━━━━━━━━━━━━━\u001b[0m\u001b[37m\u001b[0m \u001b[1m0s\u001b[0m 6ms/step - accuracy: 0.7233 - loss: 0.8029\n",
            "Epoch 24: val_loss improved from 0.79758 to 0.79620, saving model to best_kan_model_noDense.h5\n"
          ]
        },
        {
          "output_type": "stream",
          "name": "stderr",
          "text": [
            "WARNING:absl:You are saving your model as an HDF5 file via `model.save()` or `keras.saving.save_model(model)`. This file format is considered legacy. We recommend using instead the native Keras format, e.g. `model.save('my_model.keras')` or `keras.saving.save_model(model, 'my_model.keras')`. \n"
          ]
        },
        {
          "output_type": "stream",
          "name": "stdout",
          "text": [
            "\b\b\b\b\b\b\b\b\b\b\b\b\b\b\b\b\b\b\b\b\b\b\b\b\b\b\b\b\b\b\b\b\b\b\b\b\b\b\b\b\b\b\b\b\b\b\b\b\b\b\b\b\b\b\b\b\b\b\b\b\b\b\b\b\b\b\b\b\b\b\b\b\b\b\r\u001b[1m788/788\u001b[0m \u001b[32m━━━━━━━━━━━━━━━━━━━━\u001b[0m\u001b[37m\u001b[0m \u001b[1m5s\u001b[0m 7ms/step - accuracy: 0.7233 - loss: 0.8029 - val_accuracy: 0.7223 - val_loss: 0.7962\n",
            "Epoch 25/50\n",
            "\u001b[1m782/788\u001b[0m \u001b[32m━━━━━━━━━━━━━━━━━━━\u001b[0m\u001b[37m━\u001b[0m \u001b[1m0s\u001b[0m 6ms/step - accuracy: 0.7221 - loss: 0.8018\n",
            "Epoch 25: val_loss did not improve from 0.79620\n",
            "\u001b[1m788/788\u001b[0m \u001b[32m━━━━━━━━━━━━━━━━━━━━\u001b[0m\u001b[37m\u001b[0m \u001b[1m5s\u001b[0m 6ms/step - accuracy: 0.7221 - loss: 0.8018 - val_accuracy: 0.7208 - val_loss: 0.7985\n",
            "Epoch 26/50\n",
            "\u001b[1m779/788\u001b[0m \u001b[32m━━━━━━━━━━━━━━━━━━━\u001b[0m\u001b[37m━\u001b[0m \u001b[1m0s\u001b[0m 6ms/step - accuracy: 0.7229 - loss: 0.8023\n",
            "Epoch 26: val_loss did not improve from 0.79620\n",
            "\u001b[1m788/788\u001b[0m \u001b[32m━━━━━━━━━━━━━━━━━━━━\u001b[0m\u001b[37m\u001b[0m \u001b[1m5s\u001b[0m 6ms/step - accuracy: 0.7229 - loss: 0.8023 - val_accuracy: 0.7196 - val_loss: 0.8021\n",
            "Epoch 27/50\n",
            "\u001b[1m781/788\u001b[0m \u001b[32m━━━━━━━━━━━━━━━━━━━\u001b[0m\u001b[37m━\u001b[0m \u001b[1m0s\u001b[0m 6ms/step - accuracy: 0.7216 - loss: 0.8022\n",
            "Epoch 27: val_loss did not improve from 0.79620\n",
            "\u001b[1m788/788\u001b[0m \u001b[32m━━━━━━━━━━━━━━━━━━━━\u001b[0m\u001b[37m\u001b[0m \u001b[1m5s\u001b[0m 7ms/step - accuracy: 0.7217 - loss: 0.8022 - val_accuracy: 0.7217 - val_loss: 0.7962\n",
            "Epoch 28/50\n",
            "\u001b[1m782/788\u001b[0m \u001b[32m━━━━━━━━━━━━━━━━━━━\u001b[0m\u001b[37m━\u001b[0m \u001b[1m0s\u001b[0m 6ms/step - accuracy: 0.7222 - loss: 0.8063\n",
            "Epoch 28: val_loss did not improve from 0.79620\n",
            "\u001b[1m788/788\u001b[0m \u001b[32m━━━━━━━━━━━━━━━━━━━━\u001b[0m\u001b[37m\u001b[0m \u001b[1m5s\u001b[0m 7ms/step - accuracy: 0.7222 - loss: 0.8062 - val_accuracy: 0.7252 - val_loss: 0.7964\n",
            "Epoch 29/50\n",
            "\u001b[1m787/788\u001b[0m \u001b[32m━━━━━━━━━━━━━━━━━━━\u001b[0m\u001b[37m━\u001b[0m \u001b[1m0s\u001b[0m 6ms/step - accuracy: 0.7257 - loss: 0.7955\n",
            "Epoch 29: val_loss did not improve from 0.79620\n",
            "\u001b[1m788/788\u001b[0m \u001b[32m━━━━━━━━━━━━━━━━━━━━\u001b[0m\u001b[37m\u001b[0m \u001b[1m5s\u001b[0m 6ms/step - accuracy: 0.7257 - loss: 0.7955 - val_accuracy: 0.7169 - val_loss: 0.8062\n",
            "Epoch 29: early stopping\n",
            "Restoring model weights from the end of the best epoch: 24.\n"
          ]
        }
      ]
    },
    {
      "cell_type": "markdown",
      "source": [
        "#### Hybrid model"
      ],
      "metadata": {
        "id": "3UcDsR-sMfFo"
      },
      "id": "3UcDsR-sMfFo"
    },
    {
      "cell_type": "code",
      "execution_count": 68,
      "id": "29250442",
      "metadata": {
        "colab": {
          "base_uri": "https://localhost:8080/",
          "height": 417
        },
        "id": "29250442",
        "outputId": "ead25943-5922-4d14-c46c-c59dad241413"
      },
      "outputs": [
        {
          "output_type": "display_data",
          "data": {
            "text/plain": [
              "\u001b[1mModel: \"Spline_Based_KAN\"\u001b[0m\n"
            ],
            "text/html": [
              "<pre style=\"white-space:pre;overflow-x:auto;line-height:normal;font-family:Menlo,'DejaVu Sans Mono',consolas,'Courier New',monospace\"><span style=\"font-weight: bold\">Model: \"Spline_Based_KAN\"</span>\n",
              "</pre>\n"
            ]
          },
          "metadata": {}
        },
        {
          "output_type": "display_data",
          "data": {
            "text/plain": [
              "┏━━━━━━━━━━━━━━━━━━━━━━━━━━━━━━━━━━━━━━┳━━━━━━━━━━━━━━━━━━━━━━━━━━━━━┳━━━━━━━━━━━━━━━━━┓\n",
              "┃\u001b[1m \u001b[0m\u001b[1mLayer (type)                        \u001b[0m\u001b[1m \u001b[0m┃\u001b[1m \u001b[0m\u001b[1mOutput Shape               \u001b[0m\u001b[1m \u001b[0m┃\u001b[1m \u001b[0m\u001b[1m        Param #\u001b[0m\u001b[1m \u001b[0m┃\n",
              "┡━━━━━━━━━━━━━━━━━━━━━━━━━━━━━━━━━━━━━━╇━━━━━━━━━━━━━━━━━━━━━━━━━━━━━╇━━━━━━━━━━━━━━━━━┩\n",
              "│ input_layer_14 (\u001b[38;5;33mInputLayer\u001b[0m)          │ (\u001b[38;5;45mNone\u001b[0m, \u001b[38;5;34m784\u001b[0m)                 │               \u001b[38;5;34m0\u001b[0m │\n",
              "├──────────────────────────────────────┼─────────────────────────────┼─────────────────┤\n",
              "│ psi_spline (\u001b[38;5;33mBSplineLayer\u001b[0m)            │ (\u001b[38;5;45mNone\u001b[0m, \u001b[38;5;34m784\u001b[0m)                 │              \u001b[38;5;34m50\u001b[0m │\n",
              "├──────────────────────────────────────┼─────────────────────────────┼─────────────────┤\n",
              "│ group_sum (\u001b[38;5;33mGroupSumLayer\u001b[0m)            │ (\u001b[38;5;45mNone\u001b[0m, \u001b[38;5;34m28\u001b[0m)                  │               \u001b[38;5;34m0\u001b[0m │\n",
              "├──────────────────────────────────────┼─────────────────────────────┼─────────────────┤\n",
              "│ phi_spline (\u001b[38;5;33mBSplineLayer\u001b[0m)            │ (\u001b[38;5;45mNone\u001b[0m, \u001b[38;5;34m28\u001b[0m)                  │              \u001b[38;5;34m50\u001b[0m │\n",
              "├──────────────────────────────────────┼─────────────────────────────┼─────────────────┤\n",
              "│ flatten_9 (\u001b[38;5;33mFlatten\u001b[0m)                  │ (\u001b[38;5;45mNone\u001b[0m, \u001b[38;5;34m28\u001b[0m)                  │               \u001b[38;5;34m0\u001b[0m │\n",
              "├──────────────────────────────────────┼─────────────────────────────┼─────────────────┤\n",
              "│ dense_1 (\u001b[38;5;33mDense\u001b[0m)                      │ (\u001b[38;5;45mNone\u001b[0m, \u001b[38;5;34m128\u001b[0m)                 │           \u001b[38;5;34m3,712\u001b[0m │\n",
              "├──────────────────────────────────────┼─────────────────────────────┼─────────────────┤\n",
              "│ dropout_before_dense (\u001b[38;5;33mDropout\u001b[0m)       │ (\u001b[38;5;45mNone\u001b[0m, \u001b[38;5;34m128\u001b[0m)                 │               \u001b[38;5;34m0\u001b[0m │\n",
              "├──────────────────────────────────────┼─────────────────────────────┼─────────────────┤\n",
              "│ dense_2 (\u001b[38;5;33mDense\u001b[0m)                      │ (\u001b[38;5;45mNone\u001b[0m, \u001b[38;5;34m64\u001b[0m)                  │           \u001b[38;5;34m8,256\u001b[0m │\n",
              "├──────────────────────────────────────┼─────────────────────────────┼─────────────────┤\n",
              "│ output (\u001b[38;5;33mDense\u001b[0m)                       │ (\u001b[38;5;45mNone\u001b[0m, \u001b[38;5;34m10\u001b[0m)                  │             \u001b[38;5;34m650\u001b[0m │\n",
              "└──────────────────────────────────────┴─────────────────────────────┴─────────────────┘\n"
            ],
            "text/html": [
              "<pre style=\"white-space:pre;overflow-x:auto;line-height:normal;font-family:Menlo,'DejaVu Sans Mono',consolas,'Courier New',monospace\">┏━━━━━━━━━━━━━━━━━━━━━━━━━━━━━━━━━━━━━━┳━━━━━━━━━━━━━━━━━━━━━━━━━━━━━┳━━━━━━━━━━━━━━━━━┓\n",
              "┃<span style=\"font-weight: bold\"> Layer (type)                         </span>┃<span style=\"font-weight: bold\"> Output Shape                </span>┃<span style=\"font-weight: bold\">         Param # </span>┃\n",
              "┡━━━━━━━━━━━━━━━━━━━━━━━━━━━━━━━━━━━━━━╇━━━━━━━━━━━━━━━━━━━━━━━━━━━━━╇━━━━━━━━━━━━━━━━━┩\n",
              "│ input_layer_14 (<span style=\"color: #0087ff; text-decoration-color: #0087ff\">InputLayer</span>)          │ (<span style=\"color: #00d7ff; text-decoration-color: #00d7ff\">None</span>, <span style=\"color: #00af00; text-decoration-color: #00af00\">784</span>)                 │               <span style=\"color: #00af00; text-decoration-color: #00af00\">0</span> │\n",
              "├──────────────────────────────────────┼─────────────────────────────┼─────────────────┤\n",
              "│ psi_spline (<span style=\"color: #0087ff; text-decoration-color: #0087ff\">BSplineLayer</span>)            │ (<span style=\"color: #00d7ff; text-decoration-color: #00d7ff\">None</span>, <span style=\"color: #00af00; text-decoration-color: #00af00\">784</span>)                 │              <span style=\"color: #00af00; text-decoration-color: #00af00\">50</span> │\n",
              "├──────────────────────────────────────┼─────────────────────────────┼─────────────────┤\n",
              "│ group_sum (<span style=\"color: #0087ff; text-decoration-color: #0087ff\">GroupSumLayer</span>)            │ (<span style=\"color: #00d7ff; text-decoration-color: #00d7ff\">None</span>, <span style=\"color: #00af00; text-decoration-color: #00af00\">28</span>)                  │               <span style=\"color: #00af00; text-decoration-color: #00af00\">0</span> │\n",
              "├──────────────────────────────────────┼─────────────────────────────┼─────────────────┤\n",
              "│ phi_spline (<span style=\"color: #0087ff; text-decoration-color: #0087ff\">BSplineLayer</span>)            │ (<span style=\"color: #00d7ff; text-decoration-color: #00d7ff\">None</span>, <span style=\"color: #00af00; text-decoration-color: #00af00\">28</span>)                  │              <span style=\"color: #00af00; text-decoration-color: #00af00\">50</span> │\n",
              "├──────────────────────────────────────┼─────────────────────────────┼─────────────────┤\n",
              "│ flatten_9 (<span style=\"color: #0087ff; text-decoration-color: #0087ff\">Flatten</span>)                  │ (<span style=\"color: #00d7ff; text-decoration-color: #00d7ff\">None</span>, <span style=\"color: #00af00; text-decoration-color: #00af00\">28</span>)                  │               <span style=\"color: #00af00; text-decoration-color: #00af00\">0</span> │\n",
              "├──────────────────────────────────────┼─────────────────────────────┼─────────────────┤\n",
              "│ dense_1 (<span style=\"color: #0087ff; text-decoration-color: #0087ff\">Dense</span>)                      │ (<span style=\"color: #00d7ff; text-decoration-color: #00d7ff\">None</span>, <span style=\"color: #00af00; text-decoration-color: #00af00\">128</span>)                 │           <span style=\"color: #00af00; text-decoration-color: #00af00\">3,712</span> │\n",
              "├──────────────────────────────────────┼─────────────────────────────┼─────────────────┤\n",
              "│ dropout_before_dense (<span style=\"color: #0087ff; text-decoration-color: #0087ff\">Dropout</span>)       │ (<span style=\"color: #00d7ff; text-decoration-color: #00d7ff\">None</span>, <span style=\"color: #00af00; text-decoration-color: #00af00\">128</span>)                 │               <span style=\"color: #00af00; text-decoration-color: #00af00\">0</span> │\n",
              "├──────────────────────────────────────┼─────────────────────────────┼─────────────────┤\n",
              "│ dense_2 (<span style=\"color: #0087ff; text-decoration-color: #0087ff\">Dense</span>)                      │ (<span style=\"color: #00d7ff; text-decoration-color: #00d7ff\">None</span>, <span style=\"color: #00af00; text-decoration-color: #00af00\">64</span>)                  │           <span style=\"color: #00af00; text-decoration-color: #00af00\">8,256</span> │\n",
              "├──────────────────────────────────────┼─────────────────────────────┼─────────────────┤\n",
              "│ output (<span style=\"color: #0087ff; text-decoration-color: #0087ff\">Dense</span>)                       │ (<span style=\"color: #00d7ff; text-decoration-color: #00d7ff\">None</span>, <span style=\"color: #00af00; text-decoration-color: #00af00\">10</span>)                  │             <span style=\"color: #00af00; text-decoration-color: #00af00\">650</span> │\n",
              "└──────────────────────────────────────┴─────────────────────────────┴─────────────────┘\n",
              "</pre>\n"
            ]
          },
          "metadata": {}
        },
        {
          "output_type": "display_data",
          "data": {
            "text/plain": [
              "\u001b[1m Total params: \u001b[0m\u001b[38;5;34m12,718\u001b[0m (49.68 KB)\n"
            ],
            "text/html": [
              "<pre style=\"white-space:pre;overflow-x:auto;line-height:normal;font-family:Menlo,'DejaVu Sans Mono',consolas,'Courier New',monospace\"><span style=\"font-weight: bold\"> Total params: </span><span style=\"color: #00af00; text-decoration-color: #00af00\">12,718</span> (49.68 KB)\n",
              "</pre>\n"
            ]
          },
          "metadata": {}
        },
        {
          "output_type": "display_data",
          "data": {
            "text/plain": [
              "\u001b[1m Trainable params: \u001b[0m\u001b[38;5;34m12,718\u001b[0m (49.68 KB)\n"
            ],
            "text/html": [
              "<pre style=\"white-space:pre;overflow-x:auto;line-height:normal;font-family:Menlo,'DejaVu Sans Mono',consolas,'Courier New',monospace\"><span style=\"font-weight: bold\"> Trainable params: </span><span style=\"color: #00af00; text-decoration-color: #00af00\">12,718</span> (49.68 KB)\n",
              "</pre>\n"
            ]
          },
          "metadata": {}
        },
        {
          "output_type": "display_data",
          "data": {
            "text/plain": [
              "\u001b[1m Non-trainable params: \u001b[0m\u001b[38;5;34m0\u001b[0m (0.00 B)\n"
            ],
            "text/html": [
              "<pre style=\"white-space:pre;overflow-x:auto;line-height:normal;font-family:Menlo,'DejaVu Sans Mono',consolas,'Courier New',monospace\"><span style=\"font-weight: bold\"> Non-trainable params: </span><span style=\"color: #00af00; text-decoration-color: #00af00\">0</span> (0.00 B)\n",
              "</pre>\n"
            ]
          },
          "metadata": {}
        }
      ],
      "source": [
        "# Define a custom BSplineLayer that applies a spline-based transformation using interpolation.\n",
        "class BSplineLayer(layers.Layer):\n",
        "    def __init__(self, num_knots=50, x_min=0.0, x_max=1.0, **kwargs):\n",
        "        \"\"\"\n",
        "        num_knots: Number of knots (control points) for the spline.\n",
        "        x_min, x_max: Range over which the spline is defined (assumes inputs are normalized).\n",
        "        \"\"\"\n",
        "        super(BSplineLayer, self).__init__(**kwargs)\n",
        "        self.num_knots = num_knots\n",
        "        self.x_min = x_min\n",
        "        self.x_max = x_max\n",
        "\n",
        "    def build(self, input_shape):\n",
        "        # Initialize trainable control points for the spline transformation.\n",
        "        self.control_points = self.add_weight(\n",
        "            shape=(self.num_knots,),\n",
        "            #initializer=tf.keras.initializers.RandomUniform(minval=-1.0, maxval=1.0),\n",
        "            initializer=tf.keras.initializers.GlorotUniform(),\n",
        "            trainable=True,\n",
        "            name=\"control_points\"\n",
        "        )\n",
        "        super(BSplineLayer, self).build(input_shape)\n",
        "\n",
        "    def call(self, inputs):\n",
        "        # Clamp inputs to the defined range to avoid extrapolation issues.\n",
        "        clamped_inputs = tf.clip_by_value(inputs, self.x_min, self.x_max)\n",
        "\n",
        "        # Use TensorFlow Probability's interpolation function to compute the spline output.\n",
        "        # This function interpolates the control points over the regular grid defined by num_knots.\n",
        "        # The inputs are assumed to be in the range [x_min, x_max].\n",
        "        outputs = tfp.math.interp_regular_1d_grid(\n",
        "            x=inputs,\n",
        "            x_ref_min=self.x_min,\n",
        "            x_ref_max=self.x_max,\n",
        "            y_ref=self.control_points,\n",
        "            axis=-1\n",
        "        )\n",
        "        return outputs\n",
        "\n",
        "    def get_config(self):\n",
        "        config = super(BSplineLayer, self).get_config()\n",
        "        config.update({\n",
        "            \"num_knots\": self.num_knots,\n",
        "            \"x_min\": self.x_min,\n",
        "            \"x_max\": self.x_max,\n",
        "        })\n",
        "        return config\n",
        "\n",
        "# Define a custom layer for grouping and summing features.\n",
        "class GroupSumLayer(layers.Layer):\n",
        "    def __init__(self, num_groups, **kwargs):\n",
        "        \"\"\"\n",
        "        num_groups: Number of groups to partition the features into.\n",
        "        \"\"\"\n",
        "        super(GroupSumLayer, self).__init__(**kwargs)\n",
        "        self.num_groups = num_groups\n",
        "\n",
        "    def call(self, inputs):\n",
        "        # inputs shape: (batch, num_features)\n",
        "        num_features = tf.shape(inputs)[1]\n",
        "        # Calculate group size (assuming num_features is divisible by num_groups)\n",
        "        group_size = num_features // self.num_groups\n",
        "        # Reshape to (batch, num_groups, group_size)\n",
        "        reshaped = tf.reshape(inputs[:, :self.num_groups * group_size], (-1, self.num_groups, group_size))\n",
        "        # Sum along the last dimension (group_size)\n",
        "        group_sum = tf.reduce_sum(reshaped, axis=-1)\n",
        "        return group_sum\n",
        "\n",
        "    def get_config(self):\n",
        "        config = super(GroupSumLayer, self).get_config()\n",
        "        config.update({\"num_groups\": self.num_groups})\n",
        "        return config\n",
        "\n",
        "# Define the full KAN model architecture.\n",
        "def build_kan_model(input_dim=784, num_groups=28, num_knots=50, dropout_rate = 0.3):\n",
        "    inputs = layers.Input(shape=(input_dim,))\n",
        "\n",
        "    # \\phi transformation: apply BSplineLayer elementwise.\n",
        "    psi = BSplineLayer(num_knots=num_knots, x_min=0.0, x_max=1.0, name=\"psi_spline\")(inputs)\n",
        "\n",
        "    # Group the features into equal groups and sum them.\n",
        "    grouped = GroupSumLayer(num_groups=num_groups, name=\"group_sum\")(psi)\n",
        "\n",
        "    # Normalize the grouped features.\n",
        "    bn = layers.BatchNormalization(name=\"bn_group\")(grouped)\n",
        "\n",
        "    # Dropout for regularization\n",
        "    dropout1 = layers.Dropout(dropout_rate, name=\"dropout_after_group\")(grouped)\n",
        "\n",
        "    # \\phi transformation: apply BSplineLayer to each group's sum.\n",
        "    phi = BSplineLayer(num_knots=num_knots, x_min=0.0, x_max=grouped.shape[-1], name=\"phi_spline\")(grouped)\n",
        "\n",
        "    # Apply an activation to introduce non-linearity.\n",
        "    act = layers.Activation(\"relu\", name=\"activation_after_phi\")(phi)\n",
        "\n",
        "    # Flatten the output and add dense layers to improve accuracy\n",
        "    flatten = layers.Flatten()(phi)\n",
        "    dense1 = layers.Dense(128, activation='relu', name=\"dense_1\")(flatten)\n",
        "    dropout2 = layers.Dropout(dropout_rate, name=\"dropout_before_dense\")(dense1)\n",
        "    dense2 = layers.Dense(64, activation='relu', name=\"dense_2\")(dropout2)\n",
        "\n",
        "    outputs = layers.Dense(10, activation=\"softmax\", name=\"output\")(dense2)\n",
        "\n",
        "    model = models.Model(inputs=inputs, outputs=outputs, name=\"Spline_Based_KAN\")\n",
        "    return model\n",
        "\n",
        "# Build the model\n",
        "model = build_kan_model()\n",
        "model.summary()"
      ]
    },
    {
      "cell_type": "code",
      "execution_count": 69,
      "id": "3d55d93b",
      "metadata": {
        "colab": {
          "base_uri": "https://localhost:8080/",
          "height": 0
        },
        "id": "3d55d93b",
        "outputId": "1444680c-9f36-4cb1-eb37-3f47bb0d05ad"
      },
      "outputs": [
        {
          "output_type": "stream",
          "name": "stdout",
          "text": [
            "Epoch 1/50\n",
            "\u001b[1m784/788\u001b[0m \u001b[32m━━━━━━━━━━━━━━━━━━━\u001b[0m\u001b[37m━\u001b[0m \u001b[1m0s\u001b[0m 6ms/step - accuracy: 0.1122 - loss: 2.3015\n",
            "Epoch 1: val_loss improved from inf to 2.30192, saving model to best_kan_model.h5\n"
          ]
        },
        {
          "output_type": "stream",
          "name": "stderr",
          "text": [
            "WARNING:absl:You are saving your model as an HDF5 file via `model.save()` or `keras.saving.save_model(model)`. This file format is considered legacy. We recommend using instead the native Keras format, e.g. `model.save('my_model.keras')` or `keras.saving.save_model(model, 'my_model.keras')`. \n"
          ]
        },
        {
          "output_type": "stream",
          "name": "stdout",
          "text": [
            "\b\b\b\b\b\b\b\b\b\b\b\b\b\b\b\b\b\b\b\b\b\b\b\b\b\b\b\b\b\b\b\b\b\b\b\b\b\b\b\b\b\b\b\b\b\b\b\b\b\b\b\b\b\b\b\b\b\b\b\b\b\b\b\b\b\b\b\b\b\b\b\b\b\b\r\u001b[1m788/788\u001b[0m \u001b[32m━━━━━━━━━━━━━━━━━━━━\u001b[0m\u001b[37m\u001b[0m \u001b[1m7s\u001b[0m 7ms/step - accuracy: 0.1122 - loss: 2.3015 - val_accuracy: 0.1101 - val_loss: 2.3019\n",
            "Epoch 2/50\n",
            "\u001b[1m786/788\u001b[0m \u001b[32m━━━━━━━━━━━━━━━━━━━\u001b[0m\u001b[37m━\u001b[0m \u001b[1m0s\u001b[0m 6ms/step - accuracy: 0.1139 - loss: 2.3008\n",
            "Epoch 2: val_loss improved from 2.30192 to 1.14217, saving model to best_kan_model.h5\n"
          ]
        },
        {
          "output_type": "stream",
          "name": "stderr",
          "text": [
            "WARNING:absl:You are saving your model as an HDF5 file via `model.save()` or `keras.saving.save_model(model)`. This file format is considered legacy. We recommend using instead the native Keras format, e.g. `model.save('my_model.keras')` or `keras.saving.save_model(model, 'my_model.keras')`. \n"
          ]
        },
        {
          "output_type": "stream",
          "name": "stdout",
          "text": [
            "\b\b\b\b\b\b\b\b\b\b\b\b\b\b\b\b\b\b\b\b\b\b\b\b\b\b\b\b\b\b\b\b\b\b\b\b\b\b\b\b\b\b\b\b\b\b\b\b\b\b\b\b\b\b\b\b\b\b\b\b\b\b\b\b\b\b\b\b\b\b\b\b\b\b\r\u001b[1m788/788\u001b[0m \u001b[32m━━━━━━━━━━━━━━━━━━━━\u001b[0m\u001b[37m\u001b[0m \u001b[1m5s\u001b[0m 7ms/step - accuracy: 0.1139 - loss: 2.3007 - val_accuracy: 0.5975 - val_loss: 1.1422\n",
            "Epoch 3/50\n",
            "\u001b[1m782/788\u001b[0m \u001b[32m━━━━━━━━━━━━━━━━━━━\u001b[0m\u001b[37m━\u001b[0m \u001b[1m0s\u001b[0m 6ms/step - accuracy: 0.6759 - loss: 0.9126\n",
            "Epoch 3: val_loss improved from 1.14217 to 0.61703, saving model to best_kan_model.h5\n"
          ]
        },
        {
          "output_type": "stream",
          "name": "stderr",
          "text": [
            "WARNING:absl:You are saving your model as an HDF5 file via `model.save()` or `keras.saving.save_model(model)`. This file format is considered legacy. We recommend using instead the native Keras format, e.g. `model.save('my_model.keras')` or `keras.saving.save_model(model, 'my_model.keras')`. \n"
          ]
        },
        {
          "output_type": "stream",
          "name": "stdout",
          "text": [
            "\b\b\b\b\b\b\b\b\b\b\b\b\b\b\b\b\b\b\b\b\b\b\b\b\b\b\b\b\b\b\b\b\b\b\b\b\b\b\b\b\b\b\b\b\b\b\b\b\b\b\b\b\b\b\b\b\b\b\b\b\b\b\b\b\b\b\b\b\b\b\b\b\b\b\r\u001b[1m788/788\u001b[0m \u001b[32m━━━━━━━━━━━━━━━━━━━━\u001b[0m\u001b[37m\u001b[0m \u001b[1m5s\u001b[0m 7ms/step - accuracy: 0.6762 - loss: 0.9116 - val_accuracy: 0.7788 - val_loss: 0.6170\n",
            "Epoch 4/50\n",
            "\u001b[1m787/788\u001b[0m \u001b[32m━━━━━━━━━━━━━━━━━━━\u001b[0m\u001b[37m━\u001b[0m \u001b[1m0s\u001b[0m 6ms/step - accuracy: 0.7709 - loss: 0.6514\n",
            "Epoch 4: val_loss improved from 0.61703 to 0.55044, saving model to best_kan_model.h5\n"
          ]
        },
        {
          "output_type": "stream",
          "name": "stderr",
          "text": [
            "WARNING:absl:You are saving your model as an HDF5 file via `model.save()` or `keras.saving.save_model(model)`. This file format is considered legacy. We recommend using instead the native Keras format, e.g. `model.save('my_model.keras')` or `keras.saving.save_model(model, 'my_model.keras')`. \n"
          ]
        },
        {
          "output_type": "stream",
          "name": "stdout",
          "text": [
            "\b\b\b\b\b\b\b\b\b\b\b\b\b\b\b\b\b\b\b\b\b\b\b\b\b\b\b\b\b\b\b\b\b\b\b\b\b\b\b\b\b\b\b\b\b\b\b\b\b\b\b\b\b\b\b\b\b\b\b\b\b\b\b\b\b\b\b\b\b\b\b\b\b\b\r\u001b[1m788/788\u001b[0m \u001b[32m━━━━━━━━━━━━━━━━━━━━\u001b[0m\u001b[37m\u001b[0m \u001b[1m5s\u001b[0m 7ms/step - accuracy: 0.7709 - loss: 0.6514 - val_accuracy: 0.8049 - val_loss: 0.5504\n",
            "Epoch 5/50\n",
            "\u001b[1m786/788\u001b[0m \u001b[32m━━━━━━━━━━━━━━━━━━━\u001b[0m\u001b[37m━\u001b[0m \u001b[1m0s\u001b[0m 6ms/step - accuracy: 0.7904 - loss: 0.5932\n",
            "Epoch 5: val_loss improved from 0.55044 to 0.50120, saving model to best_kan_model.h5\n"
          ]
        },
        {
          "output_type": "stream",
          "name": "stderr",
          "text": [
            "WARNING:absl:You are saving your model as an HDF5 file via `model.save()` or `keras.saving.save_model(model)`. This file format is considered legacy. We recommend using instead the native Keras format, e.g. `model.save('my_model.keras')` or `keras.saving.save_model(model, 'my_model.keras')`. \n"
          ]
        },
        {
          "output_type": "stream",
          "name": "stdout",
          "text": [
            "\b\b\b\b\b\b\b\b\b\b\b\b\b\b\b\b\b\b\b\b\b\b\b\b\b\b\b\b\b\b\b\b\b\b\b\b\b\b\b\b\b\b\b\b\b\b\b\b\b\b\b\b\b\b\b\b\b\b\b\b\b\b\b\b\b\b\b\b\b\b\b\b\b\b\r\u001b[1m788/788\u001b[0m \u001b[32m━━━━━━━━━━━━━━━━━━━━\u001b[0m\u001b[37m\u001b[0m \u001b[1m5s\u001b[0m 7ms/step - accuracy: 0.7904 - loss: 0.5932 - val_accuracy: 0.8170 - val_loss: 0.5012\n",
            "Epoch 6/50\n",
            "\u001b[1m781/788\u001b[0m \u001b[32m━━━━━━━━━━━━━━━━━━━\u001b[0m\u001b[37m━\u001b[0m \u001b[1m0s\u001b[0m 6ms/step - accuracy: 0.8079 - loss: 0.5502\n",
            "Epoch 6: val_loss improved from 0.50120 to 0.47518, saving model to best_kan_model.h5\n"
          ]
        },
        {
          "output_type": "stream",
          "name": "stderr",
          "text": [
            "WARNING:absl:You are saving your model as an HDF5 file via `model.save()` or `keras.saving.save_model(model)`. This file format is considered legacy. We recommend using instead the native Keras format, e.g. `model.save('my_model.keras')` or `keras.saving.save_model(model, 'my_model.keras')`. \n"
          ]
        },
        {
          "output_type": "stream",
          "name": "stdout",
          "text": [
            "\b\b\b\b\b\b\b\b\b\b\b\b\b\b\b\b\b\b\b\b\b\b\b\b\b\b\b\b\b\b\b\b\b\b\b\b\b\b\b\b\b\b\b\b\b\b\b\b\b\b\b\b\b\b\b\b\b\b\b\b\b\b\b\b\b\b\b\b\b\b\b\b\b\b\r\u001b[1m788/788\u001b[0m \u001b[32m━━━━━━━━━━━━━━━━━━━━\u001b[0m\u001b[37m\u001b[0m \u001b[1m5s\u001b[0m 7ms/step - accuracy: 0.8079 - loss: 0.5502 - val_accuracy: 0.8338 - val_loss: 0.4752\n",
            "Epoch 7/50\n",
            "\u001b[1m788/788\u001b[0m \u001b[32m━━━━━━━━━━━━━━━━━━━━\u001b[0m\u001b[37m\u001b[0m \u001b[1m0s\u001b[0m 6ms/step - accuracy: 0.8166 - loss: 0.5297\n",
            "Epoch 7: val_loss did not improve from 0.47518\n",
            "\u001b[1m788/788\u001b[0m \u001b[32m━━━━━━━━━━━━━━━━━━━━\u001b[0m\u001b[37m\u001b[0m \u001b[1m5s\u001b[0m 7ms/step - accuracy: 0.8166 - loss: 0.5296 - val_accuracy: 0.8274 - val_loss: 0.4888\n",
            "Epoch 8/50\n",
            "\u001b[1m788/788\u001b[0m \u001b[32m━━━━━━━━━━━━━━━━━━━━\u001b[0m\u001b[37m\u001b[0m \u001b[1m0s\u001b[0m 6ms/step - accuracy: 0.8230 - loss: 0.5076\n",
            "Epoch 8: val_loss improved from 0.47518 to 0.44669, saving model to best_kan_model.h5\n"
          ]
        },
        {
          "output_type": "stream",
          "name": "stderr",
          "text": [
            "WARNING:absl:You are saving your model as an HDF5 file via `model.save()` or `keras.saving.save_model(model)`. This file format is considered legacy. We recommend using instead the native Keras format, e.g. `model.save('my_model.keras')` or `keras.saving.save_model(model, 'my_model.keras')`. \n"
          ]
        },
        {
          "output_type": "stream",
          "name": "stdout",
          "text": [
            "\b\b\b\b\b\b\b\b\b\b\b\b\b\b\b\b\b\b\b\b\b\b\b\b\b\b\b\b\b\b\b\b\b\b\b\b\b\b\b\b\b\b\b\b\b\b\b\b\b\b\b\b\b\b\b\b\b\b\b\b\b\b\b\b\b\b\b\b\b\b\b\b\b\b\r\u001b[1m788/788\u001b[0m \u001b[32m━━━━━━━━━━━━━━━━━━━━\u001b[0m\u001b[37m\u001b[0m \u001b[1m5s\u001b[0m 7ms/step - accuracy: 0.8230 - loss: 0.5076 - val_accuracy: 0.8396 - val_loss: 0.4467\n",
            "Epoch 9/50\n",
            "\u001b[1m784/788\u001b[0m \u001b[32m━━━━━━━━━━━━━━━━━━━\u001b[0m\u001b[37m━\u001b[0m \u001b[1m0s\u001b[0m 6ms/step - accuracy: 0.8241 - loss: 0.4991\n",
            "Epoch 9: val_loss improved from 0.44669 to 0.43625, saving model to best_kan_model.h5\n"
          ]
        },
        {
          "output_type": "stream",
          "name": "stderr",
          "text": [
            "WARNING:absl:You are saving your model as an HDF5 file via `model.save()` or `keras.saving.save_model(model)`. This file format is considered legacy. We recommend using instead the native Keras format, e.g. `model.save('my_model.keras')` or `keras.saving.save_model(model, 'my_model.keras')`. \n"
          ]
        },
        {
          "output_type": "stream",
          "name": "stdout",
          "text": [
            "\b\b\b\b\b\b\b\b\b\b\b\b\b\b\b\b\b\b\b\b\b\b\b\b\b\b\b\b\b\b\b\b\b\b\b\b\b\b\b\b\b\b\b\b\b\b\b\b\b\b\b\b\b\b\b\b\b\b\b\b\b\b\b\b\b\b\b\b\b\b\b\b\b\b\r\u001b[1m788/788\u001b[0m \u001b[32m━━━━━━━━━━━━━━━━━━━━\u001b[0m\u001b[37m\u001b[0m \u001b[1m5s\u001b[0m 7ms/step - accuracy: 0.8242 - loss: 0.4991 - val_accuracy: 0.8450 - val_loss: 0.4363\n",
            "Epoch 10/50\n",
            "\u001b[1m781/788\u001b[0m \u001b[32m━━━━━━━━━━━━━━━━━━━\u001b[0m\u001b[37m━\u001b[0m \u001b[1m0s\u001b[0m 6ms/step - accuracy: 0.8313 - loss: 0.4827\n",
            "Epoch 10: val_loss improved from 0.43625 to 0.42611, saving model to best_kan_model.h5\n"
          ]
        },
        {
          "output_type": "stream",
          "name": "stderr",
          "text": [
            "WARNING:absl:You are saving your model as an HDF5 file via `model.save()` or `keras.saving.save_model(model)`. This file format is considered legacy. We recommend using instead the native Keras format, e.g. `model.save('my_model.keras')` or `keras.saving.save_model(model, 'my_model.keras')`. \n"
          ]
        },
        {
          "output_type": "stream",
          "name": "stdout",
          "text": [
            "\b\b\b\b\b\b\b\b\b\b\b\b\b\b\b\b\b\b\b\b\b\b\b\b\b\b\b\b\b\b\b\b\b\b\b\b\b\b\b\b\b\b\b\b\b\b\b\b\b\b\b\b\b\b\b\b\b\b\b\b\b\b\b\b\b\b\b\b\b\b\b\b\b\b\r\u001b[1m788/788\u001b[0m \u001b[32m━━━━━━━━━━━━━━━━━━━━\u001b[0m\u001b[37m\u001b[0m \u001b[1m5s\u001b[0m 7ms/step - accuracy: 0.8313 - loss: 0.4827 - val_accuracy: 0.8468 - val_loss: 0.4261\n",
            "Epoch 11/50\n",
            "\u001b[1m781/788\u001b[0m \u001b[32m━━━━━━━━━━━━━━━━━━━\u001b[0m\u001b[37m━\u001b[0m \u001b[1m0s\u001b[0m 6ms/step - accuracy: 0.8367 - loss: 0.4710\n",
            "Epoch 11: val_loss did not improve from 0.42611\n",
            "\u001b[1m788/788\u001b[0m \u001b[32m━━━━━━━━━━━━━━━━━━━━\u001b[0m\u001b[37m\u001b[0m \u001b[1m5s\u001b[0m 7ms/step - accuracy: 0.8367 - loss: 0.4711 - val_accuracy: 0.8471 - val_loss: 0.4271\n",
            "Epoch 12/50\n",
            "\u001b[1m784/788\u001b[0m \u001b[32m━━━━━━━━━━━━━━━━━━━\u001b[0m\u001b[37m━\u001b[0m \u001b[1m0s\u001b[0m 6ms/step - accuracy: 0.8369 - loss: 0.4656\n",
            "Epoch 12: val_loss improved from 0.42611 to 0.41775, saving model to best_kan_model.h5\n"
          ]
        },
        {
          "output_type": "stream",
          "name": "stderr",
          "text": [
            "WARNING:absl:You are saving your model as an HDF5 file via `model.save()` or `keras.saving.save_model(model)`. This file format is considered legacy. We recommend using instead the native Keras format, e.g. `model.save('my_model.keras')` or `keras.saving.save_model(model, 'my_model.keras')`. \n"
          ]
        },
        {
          "output_type": "stream",
          "name": "stdout",
          "text": [
            "\b\b\b\b\b\b\b\b\b\b\b\b\b\b\b\b\b\b\b\b\b\b\b\b\b\b\b\b\b\b\b\b\b\b\b\b\b\b\b\b\b\b\b\b\b\b\b\b\b\b\b\b\b\b\b\b\b\b\b\b\b\b\b\b\b\b\b\b\b\b\b\b\b\b\r\u001b[1m788/788\u001b[0m \u001b[32m━━━━━━━━━━━━━━━━━━━━\u001b[0m\u001b[37m\u001b[0m \u001b[1m5s\u001b[0m 7ms/step - accuracy: 0.8369 - loss: 0.4656 - val_accuracy: 0.8529 - val_loss: 0.4178\n",
            "Epoch 13/50\n",
            "\u001b[1m785/788\u001b[0m \u001b[32m━━━━━━━━━━━━━━━━━━━\u001b[0m\u001b[37m━\u001b[0m \u001b[1m0s\u001b[0m 6ms/step - accuracy: 0.8405 - loss: 0.4585\n",
            "Epoch 13: val_loss improved from 0.41775 to 0.40610, saving model to best_kan_model.h5\n"
          ]
        },
        {
          "output_type": "stream",
          "name": "stderr",
          "text": [
            "WARNING:absl:You are saving your model as an HDF5 file via `model.save()` or `keras.saving.save_model(model)`. This file format is considered legacy. We recommend using instead the native Keras format, e.g. `model.save('my_model.keras')` or `keras.saving.save_model(model, 'my_model.keras')`. \n"
          ]
        },
        {
          "output_type": "stream",
          "name": "stdout",
          "text": [
            "\b\b\b\b\b\b\b\b\b\b\b\b\b\b\b\b\b\b\b\b\b\b\b\b\b\b\b\b\b\b\b\b\b\b\b\b\b\b\b\b\b\b\b\b\b\b\b\b\b\b\b\b\b\b\b\b\b\b\b\b\b\b\b\b\b\b\b\b\b\b\b\b\b\b\r\u001b[1m788/788\u001b[0m \u001b[32m━━━━━━━━━━━━━━━━━━━━\u001b[0m\u001b[37m\u001b[0m \u001b[1m5s\u001b[0m 7ms/step - accuracy: 0.8405 - loss: 0.4585 - val_accuracy: 0.8551 - val_loss: 0.4061\n",
            "Epoch 14/50\n",
            "\u001b[1m783/788\u001b[0m \u001b[32m━━━━━━━━━━━━━━━━━━━\u001b[0m\u001b[37m━\u001b[0m \u001b[1m0s\u001b[0m 6ms/step - accuracy: 0.8455 - loss: 0.4452\n",
            "Epoch 14: val_loss improved from 0.40610 to 0.40279, saving model to best_kan_model.h5\n"
          ]
        },
        {
          "output_type": "stream",
          "name": "stderr",
          "text": [
            "WARNING:absl:You are saving your model as an HDF5 file via `model.save()` or `keras.saving.save_model(model)`. This file format is considered legacy. We recommend using instead the native Keras format, e.g. `model.save('my_model.keras')` or `keras.saving.save_model(model, 'my_model.keras')`. \n"
          ]
        },
        {
          "output_type": "stream",
          "name": "stdout",
          "text": [
            "\b\b\b\b\b\b\b\b\b\b\b\b\b\b\b\b\b\b\b\b\b\b\b\b\b\b\b\b\b\b\b\b\b\b\b\b\b\b\b\b\b\b\b\b\b\b\b\b\b\b\b\b\b\b\b\b\b\b\b\b\b\b\b\b\b\b\b\b\b\b\b\b\b\b\r\u001b[1m788/788\u001b[0m \u001b[32m━━━━━━━━━━━━━━━━━━━━\u001b[0m\u001b[37m\u001b[0m \u001b[1m5s\u001b[0m 7ms/step - accuracy: 0.8454 - loss: 0.4452 - val_accuracy: 0.8555 - val_loss: 0.4028\n",
            "Epoch 15/50\n",
            "\u001b[1m783/788\u001b[0m \u001b[32m━━━━━━━━━━━━━━━━━━━\u001b[0m\u001b[37m━\u001b[0m \u001b[1m0s\u001b[0m 6ms/step - accuracy: 0.8414 - loss: 0.4461\n",
            "Epoch 15: val_loss improved from 0.40279 to 0.39608, saving model to best_kan_model.h5\n"
          ]
        },
        {
          "output_type": "stream",
          "name": "stderr",
          "text": [
            "WARNING:absl:You are saving your model as an HDF5 file via `model.save()` or `keras.saving.save_model(model)`. This file format is considered legacy. We recommend using instead the native Keras format, e.g. `model.save('my_model.keras')` or `keras.saving.save_model(model, 'my_model.keras')`. \n"
          ]
        },
        {
          "output_type": "stream",
          "name": "stdout",
          "text": [
            "\b\b\b\b\b\b\b\b\b\b\b\b\b\b\b\b\b\b\b\b\b\b\b\b\b\b\b\b\b\b\b\b\b\b\b\b\b\b\b\b\b\b\b\b\b\b\b\b\b\b\b\b\b\b\b\b\b\b\b\b\b\b\b\b\b\b\b\b\b\b\b\b\b\b\r\u001b[1m788/788\u001b[0m \u001b[32m━━━━━━━━━━━━━━━━━━━━\u001b[0m\u001b[37m\u001b[0m \u001b[1m5s\u001b[0m 7ms/step - accuracy: 0.8414 - loss: 0.4461 - val_accuracy: 0.8579 - val_loss: 0.3961\n",
            "Epoch 16/50\n",
            "\u001b[1m786/788\u001b[0m \u001b[32m━━━━━━━━━━━━━━━━━━━\u001b[0m\u001b[37m━\u001b[0m \u001b[1m0s\u001b[0m 6ms/step - accuracy: 0.8423 - loss: 0.4452\n",
            "Epoch 16: val_loss improved from 0.39608 to 0.39308, saving model to best_kan_model.h5\n"
          ]
        },
        {
          "output_type": "stream",
          "name": "stderr",
          "text": [
            "WARNING:absl:You are saving your model as an HDF5 file via `model.save()` or `keras.saving.save_model(model)`. This file format is considered legacy. We recommend using instead the native Keras format, e.g. `model.save('my_model.keras')` or `keras.saving.save_model(model, 'my_model.keras')`. \n"
          ]
        },
        {
          "output_type": "stream",
          "name": "stdout",
          "text": [
            "\b\b\b\b\b\b\b\b\b\b\b\b\b\b\b\b\b\b\b\b\b\b\b\b\b\b\b\b\b\b\b\b\b\b\b\b\b\b\b\b\b\b\b\b\b\b\b\b\b\b\b\b\b\b\b\b\b\b\b\b\b\b\b\b\b\b\b\b\b\b\b\b\b\b\r\u001b[1m788/788\u001b[0m \u001b[32m━━━━━━━━━━━━━━━━━━━━\u001b[0m\u001b[37m\u001b[0m \u001b[1m5s\u001b[0m 7ms/step - accuracy: 0.8423 - loss: 0.4452 - val_accuracy: 0.8616 - val_loss: 0.3931\n",
            "Epoch 17/50\n",
            "\u001b[1m787/788\u001b[0m \u001b[32m━━━━━━━━━━━━━━━━━━━\u001b[0m\u001b[37m━\u001b[0m \u001b[1m0s\u001b[0m 6ms/step - accuracy: 0.8456 - loss: 0.4367\n",
            "Epoch 17: val_loss improved from 0.39308 to 0.39146, saving model to best_kan_model.h5\n"
          ]
        },
        {
          "output_type": "stream",
          "name": "stderr",
          "text": [
            "WARNING:absl:You are saving your model as an HDF5 file via `model.save()` or `keras.saving.save_model(model)`. This file format is considered legacy. We recommend using instead the native Keras format, e.g. `model.save('my_model.keras')` or `keras.saving.save_model(model, 'my_model.keras')`. \n"
          ]
        },
        {
          "output_type": "stream",
          "name": "stdout",
          "text": [
            "\b\b\b\b\b\b\b\b\b\b\b\b\b\b\b\b\b\b\b\b\b\b\b\b\b\b\b\b\b\b\b\b\b\b\b\b\b\b\b\b\b\b\b\b\b\b\b\b\b\b\b\b\b\b\b\b\b\b\b\b\b\b\b\b\b\b\b\b\b\b\b\b\b\b\r\u001b[1m788/788\u001b[0m \u001b[32m━━━━━━━━━━━━━━━━━━━━\u001b[0m\u001b[37m\u001b[0m \u001b[1m5s\u001b[0m 7ms/step - accuracy: 0.8456 - loss: 0.4367 - val_accuracy: 0.8604 - val_loss: 0.3915\n",
            "Epoch 18/50\n",
            "\u001b[1m787/788\u001b[0m \u001b[32m━━━━━━━━━━━━━━━━━━━\u001b[0m\u001b[37m━\u001b[0m \u001b[1m0s\u001b[0m 6ms/step - accuracy: 0.8493 - loss: 0.4278\n",
            "Epoch 18: val_loss improved from 0.39146 to 0.38609, saving model to best_kan_model.h5\n"
          ]
        },
        {
          "output_type": "stream",
          "name": "stderr",
          "text": [
            "WARNING:absl:You are saving your model as an HDF5 file via `model.save()` or `keras.saving.save_model(model)`. This file format is considered legacy. We recommend using instead the native Keras format, e.g. `model.save('my_model.keras')` or `keras.saving.save_model(model, 'my_model.keras')`. \n"
          ]
        },
        {
          "output_type": "stream",
          "name": "stdout",
          "text": [
            "\b\b\b\b\b\b\b\b\b\b\b\b\b\b\b\b\b\b\b\b\b\b\b\b\b\b\b\b\b\b\b\b\b\b\b\b\b\b\b\b\b\b\b\b\b\b\b\b\b\b\b\b\b\b\b\b\b\b\b\b\b\b\b\b\b\b\b\b\b\b\b\b\b\b\r\u001b[1m788/788\u001b[0m \u001b[32m━━━━━━━━━━━━━━━━━━━━\u001b[0m\u001b[37m\u001b[0m \u001b[1m5s\u001b[0m 7ms/step - accuracy: 0.8493 - loss: 0.4278 - val_accuracy: 0.8602 - val_loss: 0.3861\n",
            "Epoch 19/50\n",
            "\u001b[1m779/788\u001b[0m \u001b[32m━━━━━━━━━━━━━━━━━━━\u001b[0m\u001b[37m━\u001b[0m \u001b[1m0s\u001b[0m 6ms/step - accuracy: 0.8526 - loss: 0.4221\n",
            "Epoch 19: val_loss did not improve from 0.38609\n",
            "\u001b[1m788/788\u001b[0m \u001b[32m━━━━━━━━━━━━━━━━━━━━\u001b[0m\u001b[37m\u001b[0m \u001b[1m5s\u001b[0m 7ms/step - accuracy: 0.8525 - loss: 0.4222 - val_accuracy: 0.8626 - val_loss: 0.3883\n",
            "Epoch 20/50\n",
            "\u001b[1m785/788\u001b[0m \u001b[32m━━━━━━━━━━━━━━━━━━━\u001b[0m\u001b[37m━\u001b[0m \u001b[1m0s\u001b[0m 6ms/step - accuracy: 0.8474 - loss: 0.4323\n",
            "Epoch 20: val_loss improved from 0.38609 to 0.38356, saving model to best_kan_model.h5\n"
          ]
        },
        {
          "output_type": "stream",
          "name": "stderr",
          "text": [
            "WARNING:absl:You are saving your model as an HDF5 file via `model.save()` or `keras.saving.save_model(model)`. This file format is considered legacy. We recommend using instead the native Keras format, e.g. `model.save('my_model.keras')` or `keras.saving.save_model(model, 'my_model.keras')`. \n"
          ]
        },
        {
          "output_type": "stream",
          "name": "stdout",
          "text": [
            "\b\b\b\b\b\b\b\b\b\b\b\b\b\b\b\b\b\b\b\b\b\b\b\b\b\b\b\b\b\b\b\b\b\b\b\b\b\b\b\b\b\b\b\b\b\b\b\b\b\b\b\b\b\b\b\b\b\b\b\b\b\b\b\b\b\b\b\b\b\b\b\b\b\b\r\u001b[1m788/788\u001b[0m \u001b[32m━━━━━━━━━━━━━━━━━━━━\u001b[0m\u001b[37m\u001b[0m \u001b[1m5s\u001b[0m 7ms/step - accuracy: 0.8474 - loss: 0.4323 - val_accuracy: 0.8604 - val_loss: 0.3836\n",
            "Epoch 21/50\n",
            "\u001b[1m779/788\u001b[0m \u001b[32m━━━━━━━━━━━━━━━━━━━\u001b[0m\u001b[37m━\u001b[0m \u001b[1m0s\u001b[0m 6ms/step - accuracy: 0.8507 - loss: 0.4197\n",
            "Epoch 21: val_loss improved from 0.38356 to 0.37986, saving model to best_kan_model.h5\n"
          ]
        },
        {
          "output_type": "stream",
          "name": "stderr",
          "text": [
            "WARNING:absl:You are saving your model as an HDF5 file via `model.save()` or `keras.saving.save_model(model)`. This file format is considered legacy. We recommend using instead the native Keras format, e.g. `model.save('my_model.keras')` or `keras.saving.save_model(model, 'my_model.keras')`. \n"
          ]
        },
        {
          "output_type": "stream",
          "name": "stdout",
          "text": [
            "\b\b\b\b\b\b\b\b\b\b\b\b\b\b\b\b\b\b\b\b\b\b\b\b\b\b\b\b\b\b\b\b\b\b\b\b\b\b\b\b\b\b\b\b\b\b\b\b\b\b\b\b\b\b\b\b\b\b\b\b\b\b\b\b\b\b\b\b\b\b\b\b\b\b\r\u001b[1m788/788\u001b[0m \u001b[32m━━━━━━━━━━━━━━━━━━━━\u001b[0m\u001b[37m\u001b[0m \u001b[1m5s\u001b[0m 7ms/step - accuracy: 0.8507 - loss: 0.4197 - val_accuracy: 0.8602 - val_loss: 0.3799\n",
            "Epoch 22/50\n",
            "\u001b[1m778/788\u001b[0m \u001b[32m━━━━━━━━━━━━━━━━━━━\u001b[0m\u001b[37m━\u001b[0m \u001b[1m0s\u001b[0m 6ms/step - accuracy: 0.8530 - loss: 0.4125\n",
            "Epoch 22: val_loss did not improve from 0.37986\n",
            "\u001b[1m788/788\u001b[0m \u001b[32m━━━━━━━━━━━━━━━━━━━━\u001b[0m\u001b[37m\u001b[0m \u001b[1m5s\u001b[0m 7ms/step - accuracy: 0.8529 - loss: 0.4126 - val_accuracy: 0.8604 - val_loss: 0.3833\n",
            "Epoch 23/50\n",
            "\u001b[1m784/788\u001b[0m \u001b[32m━━━━━━━━━━━━━━━━━━━\u001b[0m\u001b[37m━\u001b[0m \u001b[1m0s\u001b[0m 6ms/step - accuracy: 0.8522 - loss: 0.4169\n",
            "Epoch 23: val_loss improved from 0.37986 to 0.37597, saving model to best_kan_model.h5\n"
          ]
        },
        {
          "output_type": "stream",
          "name": "stderr",
          "text": [
            "WARNING:absl:You are saving your model as an HDF5 file via `model.save()` or `keras.saving.save_model(model)`. This file format is considered legacy. We recommend using instead the native Keras format, e.g. `model.save('my_model.keras')` or `keras.saving.save_model(model, 'my_model.keras')`. \n"
          ]
        },
        {
          "output_type": "stream",
          "name": "stdout",
          "text": [
            "\b\b\b\b\b\b\b\b\b\b\b\b\b\b\b\b\b\b\b\b\b\b\b\b\b\b\b\b\b\b\b\b\b\b\b\b\b\b\b\b\b\b\b\b\b\b\b\b\b\b\b\b\b\b\b\b\b\b\b\b\b\b\b\b\b\b\b\b\b\b\b\b\b\b\r\u001b[1m788/788\u001b[0m \u001b[32m━━━━━━━━━━━━━━━━━━━━\u001b[0m\u001b[37m\u001b[0m \u001b[1m5s\u001b[0m 7ms/step - accuracy: 0.8522 - loss: 0.4169 - val_accuracy: 0.8650 - val_loss: 0.3760\n",
            "Epoch 24/50\n",
            "\u001b[1m782/788\u001b[0m \u001b[32m━━━━━━━━━━━━━━━━━━━\u001b[0m\u001b[37m━\u001b[0m \u001b[1m0s\u001b[0m 6ms/step - accuracy: 0.8536 - loss: 0.4097\n",
            "Epoch 24: val_loss improved from 0.37597 to 0.37451, saving model to best_kan_model.h5\n"
          ]
        },
        {
          "output_type": "stream",
          "name": "stderr",
          "text": [
            "WARNING:absl:You are saving your model as an HDF5 file via `model.save()` or `keras.saving.save_model(model)`. This file format is considered legacy. We recommend using instead the native Keras format, e.g. `model.save('my_model.keras')` or `keras.saving.save_model(model, 'my_model.keras')`. \n"
          ]
        },
        {
          "output_type": "stream",
          "name": "stdout",
          "text": [
            "\b\b\b\b\b\b\b\b\b\b\b\b\b\b\b\b\b\b\b\b\b\b\b\b\b\b\b\b\b\b\b\b\b\b\b\b\b\b\b\b\b\b\b\b\b\b\b\b\b\b\b\b\b\b\b\b\b\b\b\b\b\b\b\b\b\b\b\b\b\b\b\b\b\b\r\u001b[1m788/788\u001b[0m \u001b[32m━━━━━━━━━━━━━━━━━━━━\u001b[0m\u001b[37m\u001b[0m \u001b[1m5s\u001b[0m 7ms/step - accuracy: 0.8536 - loss: 0.4097 - val_accuracy: 0.8650 - val_loss: 0.3745\n",
            "Epoch 25/50\n",
            "\u001b[1m781/788\u001b[0m \u001b[32m━━━━━━━━━━━━━━━━━━━\u001b[0m\u001b[37m━\u001b[0m \u001b[1m0s\u001b[0m 6ms/step - accuracy: 0.8538 - loss: 0.4106\n",
            "Epoch 25: val_loss improved from 0.37451 to 0.37391, saving model to best_kan_model.h5\n"
          ]
        },
        {
          "output_type": "stream",
          "name": "stderr",
          "text": [
            "WARNING:absl:You are saving your model as an HDF5 file via `model.save()` or `keras.saving.save_model(model)`. This file format is considered legacy. We recommend using instead the native Keras format, e.g. `model.save('my_model.keras')` or `keras.saving.save_model(model, 'my_model.keras')`. \n"
          ]
        },
        {
          "output_type": "stream",
          "name": "stdout",
          "text": [
            "\b\b\b\b\b\b\b\b\b\b\b\b\b\b\b\b\b\b\b\b\b\b\b\b\b\b\b\b\b\b\b\b\b\b\b\b\b\b\b\b\b\b\b\b\b\b\b\b\b\b\b\b\b\b\b\b\b\b\b\b\b\b\b\b\b\b\b\b\b\b\b\b\b\b\r\u001b[1m788/788\u001b[0m \u001b[32m━━━━━━━━━━━━━━━━━━━━\u001b[0m\u001b[37m\u001b[0m \u001b[1m5s\u001b[0m 7ms/step - accuracy: 0.8538 - loss: 0.4106 - val_accuracy: 0.8656 - val_loss: 0.3739\n",
            "Epoch 26/50\n",
            "\u001b[1m784/788\u001b[0m \u001b[32m━━━━━━━━━━━━━━━━━━━\u001b[0m\u001b[37m━\u001b[0m \u001b[1m0s\u001b[0m 6ms/step - accuracy: 0.8555 - loss: 0.4115\n",
            "Epoch 26: val_loss improved from 0.37391 to 0.37140, saving model to best_kan_model.h5\n"
          ]
        },
        {
          "output_type": "stream",
          "name": "stderr",
          "text": [
            "WARNING:absl:You are saving your model as an HDF5 file via `model.save()` or `keras.saving.save_model(model)`. This file format is considered legacy. We recommend using instead the native Keras format, e.g. `model.save('my_model.keras')` or `keras.saving.save_model(model, 'my_model.keras')`. \n"
          ]
        },
        {
          "output_type": "stream",
          "name": "stdout",
          "text": [
            "\b\b\b\b\b\b\b\b\b\b\b\b\b\b\b\b\b\b\b\b\b\b\b\b\b\b\b\b\b\b\b\b\b\b\b\b\b\b\b\b\b\b\b\b\b\b\b\b\b\b\b\b\b\b\b\b\b\b\b\b\b\b\b\b\b\b\b\b\b\b\b\b\b\b\r\u001b[1m788/788\u001b[0m \u001b[32m━━━━━━━━━━━━━━━━━━━━\u001b[0m\u001b[37m\u001b[0m \u001b[1m5s\u001b[0m 7ms/step - accuracy: 0.8555 - loss: 0.4114 - val_accuracy: 0.8648 - val_loss: 0.3714\n",
            "Epoch 27/50\n",
            "\u001b[1m782/788\u001b[0m \u001b[32m━━━━━━━━━━━━━━━━━━━\u001b[0m\u001b[37m━\u001b[0m \u001b[1m0s\u001b[0m 6ms/step - accuracy: 0.8549 - loss: 0.4126\n",
            "Epoch 27: val_loss improved from 0.37140 to 0.37099, saving model to best_kan_model.h5\n"
          ]
        },
        {
          "output_type": "stream",
          "name": "stderr",
          "text": [
            "WARNING:absl:You are saving your model as an HDF5 file via `model.save()` or `keras.saving.save_model(model)`. This file format is considered legacy. We recommend using instead the native Keras format, e.g. `model.save('my_model.keras')` or `keras.saving.save_model(model, 'my_model.keras')`. \n"
          ]
        },
        {
          "output_type": "stream",
          "name": "stdout",
          "text": [
            "\b\b\b\b\b\b\b\b\b\b\b\b\b\b\b\b\b\b\b\b\b\b\b\b\b\b\b\b\b\b\b\b\b\b\b\b\b\b\b\b\b\b\b\b\b\b\b\b\b\b\b\b\b\b\b\b\b\b\b\b\b\b\b\b\b\b\b\b\b\b\b\b\b\b\r\u001b[1m788/788\u001b[0m \u001b[32m━━━━━━━━━━━━━━━━━━━━\u001b[0m\u001b[37m\u001b[0m \u001b[1m5s\u001b[0m 7ms/step - accuracy: 0.8549 - loss: 0.4125 - val_accuracy: 0.8660 - val_loss: 0.3710\n",
            "Epoch 28/50\n",
            "\u001b[1m785/788\u001b[0m \u001b[32m━━━━━━━━━━━━━━━━━━━\u001b[0m\u001b[37m━\u001b[0m \u001b[1m0s\u001b[0m 6ms/step - accuracy: 0.8566 - loss: 0.4016\n",
            "Epoch 28: val_loss improved from 0.37099 to 0.36839, saving model to best_kan_model.h5\n"
          ]
        },
        {
          "output_type": "stream",
          "name": "stderr",
          "text": [
            "WARNING:absl:You are saving your model as an HDF5 file via `model.save()` or `keras.saving.save_model(model)`. This file format is considered legacy. We recommend using instead the native Keras format, e.g. `model.save('my_model.keras')` or `keras.saving.save_model(model, 'my_model.keras')`. \n"
          ]
        },
        {
          "output_type": "stream",
          "name": "stdout",
          "text": [
            "\b\b\b\b\b\b\b\b\b\b\b\b\b\b\b\b\b\b\b\b\b\b\b\b\b\b\b\b\b\b\b\b\b\b\b\b\b\b\b\b\b\b\b\b\b\b\b\b\b\b\b\b\b\b\b\b\b\b\b\b\b\b\b\b\b\b\b\b\b\b\b\b\b\b\r\u001b[1m788/788\u001b[0m \u001b[32m━━━━━━━━━━━━━━━━━━━━\u001b[0m\u001b[37m\u001b[0m \u001b[1m5s\u001b[0m 7ms/step - accuracy: 0.8566 - loss: 0.4016 - val_accuracy: 0.8680 - val_loss: 0.3684\n",
            "Epoch 29/50\n",
            "\u001b[1m782/788\u001b[0m \u001b[32m━━━━━━━━━━━━━━━━━━━\u001b[0m\u001b[37m━\u001b[0m \u001b[1m0s\u001b[0m 6ms/step - accuracy: 0.8588 - loss: 0.3958\n",
            "Epoch 29: val_loss improved from 0.36839 to 0.36277, saving model to best_kan_model.h5\n"
          ]
        },
        {
          "output_type": "stream",
          "name": "stderr",
          "text": [
            "WARNING:absl:You are saving your model as an HDF5 file via `model.save()` or `keras.saving.save_model(model)`. This file format is considered legacy. We recommend using instead the native Keras format, e.g. `model.save('my_model.keras')` or `keras.saving.save_model(model, 'my_model.keras')`. \n"
          ]
        },
        {
          "output_type": "stream",
          "name": "stdout",
          "text": [
            "\b\b\b\b\b\b\b\b\b\b\b\b\b\b\b\b\b\b\b\b\b\b\b\b\b\b\b\b\b\b\b\b\b\b\b\b\b\b\b\b\b\b\b\b\b\b\b\b\b\b\b\b\b\b\b\b\b\b\b\b\b\b\b\b\b\b\b\b\b\b\b\b\b\b\r\u001b[1m788/788\u001b[0m \u001b[32m━━━━━━━━━━━━━━━━━━━━\u001b[0m\u001b[37m\u001b[0m \u001b[1m5s\u001b[0m 7ms/step - accuracy: 0.8589 - loss: 0.3958 - val_accuracy: 0.8678 - val_loss: 0.3628\n",
            "Epoch 30/50\n",
            "\u001b[1m788/788\u001b[0m \u001b[32m━━━━━━━━━━━━━━━━━━━━\u001b[0m\u001b[37m\u001b[0m \u001b[1m0s\u001b[0m 6ms/step - accuracy: 0.8569 - loss: 0.3992\n",
            "Epoch 30: val_loss did not improve from 0.36277\n",
            "\u001b[1m788/788\u001b[0m \u001b[32m━━━━━━━━━━━━━━━━━━━━\u001b[0m\u001b[37m\u001b[0m \u001b[1m5s\u001b[0m 7ms/step - accuracy: 0.8570 - loss: 0.3992 - val_accuracy: 0.8698 - val_loss: 0.3628\n",
            "Epoch 31/50\n",
            "\u001b[1m787/788\u001b[0m \u001b[32m━━━━━━━━━━━━━━━━━━━\u001b[0m\u001b[37m━\u001b[0m \u001b[1m0s\u001b[0m 6ms/step - accuracy: 0.8560 - loss: 0.3964\n",
            "Epoch 31: val_loss did not improve from 0.36277\n",
            "\u001b[1m788/788\u001b[0m \u001b[32m━━━━━━━━━━━━━━━━━━━━\u001b[0m\u001b[37m\u001b[0m \u001b[1m5s\u001b[0m 7ms/step - accuracy: 0.8560 - loss: 0.3964 - val_accuracy: 0.8670 - val_loss: 0.3713\n",
            "Epoch 32/50\n",
            "\u001b[1m787/788\u001b[0m \u001b[32m━━━━━━━━━━━━━━━━━━━\u001b[0m\u001b[37m━\u001b[0m \u001b[1m0s\u001b[0m 6ms/step - accuracy: 0.8616 - loss: 0.3909\n",
            "Epoch 32: val_loss did not improve from 0.36277\n",
            "\u001b[1m788/788\u001b[0m \u001b[32m━━━━━━━━━━━━━━━━━━━━\u001b[0m\u001b[37m\u001b[0m \u001b[1m5s\u001b[0m 7ms/step - accuracy: 0.8616 - loss: 0.3909 - val_accuracy: 0.8682 - val_loss: 0.3638\n",
            "Epoch 33/50\n",
            "\u001b[1m787/788\u001b[0m \u001b[32m━━━━━━━━━━━━━━━━━━━\u001b[0m\u001b[37m━\u001b[0m \u001b[1m0s\u001b[0m 6ms/step - accuracy: 0.8604 - loss: 0.3947\n",
            "Epoch 33: val_loss improved from 0.36277 to 0.35611, saving model to best_kan_model.h5\n"
          ]
        },
        {
          "output_type": "stream",
          "name": "stderr",
          "text": [
            "WARNING:absl:You are saving your model as an HDF5 file via `model.save()` or `keras.saving.save_model(model)`. This file format is considered legacy. We recommend using instead the native Keras format, e.g. `model.save('my_model.keras')` or `keras.saving.save_model(model, 'my_model.keras')`. \n"
          ]
        },
        {
          "output_type": "stream",
          "name": "stdout",
          "text": [
            "\b\b\b\b\b\b\b\b\b\b\b\b\b\b\b\b\b\b\b\b\b\b\b\b\b\b\b\b\b\b\b\b\b\b\b\b\b\b\b\b\b\b\b\b\b\b\b\b\b\b\b\b\b\b\b\b\b\b\b\b\b\b\b\b\b\b\b\b\b\b\b\b\b\b\r\u001b[1m788/788\u001b[0m \u001b[32m━━━━━━━━━━━━━━━━━━━━\u001b[0m\u001b[37m\u001b[0m \u001b[1m5s\u001b[0m 7ms/step - accuracy: 0.8604 - loss: 0.3947 - val_accuracy: 0.8709 - val_loss: 0.3561\n",
            "Epoch 34/50\n",
            "\u001b[1m778/788\u001b[0m \u001b[32m━━━━━━━━━━━━━━━━━━━\u001b[0m\u001b[37m━\u001b[0m \u001b[1m0s\u001b[0m 6ms/step - accuracy: 0.8632 - loss: 0.3919\n",
            "Epoch 34: val_loss did not improve from 0.35611\n",
            "\u001b[1m788/788\u001b[0m \u001b[32m━━━━━━━━━━━━━━━━━━━━\u001b[0m\u001b[37m\u001b[0m \u001b[1m5s\u001b[0m 7ms/step - accuracy: 0.8632 - loss: 0.3919 - val_accuracy: 0.8716 - val_loss: 0.3569\n",
            "Epoch 35/50\n",
            "\u001b[1m779/788\u001b[0m \u001b[32m━━━━━━━━━━━━━━━━━━━\u001b[0m\u001b[37m━\u001b[0m \u001b[1m0s\u001b[0m 6ms/step - accuracy: 0.8632 - loss: 0.3823\n",
            "Epoch 35: val_loss improved from 0.35611 to 0.35374, saving model to best_kan_model.h5\n"
          ]
        },
        {
          "output_type": "stream",
          "name": "stderr",
          "text": [
            "WARNING:absl:You are saving your model as an HDF5 file via `model.save()` or `keras.saving.save_model(model)`. This file format is considered legacy. We recommend using instead the native Keras format, e.g. `model.save('my_model.keras')` or `keras.saving.save_model(model, 'my_model.keras')`. \n"
          ]
        },
        {
          "output_type": "stream",
          "name": "stdout",
          "text": [
            "\b\b\b\b\b\b\b\b\b\b\b\b\b\b\b\b\b\b\b\b\b\b\b\b\b\b\b\b\b\b\b\b\b\b\b\b\b\b\b\b\b\b\b\b\b\b\b\b\b\b\b\b\b\b\b\b\b\b\b\b\b\b\b\b\b\b\b\b\b\b\b\b\b\b\r\u001b[1m788/788\u001b[0m \u001b[32m━━━━━━━━━━━━━━━━━━━━\u001b[0m\u001b[37m\u001b[0m \u001b[1m5s\u001b[0m 7ms/step - accuracy: 0.8632 - loss: 0.3823 - val_accuracy: 0.8694 - val_loss: 0.3537\n",
            "Epoch 36/50\n",
            "\u001b[1m787/788\u001b[0m \u001b[32m━━━━━━━━━━━━━━━━━━━\u001b[0m\u001b[37m━\u001b[0m \u001b[1m0s\u001b[0m 6ms/step - accuracy: 0.8639 - loss: 0.3809\n",
            "Epoch 36: val_loss improved from 0.35374 to 0.35223, saving model to best_kan_model.h5\n"
          ]
        },
        {
          "output_type": "stream",
          "name": "stderr",
          "text": [
            "WARNING:absl:You are saving your model as an HDF5 file via `model.save()` or `keras.saving.save_model(model)`. This file format is considered legacy. We recommend using instead the native Keras format, e.g. `model.save('my_model.keras')` or `keras.saving.save_model(model, 'my_model.keras')`. \n"
          ]
        },
        {
          "output_type": "stream",
          "name": "stdout",
          "text": [
            "\b\b\b\b\b\b\b\b\b\b\b\b\b\b\b\b\b\b\b\b\b\b\b\b\b\b\b\b\b\b\b\b\b\b\b\b\b\b\b\b\b\b\b\b\b\b\b\b\b\b\b\b\b\b\b\b\b\b\b\b\b\b\b\b\b\b\b\b\b\b\b\b\b\b\r\u001b[1m788/788\u001b[0m \u001b[32m━━━━━━━━━━━━━━━━━━━━\u001b[0m\u001b[37m\u001b[0m \u001b[1m5s\u001b[0m 7ms/step - accuracy: 0.8639 - loss: 0.3809 - val_accuracy: 0.8761 - val_loss: 0.3522\n",
            "Epoch 37/50\n",
            "\u001b[1m779/788\u001b[0m \u001b[32m━━━━━━━━━━━━━━━━━━━\u001b[0m\u001b[37m━\u001b[0m \u001b[1m0s\u001b[0m 6ms/step - accuracy: 0.8673 - loss: 0.3711\n",
            "Epoch 37: val_loss improved from 0.35223 to 0.35163, saving model to best_kan_model.h5\n"
          ]
        },
        {
          "output_type": "stream",
          "name": "stderr",
          "text": [
            "WARNING:absl:You are saving your model as an HDF5 file via `model.save()` or `keras.saving.save_model(model)`. This file format is considered legacy. We recommend using instead the native Keras format, e.g. `model.save('my_model.keras')` or `keras.saving.save_model(model, 'my_model.keras')`. \n"
          ]
        },
        {
          "output_type": "stream",
          "name": "stdout",
          "text": [
            "\b\b\b\b\b\b\b\b\b\b\b\b\b\b\b\b\b\b\b\b\b\b\b\b\b\b\b\b\b\b\b\b\b\b\b\b\b\b\b\b\b\b\b\b\b\b\b\b\b\b\b\b\b\b\b\b\b\b\b\b\b\b\b\b\b\b\b\b\b\b\b\b\b\b\r\u001b[1m788/788\u001b[0m \u001b[32m━━━━━━━━━━━━━━━━━━━━\u001b[0m\u001b[37m\u001b[0m \u001b[1m5s\u001b[0m 7ms/step - accuracy: 0.8672 - loss: 0.3712 - val_accuracy: 0.8721 - val_loss: 0.3516\n",
            "Epoch 38/50\n",
            "\u001b[1m783/788\u001b[0m \u001b[32m━━━━━━━━━━━━━━━━━━━\u001b[0m\u001b[37m━\u001b[0m \u001b[1m0s\u001b[0m 6ms/step - accuracy: 0.8681 - loss: 0.3706\n",
            "Epoch 38: val_loss did not improve from 0.35163\n",
            "\u001b[1m788/788\u001b[0m \u001b[32m━━━━━━━━━━━━━━━━━━━━\u001b[0m\u001b[37m\u001b[0m \u001b[1m5s\u001b[0m 7ms/step - accuracy: 0.8680 - loss: 0.3707 - val_accuracy: 0.8739 - val_loss: 0.3520\n",
            "Epoch 39/50\n",
            "\u001b[1m780/788\u001b[0m \u001b[32m━━━━━━━━━━━━━━━━━━━\u001b[0m\u001b[37m━\u001b[0m \u001b[1m0s\u001b[0m 6ms/step - accuracy: 0.8631 - loss: 0.3807\n",
            "Epoch 39: val_loss improved from 0.35163 to 0.35076, saving model to best_kan_model.h5\n"
          ]
        },
        {
          "output_type": "stream",
          "name": "stderr",
          "text": [
            "WARNING:absl:You are saving your model as an HDF5 file via `model.save()` or `keras.saving.save_model(model)`. This file format is considered legacy. We recommend using instead the native Keras format, e.g. `model.save('my_model.keras')` or `keras.saving.save_model(model, 'my_model.keras')`. \n"
          ]
        },
        {
          "output_type": "stream",
          "name": "stdout",
          "text": [
            "\b\b\b\b\b\b\b\b\b\b\b\b\b\b\b\b\b\b\b\b\b\b\b\b\b\b\b\b\b\b\b\b\b\b\b\b\b\b\b\b\b\b\b\b\b\b\b\b\b\b\b\b\b\b\b\b\b\b\b\b\b\b\b\b\b\b\b\b\b\b\b\b\b\b\r\u001b[1m788/788\u001b[0m \u001b[32m━━━━━━━━━━━━━━━━━━━━\u001b[0m\u001b[37m\u001b[0m \u001b[1m5s\u001b[0m 7ms/step - accuracy: 0.8632 - loss: 0.3807 - val_accuracy: 0.8729 - val_loss: 0.3508\n",
            "Epoch 40/50\n",
            "\u001b[1m787/788\u001b[0m \u001b[32m━━━━━━━━━━━━━━━━━━━\u001b[0m\u001b[37m━\u001b[0m \u001b[1m0s\u001b[0m 6ms/step - accuracy: 0.8640 - loss: 0.3768\n",
            "Epoch 40: val_loss improved from 0.35076 to 0.34825, saving model to best_kan_model.h5\n"
          ]
        },
        {
          "output_type": "stream",
          "name": "stderr",
          "text": [
            "WARNING:absl:You are saving your model as an HDF5 file via `model.save()` or `keras.saving.save_model(model)`. This file format is considered legacy. We recommend using instead the native Keras format, e.g. `model.save('my_model.keras')` or `keras.saving.save_model(model, 'my_model.keras')`. \n"
          ]
        },
        {
          "output_type": "stream",
          "name": "stdout",
          "text": [
            "\b\b\b\b\b\b\b\b\b\b\b\b\b\b\b\b\b\b\b\b\b\b\b\b\b\b\b\b\b\b\b\b\b\b\b\b\b\b\b\b\b\b\b\b\b\b\b\b\b\b\b\b\b\b\b\b\b\b\b\b\b\b\b\b\b\b\b\b\b\b\b\b\b\b\r\u001b[1m788/788\u001b[0m \u001b[32m━━━━━━━━━━━━━━━━━━━━\u001b[0m\u001b[37m\u001b[0m \u001b[1m5s\u001b[0m 7ms/step - accuracy: 0.8640 - loss: 0.3768 - val_accuracy: 0.8728 - val_loss: 0.3483\n",
            "Epoch 41/50\n",
            "\u001b[1m788/788\u001b[0m \u001b[32m━━━━━━━━━━━━━━━━━━━━\u001b[0m\u001b[37m\u001b[0m \u001b[1m0s\u001b[0m 6ms/step - accuracy: 0.8624 - loss: 0.3796\n",
            "Epoch 41: val_loss improved from 0.34825 to 0.34658, saving model to best_kan_model.h5\n"
          ]
        },
        {
          "output_type": "stream",
          "name": "stderr",
          "text": [
            "WARNING:absl:You are saving your model as an HDF5 file via `model.save()` or `keras.saving.save_model(model)`. This file format is considered legacy. We recommend using instead the native Keras format, e.g. `model.save('my_model.keras')` or `keras.saving.save_model(model, 'my_model.keras')`. \n"
          ]
        },
        {
          "output_type": "stream",
          "name": "stdout",
          "text": [
            "\b\b\b\b\b\b\b\b\b\b\b\b\b\b\b\b\b\b\b\b\b\b\b\b\b\b\b\b\b\b\b\b\b\b\b\b\b\b\b\b\b\b\b\b\b\b\b\b\b\b\b\b\b\b\b\b\b\b\b\b\b\b\b\b\b\b\b\b\b\b\b\b\b\b\r\u001b[1m788/788\u001b[0m \u001b[32m━━━━━━━━━━━━━━━━━━━━\u001b[0m\u001b[37m\u001b[0m \u001b[1m5s\u001b[0m 7ms/step - accuracy: 0.8624 - loss: 0.3796 - val_accuracy: 0.8737 - val_loss: 0.3466\n",
            "Epoch 42/50\n",
            "\u001b[1m787/788\u001b[0m \u001b[32m━━━━━━━━━━━━━━━━━━━\u001b[0m\u001b[37m━\u001b[0m \u001b[1m0s\u001b[0m 6ms/step - accuracy: 0.8657 - loss: 0.3758\n",
            "Epoch 42: val_loss did not improve from 0.34658\n",
            "\u001b[1m788/788\u001b[0m \u001b[32m━━━━━━━━━━━━━━━━━━━━\u001b[0m\u001b[37m\u001b[0m \u001b[1m5s\u001b[0m 7ms/step - accuracy: 0.8657 - loss: 0.3758 - val_accuracy: 0.8725 - val_loss: 0.3495\n",
            "Epoch 43/50\n",
            "\u001b[1m787/788\u001b[0m \u001b[32m━━━━━━━━━━━━━━━━━━━\u001b[0m\u001b[37m━\u001b[0m \u001b[1m0s\u001b[0m 6ms/step - accuracy: 0.8665 - loss: 0.3705\n",
            "Epoch 43: val_loss improved from 0.34658 to 0.34551, saving model to best_kan_model.h5\n"
          ]
        },
        {
          "output_type": "stream",
          "name": "stderr",
          "text": [
            "WARNING:absl:You are saving your model as an HDF5 file via `model.save()` or `keras.saving.save_model(model)`. This file format is considered legacy. We recommend using instead the native Keras format, e.g. `model.save('my_model.keras')` or `keras.saving.save_model(model, 'my_model.keras')`. \n"
          ]
        },
        {
          "output_type": "stream",
          "name": "stdout",
          "text": [
            "\b\b\b\b\b\b\b\b\b\b\b\b\b\b\b\b\b\b\b\b\b\b\b\b\b\b\b\b\b\b\b\b\b\b\b\b\b\b\b\b\b\b\b\b\b\b\b\b\b\b\b\b\b\b\b\b\b\b\b\b\b\b\b\b\b\b\b\b\b\b\b\b\b\b\r\u001b[1m788/788\u001b[0m \u001b[32m━━━━━━━━━━━━━━━━━━━━\u001b[0m\u001b[37m\u001b[0m \u001b[1m5s\u001b[0m 7ms/step - accuracy: 0.8665 - loss: 0.3705 - val_accuracy: 0.8741 - val_loss: 0.3455\n",
            "Epoch 44/50\n",
            "\u001b[1m783/788\u001b[0m \u001b[32m━━━━━━━━━━━━━━━━━━━\u001b[0m\u001b[37m━\u001b[0m \u001b[1m0s\u001b[0m 6ms/step - accuracy: 0.8660 - loss: 0.3725\n",
            "Epoch 44: val_loss did not improve from 0.34551\n",
            "\u001b[1m788/788\u001b[0m \u001b[32m━━━━━━━━━━━━━━━━━━━━\u001b[0m\u001b[37m\u001b[0m \u001b[1m5s\u001b[0m 7ms/step - accuracy: 0.8660 - loss: 0.3725 - val_accuracy: 0.8748 - val_loss: 0.3507\n",
            "Epoch 45/50\n",
            "\u001b[1m784/788\u001b[0m \u001b[32m━━━━━━━━━━━━━━━━━━━\u001b[0m\u001b[37m━\u001b[0m \u001b[1m0s\u001b[0m 6ms/step - accuracy: 0.8673 - loss: 0.3693\n",
            "Epoch 45: val_loss did not improve from 0.34551\n",
            "\u001b[1m788/788\u001b[0m \u001b[32m━━━━━━━━━━━━━━━━━━━━\u001b[0m\u001b[37m\u001b[0m \u001b[1m5s\u001b[0m 7ms/step - accuracy: 0.8673 - loss: 0.3693 - val_accuracy: 0.8685 - val_loss: 0.3588\n",
            "Epoch 46/50\n",
            "\u001b[1m786/788\u001b[0m \u001b[32m━━━━━━━━━━━━━━━━━━━\u001b[0m\u001b[37m━\u001b[0m \u001b[1m0s\u001b[0m 6ms/step - accuracy: 0.8720 - loss: 0.3611\n",
            "Epoch 46: val_loss did not improve from 0.34551\n",
            "\u001b[1m788/788\u001b[0m \u001b[32m━━━━━━━━━━━━━━━━━━━━\u001b[0m\u001b[37m\u001b[0m \u001b[1m5s\u001b[0m 7ms/step - accuracy: 0.8720 - loss: 0.3611 - val_accuracy: 0.8740 - val_loss: 0.3490\n",
            "Epoch 47/50\n",
            "\u001b[1m788/788\u001b[0m \u001b[32m━━━━━━━━━━━━━━━━━━━━\u001b[0m\u001b[37m\u001b[0m \u001b[1m0s\u001b[0m 6ms/step - accuracy: 0.8666 - loss: 0.3685\n",
            "Epoch 47: val_loss improved from 0.34551 to 0.34165, saving model to best_kan_model.h5\n"
          ]
        },
        {
          "output_type": "stream",
          "name": "stderr",
          "text": [
            "WARNING:absl:You are saving your model as an HDF5 file via `model.save()` or `keras.saving.save_model(model)`. This file format is considered legacy. We recommend using instead the native Keras format, e.g. `model.save('my_model.keras')` or `keras.saving.save_model(model, 'my_model.keras')`. \n"
          ]
        },
        {
          "output_type": "stream",
          "name": "stdout",
          "text": [
            "\b\b\b\b\b\b\b\b\b\b\b\b\b\b\b\b\b\b\b\b\b\b\b\b\b\b\b\b\b\b\b\b\b\b\b\b\b\b\b\b\b\b\b\b\b\b\b\b\b\b\b\b\b\b\b\b\b\b\b\b\b\b\b\b\b\b\b\b\b\b\b\b\b\b\r\u001b[1m788/788\u001b[0m \u001b[32m━━━━━━━━━━━━━━━━━━━━\u001b[0m\u001b[37m\u001b[0m \u001b[1m5s\u001b[0m 7ms/step - accuracy: 0.8666 - loss: 0.3685 - val_accuracy: 0.8756 - val_loss: 0.3417\n",
            "Epoch 48/50\n",
            "\u001b[1m784/788\u001b[0m \u001b[32m━━━━━━━━━━━━━━━━━━━\u001b[0m\u001b[37m━\u001b[0m \u001b[1m0s\u001b[0m 6ms/step - accuracy: 0.8705 - loss: 0.3658\n",
            "Epoch 48: val_loss did not improve from 0.34165\n",
            "\u001b[1m788/788\u001b[0m \u001b[32m━━━━━━━━━━━━━━━━━━━━\u001b[0m\u001b[37m\u001b[0m \u001b[1m5s\u001b[0m 7ms/step - accuracy: 0.8705 - loss: 0.3658 - val_accuracy: 0.8764 - val_loss: 0.3430\n",
            "Epoch 49/50\n",
            "\u001b[1m787/788\u001b[0m \u001b[32m━━━━━━━━━━━━━━━━━━━\u001b[0m\u001b[37m━\u001b[0m \u001b[1m0s\u001b[0m 6ms/step - accuracy: 0.8716 - loss: 0.3562\n",
            "Epoch 49: val_loss improved from 0.34165 to 0.34151, saving model to best_kan_model.h5\n"
          ]
        },
        {
          "output_type": "stream",
          "name": "stderr",
          "text": [
            "WARNING:absl:You are saving your model as an HDF5 file via `model.save()` or `keras.saving.save_model(model)`. This file format is considered legacy. We recommend using instead the native Keras format, e.g. `model.save('my_model.keras')` or `keras.saving.save_model(model, 'my_model.keras')`. \n"
          ]
        },
        {
          "output_type": "stream",
          "name": "stdout",
          "text": [
            "\b\b\b\b\b\b\b\b\b\b\b\b\b\b\b\b\b\b\b\b\b\b\b\b\b\b\b\b\b\b\b\b\b\b\b\b\b\b\b\b\b\b\b\b\b\b\b\b\b\b\b\b\b\b\b\b\b\b\b\b\b\b\b\b\b\b\b\b\b\b\b\b\b\b\r\u001b[1m788/788\u001b[0m \u001b[32m━━━━━━━━━━━━━━━━━━━━\u001b[0m\u001b[37m\u001b[0m \u001b[1m5s\u001b[0m 7ms/step - accuracy: 0.8716 - loss: 0.3562 - val_accuracy: 0.8753 - val_loss: 0.3415\n",
            "Epoch 50/50\n",
            "\u001b[1m785/788\u001b[0m \u001b[32m━━━━━━━━━━━━━━━━━━━\u001b[0m\u001b[37m━\u001b[0m \u001b[1m0s\u001b[0m 6ms/step - accuracy: 0.8710 - loss: 0.3620\n",
            "Epoch 50: val_loss did not improve from 0.34151\n",
            "\u001b[1m788/788\u001b[0m \u001b[32m━━━━━━━━━━━━━━━━━━━━\u001b[0m\u001b[37m\u001b[0m \u001b[1m5s\u001b[0m 7ms/step - accuracy: 0.8710 - loss: 0.3620 - val_accuracy: 0.8736 - val_loss: 0.3442\n",
            "Restoring model weights from the end of the best epoch: 49.\n"
          ]
        }
      ],
      "source": [
        "# One-hot encode the labels\n",
        "y_train_cat = to_categorical(y_train, num_classes=10)\n",
        "y_val_cat   = to_categorical(y_val, num_classes=10)\n",
        "y_test_cat  = to_categorical(y_test, num_classes=10)\n",
        "\n",
        "# Optimizer\n",
        "optimizer = tf.keras.optimizers.Adam(learning_rate=0.0005)\n",
        "\n",
        "# Compile the model\n",
        "model.compile(optimizer=optimizer,\n",
        "              loss='categorical_crossentropy',\n",
        "              metrics=['accuracy'])\n",
        "\n",
        "# Define callbacks: EarlyStopping and ModelCheckpoint\n",
        "early_stop = callbacks.EarlyStopping(monitor='val_loss', patience=5, verbose=1, restore_best_weights=True)\n",
        "model_checkpoint = callbacks.ModelCheckpoint(\"best_kan_model.h5\", monitor='val_loss', save_best_only=True, verbose=1)\n",
        "\n",
        "# Train the model\n",
        "history = model.fit(\n",
        "    x_train, y_train_cat,\n",
        "    validation_data=(x_val, y_val_cat),\n",
        "    epochs=50,\n",
        "    batch_size=64,\n",
        "    callbacks=[early_stop, model_checkpoint],\n",
        "    verbose=1\n",
        ")\n"
      ]
    },
    {
      "cell_type": "markdown",
      "id": "28c4507c",
      "metadata": {
        "id": "28c4507c"
      },
      "source": [
        "### 2.3 Evaluation"
      ]
    },
    {
      "cell_type": "markdown",
      "id": "be47f7c8",
      "metadata": {
        "id": "be47f7c8"
      },
      "source": [
        "In this section, we evaluate the performance of the trained KAN model on the test dataset.\n",
        "The evaluation includes:\n",
        "\n",
        "**Accuracy**\n",
        "\n",
        "**Confusion Matrix:** A graphical representation of the classification results.\n",
        "\n",
        "**Precision, Recall, and F1-Score**\n",
        "\n",
        "**Loss Curves:** Graphs of training and validation loss across epochs.\n",
        "\n",
        "We use scikit-learn for computing the precision, recall, F1-score, and confusion matrix.\n"
      ]
    },
    {
      "cell_type": "code",
      "source": [
        "from sklearn.metrics import accuracy_score, confusion_matrix, precision_recall_fscore_support\n",
        "import seaborn as sns"
      ],
      "metadata": {
        "id": "noxam-M2B_Tb"
      },
      "id": "noxam-M2B_Tb",
      "execution_count": 70,
      "outputs": []
    },
    {
      "cell_type": "markdown",
      "source": [
        "#### Pure KAN"
      ],
      "metadata": {
        "id": "cYaDIT9rOUe8"
      },
      "id": "cYaDIT9rOUe8"
    },
    {
      "cell_type": "code",
      "source": [
        "# Load the best model\n",
        "model_2 = models.load_model(\"best_kan_model_noDense.h5\", custom_objects={'BSplineLayer': BSplineLayer, 'GroupSumLayer': GroupSumLayer})"
      ],
      "metadata": {
        "colab": {
          "base_uri": "https://localhost:8080/",
          "height": 0
        },
        "outputId": "ffbb76f6-7161-4bc4-8220-5a7d0caa299e",
        "id": "dAWmbKRrOFyN"
      },
      "execution_count": 71,
      "outputs": [
        {
          "output_type": "stream",
          "name": "stderr",
          "text": [
            "WARNING:absl:Compiled the loaded model, but the compiled metrics have yet to be built. `model.compile_metrics` will be empty until you train or evaluate the model.\n"
          ]
        }
      ],
      "id": "dAWmbKRrOFyN"
    },
    {
      "cell_type": "code",
      "source": [
        "# Evaluate on test data\n",
        "y_pred_prob = model_2.predict(x_test)\n",
        "y_pred = np.argmax(y_pred_prob, axis=1)\n",
        "y_true = y_test\n",
        "\n",
        "# Compute accuracy\n",
        "test_accuracy = accuracy_score(y_true, y_pred)\n",
        "print(f\"Test Accuracy: {test_accuracy:.4f}\")"
      ],
      "metadata": {
        "colab": {
          "base_uri": "https://localhost:8080/",
          "height": 0
        },
        "outputId": "1f39b44b-9354-40a5-c842-89586ee2b18f",
        "id": "cep7SKgaOFyP"
      },
      "execution_count": 72,
      "outputs": [
        {
          "output_type": "stream",
          "name": "stdout",
          "text": [
            "\u001b[1m313/313\u001b[0m \u001b[32m━━━━━━━━━━━━━━━━━━━━\u001b[0m\u001b[37m\u001b[0m \u001b[1m1s\u001b[0m 2ms/step\n",
            "Test Accuracy: 0.7207\n"
          ]
        }
      ],
      "id": "cep7SKgaOFyP"
    },
    {
      "cell_type": "code",
      "source": [
        "# Compute precision, recall, and F1-score (macro average)\n",
        "precision, recall, f1, _ = precision_recall_fscore_support(y_true, y_pred, average='macro')\n",
        "print(f\"Precision: {precision:.4f}\")\n",
        "print(f\"Recall:    {recall:.4f}\")\n",
        "print(f\"F1-Score:  {f1:.4f}\")"
      ],
      "metadata": {
        "colab": {
          "base_uri": "https://localhost:8080/",
          "height": 0
        },
        "outputId": "a3637945-266b-40bf-87db-62b39d802c01",
        "id": "92OkIFM3OFyQ"
      },
      "execution_count": 73,
      "outputs": [
        {
          "output_type": "stream",
          "name": "stdout",
          "text": [
            "Precision: 0.7109\n",
            "Recall:    0.7130\n",
            "F1-Score:  0.7080\n"
          ]
        }
      ],
      "id": "92OkIFM3OFyQ"
    },
    {
      "cell_type": "code",
      "source": [
        "# Confusion Matrix\n",
        "cm = confusion_matrix(y_true, y_pred)\n",
        "plt.figure(figsize=(8,6))\n",
        "sns.heatmap(cm, annot=True, fmt='d', cmap='Blues', cbar=False)\n",
        "plt.title(\"Confusion Matrix\")\n",
        "plt.xlabel(\"Predicted Label\")\n",
        "plt.ylabel(\"True Label\")\n",
        "plt.show()"
      ],
      "metadata": {
        "colab": {
          "base_uri": "https://localhost:8080/",
          "height": 564
        },
        "outputId": "ebd5e91c-498e-4b81-f7c6-b2cbeeca0a31",
        "id": "0pBWG5bSOFyR"
      },
      "execution_count": 74,
      "outputs": [
        {
          "output_type": "display_data",
          "data": {
            "text/plain": [
              "<Figure size 800x600 with 1 Axes>"
            ],
            "image/png": "[encoded data removed]"
          },
          "metadata": {}
        }
      ],
      "id": "0pBWG5bSOFyR"
    },
    {
      "cell_type": "code",
      "execution_count": 75,
      "metadata": {
        "colab": {
          "base_uri": "https://localhost:8080/",
          "height": 564
        },
        "outputId": "318da9bd-ed10-41f1-b0de-f39db840f08c",
        "id": "pWTmwQaXOFyS"
      },
      "outputs": [
        {
          "output_type": "display_data",
          "data": {
            "text/plain": [
              "<Figure size 800x600 with 1 Axes>"
            ],
            "image/png": "[encoded data removed]"
          },
          "metadata": {}
        }
      ],
      "source": [
        "# Plot training and validation loss over epochs\n",
        "plt.figure(figsize=(8,6))\n",
        "plt.plot(history.history['loss'], label='Training Loss', marker='o')\n",
        "plt.plot(history.history['val_loss'], label='Validation Loss', marker='o')\n",
        "plt.xlabel(\"Epoch\")\n",
        "plt.ylabel(\"Loss\")\n",
        "plt.title(\"Training and Validation Loss\")\n",
        "plt.legend()\n",
        "plt.show()"
      ],
      "id": "pWTmwQaXOFyS"
    },
    {
      "cell_type": "markdown",
      "source": [
        "#### Hybrid model"
      ],
      "metadata": {
        "id": "OIyV9IrgOKoY"
      },
      "id": "OIyV9IrgOKoY"
    },
    {
      "cell_type": "code",
      "source": [
        "# Load the best model\n",
        "model = models.load_model(\"best_kan_model.h5\", custom_objects={'BSplineLayer': BSplineLayer, 'GroupSumLayer': GroupSumLayer})"
      ],
      "metadata": {
        "colab": {
          "base_uri": "https://localhost:8080/",
          "height": 0
        },
        "id": "FukbUMFXCBLv",
        "outputId": "d63de900-6f0d-47ae-a417-8881d366dfd7"
      },
      "id": "FukbUMFXCBLv",
      "execution_count": 76,
      "outputs": [
        {
          "output_type": "stream",
          "name": "stderr",
          "text": [
            "WARNING:absl:Compiled the loaded model, but the compiled metrics have yet to be built. `model.compile_metrics` will be empty until you train or evaluate the model.\n"
          ]
        }
      ]
    },
    {
      "cell_type": "code",
      "source": [
        "# Evaluate on test data\n",
        "y_pred_prob = model.predict(x_test)\n",
        "y_pred = np.argmax(y_pred_prob, axis=1)\n",
        "y_true = y_test\n",
        "\n",
        "# Compute accuracy\n",
        "test_accuracy = accuracy_score(y_true, y_pred)\n",
        "print(f\"Test Accuracy: {test_accuracy:.4f}\")"
      ],
      "metadata": {
        "colab": {
          "base_uri": "https://localhost:8080/",
          "height": 0
        },
        "id": "6nhig6fmCGuP",
        "outputId": "875130fa-2587-498c-bcfa-af4a1cc1193c"
      },
      "id": "6nhig6fmCGuP",
      "execution_count": 77,
      "outputs": [
        {
          "output_type": "stream",
          "name": "stdout",
          "text": [
            "\u001b[1m313/313\u001b[0m \u001b[32m━━━━━━━━━━━━━━━━━━━━\u001b[0m\u001b[37m\u001b[0m \u001b[1m1s\u001b[0m 2ms/step\n",
            "Test Accuracy: 0.8803\n"
          ]
        }
      ]
    },
    {
      "cell_type": "code",
      "source": [
        "# Compute precision, recall, and F1-score (macro average)\n",
        "precision, recall, f1, _ = precision_recall_fscore_support(y_true, y_pred, average='macro')\n",
        "print(f\"Precision: {precision:.4f}\")\n",
        "print(f\"Recall:    {recall:.4f}\")\n",
        "print(f\"F1-Score:  {f1:.4f}\")"
      ],
      "metadata": {
        "colab": {
          "base_uri": "https://localhost:8080/",
          "height": 0
        },
        "id": "GtSY4_8jCRbM",
        "outputId": "c9716923-3d3a-4e39-a13a-cdc5a705463a"
      },
      "id": "GtSY4_8jCRbM",
      "execution_count": 78,
      "outputs": [
        {
          "output_type": "stream",
          "name": "stdout",
          "text": [
            "Precision: 0.8770\n",
            "Recall:    0.8775\n",
            "F1-Score:  0.8770\n"
          ]
        }
      ]
    },
    {
      "cell_type": "code",
      "source": [
        "# Confusion Matrix\n",
        "cm = confusion_matrix(y_true, y_pred)\n",
        "plt.figure(figsize=(8,6))\n",
        "sns.heatmap(cm, annot=True, fmt='d', cmap='Blues', cbar=False)\n",
        "plt.title(\"Confusion Matrix\")\n",
        "plt.xlabel(\"Predicted Label\")\n",
        "plt.ylabel(\"True Label\")\n",
        "plt.show()"
      ],
      "metadata": {
        "colab": {
          "base_uri": "https://localhost:8080/",
          "height": 564
        },
        "id": "viQ6u2ZXCWbS",
        "outputId": "25497ae0-645f-42f3-ae1d-852fb56f6b03"
      },
      "id": "viQ6u2ZXCWbS",
      "execution_count": 79,
      "outputs": [
        {
          "output_type": "display_data",
          "data": {
            "text/plain": [
              "<Figure size 800x600 with 1 Axes>"
            ],
            "image/png": "[encoded data removed]"
          },
          "metadata": {}
        }
      ]
    },
    {
      "cell_type": "code",
      "execution_count": 80,
      "id": "90adcb53",
      "metadata": {
        "colab": {
          "base_uri": "https://localhost:8080/",
          "height": 564
        },
        "id": "90adcb53",
        "outputId": "fe452545-b03b-4923-90e8-f2fc35dc9630"
      },
      "outputs": [
        {
          "output_type": "display_data",
          "data": {
            "text/plain": [
              "<Figure size 800x600 with 1 Axes>"
            ],
            "image/png": "[encoded data removed]"
          },
          "metadata": {}
        }
      ],
      "source": [
        "# Plot training and validation loss over epochs\n",
        "plt.figure(figsize=(8,6))\n",
        "plt.plot(history.history['loss'], label='Training Loss', marker='o')\n",
        "plt.plot(history.history['val_loss'], label='Validation Loss', marker='o')\n",
        "plt.xlabel(\"Epoch\")\n",
        "plt.ylabel(\"Loss\")\n",
        "plt.title(\"Training and Validation Loss\")\n",
        "plt.legend()\n",
        "plt.show()"
      ]
    },
    {
      "cell_type": "markdown",
      "id": "b564c3be",
      "metadata": {
        "id": "b564c3be"
      },
      "source": [
        "### 2.5 Comparations"
      ]
    },
    {
      "cell_type": "markdown",
      "source": [
        "| Model      | Accuracy | Precision | Recall | F1-Score |\n",
        "|------------|----------|-----------|--------|----------|\n",
        "| Pure KAN   | 0.7207   | 0.7109    | 0.7130 | 0.7080   |\n",
        "| Hybrid KAN | 0.8803   | 0.8770    | 0.8775 | 0.8770   |"
      ],
      "metadata": {
        "id": "S3Nsn8CCWSgh"
      },
      "id": "S3Nsn8CCWSgh"
    },
    {
      "cell_type": "markdown",
      "source": [
        "**Pure KAN architecture**\n",
        "\n",
        "The pure KAN achieves respectable performance given its architectural simplicity and theoretical purity. However, the lower metrics indicate that while the model is effective at capturing some underlying patterns, it might lack the representational capacity required for more complex feature interactions, which are common in image data like MNIST."
      ],
      "metadata": {
        "id": "M57hmikTW_x9"
      },
      "id": "M57hmikTW_x9"
    },
    {
      "cell_type": "markdown",
      "source": [
        "**Hybrid KAN architecture**\n",
        "\n",
        "The incorporation of dense layers in the hybrid architecture significantly improves performance across all metrics. This enhancement is likely due to the dense layers' ability to capture complex feature interactions and perform additional non-linear mappings, complementing the base spline transformations."
      ],
      "metadata": {
        "id": "rSCTXMY-XSsZ"
      },
      "id": "rSCTXMY-XSsZ"
    },
    {
      "cell_type": "markdown",
      "source": [
        "Based on the metrics, the hybrid KAN architecture is clearly superior in terms of accuracy, precision, recall, and F1-score on the MNIST dataset. This suggests that while the pure KAN provides a solid baseline and interesting theoretical insights, enhancing the architecture with additional layers to capture complex interactions is beneficial for real-world tasks."
      ],
      "metadata": {
        "id": "KCYw8JDuXspO"
      },
      "id": "KCYw8JDuXspO"
    },
    {
      "cell_type": "markdown",
      "id": "68f40dda",
      "metadata": {
        "id": "68f40dda"
      },
      "source": [
        "___\n",
        "___"
      ]
    },
    {
      "cell_type": "markdown",
      "id": "622f240e",
      "metadata": {
        "id": "622f240e"
      },
      "source": [
        "## 3. Extensions: Quantum Kolmogorov-Arnold Networks"
      ]
    },
    {
      "cell_type": "markdown",
      "source": [
        "This final section explores how classical spline-based Kolmogorov-Arnold Networks (KANs) can be extended into the quantum realm. We first discuss the limitations of classical KANs and then propose what a quantum KAN might look like, culminating in a detailed architecture sketch that leverages Pennylane for variational quantum circuit design."
      ],
      "metadata": {
        "id": "7V4gHdR1fJhX"
      },
      "id": "7V4gHdR1fJhX"
    },
    {
      "cell_type": "markdown",
      "id": "70bc5a08",
      "metadata": {
        "id": "70bc5a08"
      },
      "source": [
        "### 3.1 Limitations of classical KANs"
      ]
    },
    {
      "cell_type": "markdown",
      "id": "a3f4add9",
      "metadata": {
        "id": "a3f4add9"
      },
      "source": [
        "Classical KAN architectures, while elegant and interpretable, exhibit several limitations when applied to complex tasks:\n",
        "\n",
        "* **Expressive Capacity:**\n",
        "Although classical KANs approximate any continuous function via univariate spline transformations and summations, the fixed structure (e.g., grouping, BSpline layers) may limit the network’s ability to capture very high-order or intricate nonlinear interactions present in large-scale or complex datasets.\n",
        "\n",
        "* **Scalability and Efficiency:**\n",
        "The design choices (such as grouping and summing features) introduce potential information bottlenecks. As input dimensions grow, aggregating features into a small number of groups might lose critical information, thus capping performance improvements.\n",
        "\n",
        "* **Fixed Nonlinear Transformations:**\n",
        "The basis-spline approach, while flexible, relies on a fixed interpolation scheme. Adjusting the control points and number of knots can help, but the underlying model remains classical, limiting the potential benefit from novel computational paradigms.\n",
        "\n",
        "* **Hardware Limitations:**\n",
        "In a classical computer, even though these models are expressive, they often require substantial memory and computational resources when scaled up, which could be alleviated by exploring alternative computing models."
      ]
    },
    {
      "cell_type": "markdown",
      "id": "b37ca910",
      "metadata": {
        "id": "b37ca910"
      },
      "source": [
        "### 3.2 What could a quantum KAN look like?"
      ]
    },
    {
      "cell_type": "markdown",
      "source": [
        "A quantum Kolmogorov-Arnold Network would combine the theoretical insights of classical KANs with the unique advantages of quantum computing. The key ideas are:\n",
        "\n",
        "* **Quantum Feature Encoding:**\n",
        "Instead of relying solely on classical spline interpolation, the model could use quantum feature maps to encode classical input data into quantum states. This allows the exploitation of high-dimensional Hilbert spaces where nonlinear relationships can be captured more efficiently.\n",
        "\n",
        "* **Variational Quantum Circuits (VQC) for Nonlinear Transformation:**\n",
        "The role of the classical BSplineLayer could be replaced or augmented by variational quantum circuits. These circuits can learn complex, nonlinear transformations via parameterized quantum gates. By adjusting these parameters, the quantum circuit can effectively serve as the univariate function approximator in the KAN paradigm.\n",
        "\n",
        "* **Hybrid Quantum-Classical Architecture:**\n",
        "Given current hardware limitations (the NISQ era), a fully quantum model may not be feasible. A practical approach is to build a hybrid architecture. Here, initial feature extraction can remain classical (e.g., classical BSpline transformation or convolutional layers) while intermediate layers are replaced with quantum circuits. The final classification stage can be classical, forming a seamless pipeline.\n",
        "\n",
        "**Motivation:**\n",
        "\n",
        "* **Enhanced Expressiveness:** Quantum circuits can exploit superposition and entanglement, potentially leading to a richer representation of complex functions than purely classical models.\n",
        "\n",
        "* **Parameter Efficiency:** Quantum models often achieve expressive power with fewer parameters, making them attractive for learning complex nonlinear mappings.\n",
        "\n",
        "* **Hybrid Compatibility:** Integrating quantum layers within a classical architecture allows researchers to leverage the best of both worlds while overcoming current quantum hardware constraints."
      ],
      "metadata": {
        "id": "eoAeYXHqf1ZU"
      },
      "id": "eoAeYXHqf1ZU"
    },
    {
      "cell_type": "markdown",
      "id": "a9b411db",
      "metadata": {
        "id": "a9b411db"
      },
      "source": [
        "### 3.3 Quantum KAN architecture"
      ]
    },
    {
      "cell_type": "markdown",
      "source": [
        "Below is a sketch of a hybrid quantum KAN architecture implemented using Pennylane. In this design, the classical input features are first processed by a standard classical layer. Next, the resulting representation is fed into a variational quantum circuit (VQC) which serves as the nonlinear transformation analogous to the BSplineLayer. Finally, the quantum output is measured and passed to subsequent classical layers for final prediction."
      ],
      "metadata": {
        "id": "ns3dtS6xtFZj"
      },
      "id": "ns3dtS6xtFZj"
    },
    {
      "cell_type": "markdown",
      "source": [
        "<b>Architecture Overview</b>\n",
        "\n",
        "1. <b>Classical Preprocessing:</b>\n",
        "Normalize and optionally reduce the dimensionality of the MNIST images (e.g., using PCA or a small dense layer).\n",
        "\n",
        "2. <b>Quantum Feature Map and Variational Circuit:</b>\n",
        "  * <b>Quantum Feature Map:</b> Encodes the classical data into a quantum state via parameterized rotations.\n",
        "\n",
        "  * <b>Variational Circuit (VQC):</b> Consists of layers of parameterized single-qubit rotations and entangling gates. The circuit is designed to capture the nonlinear transformation $\\phi$ from the classical KAN architecture.\n",
        "\n",
        "  * <b>Measurement:</b> The quantum circuit is measured to produce a set of expectation values that represent the transformed features.\n",
        "\n",
        "3. <b>Classical Postprocessing:</b>\n",
        "The measured quantum features are passed to a fully connected neural network (dense layers) for classification."
      ],
      "metadata": {
        "id": "mmlO9TQ_s4YY"
      },
      "id": "mmlO9TQ_s4YY"
    },
    {
      "cell_type": "markdown",
      "source": [
        "<b>Architecture</b>"
      ],
      "metadata": {
        "id": "EIbtlONXvaw_"
      },
      "id": "EIbtlONXvaw_"
    },
    {
      "cell_type": "code",
      "source": [
        "#!pip install pennylane\n",
        "#!pip install tensorflow keras"
      ],
      "metadata": {
        "colab": {
          "base_uri": "https://localhost:8080/",
          "height": 0
        },
        "id": "emQDR6pKvgnL",
        "outputId": "1d26ac5d-65f4-4a3a-f405-97f76d1e0e1d"
      },
      "id": "emQDR6pKvgnL",
      "execution_count": 11,
      "outputs": [
        {
          "output_type": "stream",
          "name": "stdout",
          "text": [
            "Requirement already satisfied: tensorflow in /usr/local/lib/python3.11/dist-packages (2.18.0)\n",
            "Requirement already satisfied: keras in /usr/local/lib/python3.11/dist-packages (3.8.0)\n",
            "Requirement already satisfied: absl-py>=1.0.0 in /usr/local/lib/python3.11/dist-packages (from tensorflow) (1.4.0)\n",
            "Requirement already satisfied: astunparse>=1.6.0 in /usr/local/lib/python3.11/dist-packages (from tensorflow) (1.6.3)\n",
            "Requirement already satisfied: flatbuffers>=24.3.25 in /usr/local/lib/python3.11/dist-packages (from tensorflow) (25.2.10)\n",
            "Requirement already satisfied: gast!=0.5.0,!=0.5.1,!=0.5.2,>=0.2.1 in /usr/local/lib/python3.11/dist-packages (from tensorflow) (0.6.0)\n",
            "Requirement already satisfied: google-pasta>=0.1.1 in /usr/local/lib/python3.11/dist-packages (from tensorflow) (0.2.0)\n",
            "Requirement already satisfied: libclang>=13.0.0 in /usr/local/lib/python3.11/dist-packages (from tensorflow) (18.1.1)\n",
            "Requirement already satisfied: opt-einsum>=2.3.2 in /usr/local/lib/python3.11/dist-packages (from tensorflow) (3.4.0)\n",
            "Requirement already satisfied: packaging in /usr/local/lib/python3.11/dist-packages (from tensorflow) (24.2)\n",
            "Requirement already satisfied: protobuf!=4.21.0,!=4.21.1,!=4.21.2,!=4.21.3,!=4.21.4,!=4.21.5,<6.0.0dev,>=3.20.3 in /usr/local/lib/python3.11/dist-packages (from tensorflow) (5.29.4)\n",
            "Requirement already satisfied: requests<3,>=2.21.0 in /usr/local/lib/python3.11/dist-packages (from tensorflow) (2.32.3)\n",
            "Requirement already satisfied: setuptools in /usr/local/lib/python3.11/dist-packages (from tensorflow) (75.2.0)\n",
            "Requirement already satisfied: six>=1.12.0 in /usr/local/lib/python3.11/dist-packages (from tensorflow) (1.17.0)\n",
            "Requirement already satisfied: termcolor>=1.1.0 in /usr/local/lib/python3.11/dist-packages (from tensorflow) (3.0.1)\n",
            "Requirement already satisfied: typing-extensions>=3.6.6 in /usr/local/lib/python3.11/dist-packages (from tensorflow) (4.13.1)\n",
            "Requirement already satisfied: wrapt>=1.11.0 in /usr/local/lib/python3.11/dist-packages (from tensorflow) (1.17.2)\n",
            "Requirement already satisfied: grpcio<2.0,>=1.24.3 in /usr/local/lib/python3.11/dist-packages (from tensorflow) (1.71.0)\n",
            "Requirement already satisfied: tensorboard<2.19,>=2.18 in /usr/local/lib/python3.11/dist-packages (from tensorflow) (2.18.0)\n",
            "Requirement already satisfied: numpy<2.1.0,>=1.26.0 in /usr/local/lib/python3.11/dist-packages (from tensorflow) (2.0.2)\n",
            "Requirement already satisfied: h5py>=3.11.0 in /usr/local/lib/python3.11/dist-packages (from tensorflow) (3.13.0)\n",
            "Requirement already satisfied: ml-dtypes<0.5.0,>=0.4.0 in /usr/local/lib/python3.11/dist-packages (from tensorflow) (0.4.1)\n",
            "Requirement already satisfied: tensorflow-io-gcs-filesystem>=0.23.1 in /usr/local/lib/python3.11/dist-packages (from tensorflow) (0.37.1)\n",
            "Requirement already satisfied: rich in /usr/local/lib/python3.11/dist-packages (from keras) (13.9.4)\n",
            "Requirement already satisfied: namex in /usr/local/lib/python3.11/dist-packages (from keras) (0.0.8)\n",
            "Requirement already satisfied: optree in /usr/local/lib/python3.11/dist-packages (from keras) (0.14.1)\n",
            "Requirement already satisfied: wheel<1.0,>=0.23.0 in /usr/local/lib/python3.11/dist-packages (from astunparse>=1.6.0->tensorflow) (0.45.1)\n",
            "Requirement already satisfied: charset-normalizer<4,>=2 in /usr/local/lib/python3.11/dist-packages (from requests<3,>=2.21.0->tensorflow) (3.4.1)\n",
            "Requirement already satisfied: idna<4,>=2.5 in /usr/local/lib/python3.11/dist-packages (from requests<3,>=2.21.0->tensorflow) (3.10)\n",
            "Requirement already satisfied: urllib3<3,>=1.21.1 in /usr/local/lib/python3.11/dist-packages (from requests<3,>=2.21.0->tensorflow) (2.3.0)\n",
            "Requirement already satisfied: certifi>=2017.4.17 in /usr/local/lib/python3.11/dist-packages (from requests<3,>=2.21.0->tensorflow) (2025.1.31)\n",
            "Requirement already satisfied: markdown>=2.6.8 in /usr/local/lib/python3.11/dist-packages (from tensorboard<2.19,>=2.18->tensorflow) (3.7)\n",
            "Requirement already satisfied: tensorboard-data-server<0.8.0,>=0.7.0 in /usr/local/lib/python3.11/dist-packages (from tensorboard<2.19,>=2.18->tensorflow) (0.7.2)\n",
            "Requirement already satisfied: werkzeug>=1.0.1 in /usr/local/lib/python3.11/dist-packages (from tensorboard<2.19,>=2.18->tensorflow) (3.1.3)\n",
            "Requirement already satisfied: markdown-it-py>=2.2.0 in /usr/local/lib/python3.11/dist-packages (from rich->keras) (3.0.0)\n",
            "Requirement already satisfied: pygments<3.0.0,>=2.13.0 in /usr/local/lib/python3.11/dist-packages (from rich->keras) (2.18.0)\n",
            "Requirement already satisfied: mdurl~=0.1 in /usr/local/lib/python3.11/dist-packages (from markdown-it-py>=2.2.0->rich->keras) (0.1.2)\n",
            "Requirement already satisfied: MarkupSafe>=2.1.1 in /usr/local/lib/python3.11/dist-packages (from werkzeug>=1.0.1->tensorboard<2.19,>=2.18->tensorflow) (3.0.2)\n"
          ]
        }
      ]
    },
    {
      "cell_type": "code",
      "source": [
        "import pennylane as qml\n",
        "import numpy as np\n",
        "import tensorflow as tf\n",
        "from tensorflow.keras import layers, models\n",
        "print(\"The packages were imported successfully, you can continue.\")"
      ],
      "metadata": {
        "colab": {
          "base_uri": "https://localhost:8080/",
          "height": 0
        },
        "id": "Qw04pualuPrV",
        "outputId": "6a7b8b8f-1b5b-4feb-ec59-b8d032e04e6f"
      },
      "id": "Qw04pualuPrV",
      "execution_count": 12,
      "outputs": [
        {
          "output_type": "stream",
          "name": "stdout",
          "text": [
            "The packages were imported successfully, you can continue.\n"
          ]
        }
      ]
    },
    {
      "cell_type": "code",
      "source": [
        "# Quantum device\n",
        "n_qubits = 8\n",
        "dev = qml.device(\"default.qubit\", wires=n_qubits)\n",
        "\n",
        "# Quantum feature map and varational circuit\n",
        "@qml.qnode(dev, interface='tf')\n",
        "def quantum_feature_map(inputs, weights):\n",
        "    # Encode inputs using rotation gates\n",
        "    for i in range(n_qubits):\n",
        "        qml.RX(np.pi * inputs[i], wires=i)\n",
        "\n",
        "    # Apply variational circuit\n",
        "    for i in range(n_qubits):\n",
        "        qml.RY(weights[i], wires=i)\n",
        "    for i in range(n_qubits-1):\n",
        "        qml.CNOT(wires=[i, i + 1])\n",
        "\n",
        "    # Aditional layer for more expressiveness\n",
        "    for i in range(n_qubits):\n",
        "        qml.RZ(weights[n_qubits + i], wires=i)\n",
        "\n",
        "    # Mesure expectation values\n",
        "    return [qml.expval(qml.PauliZ(i)) for i in range(n_qubits)]"
      ],
      "metadata": {
        "id": "wscC8qq0vRXj"
      },
      "id": "wscC8qq0vRXj",
      "execution_count": 21,
      "outputs": []
    },
    {
      "cell_type": "code",
      "source": [
        "# Wrap the quantum circuit as a keras Layer\n",
        "class QuantumLayer(layers.Layer):\n",
        "    def __init__(self, num_qubits, n_weights, **kwargs):\n",
        "        super(QuantumLayer, self).__init__(**kwargs)\n",
        "        self.num_qubits = n_qubits\n",
        "        self.n_weights = n_weights\n",
        "\n",
        "    def build(self, input_shape):\n",
        "        # Initialize trainable weights for the quantum circuit\n",
        "        self.quantum_weights = self.add_weight(\n",
        "            name='quantum_weights',\n",
        "            shape=(self.n_weights,),\n",
        "            initializer='glorot_uniform',\n",
        "            trainable=True\n",
        "        )\n",
        "        super(QuantumLayer, self).build(input_shape)\n",
        "\n",
        "    def call(self, inputs):\n",
        "        # Apply the quantum feature map to the inputs\n",
        "        output = tf.vectorized_map(lambda x: quantum_feature_map(x, self.quantum_weights), inputs)\n",
        "        output = tf.stack(output, axis=1)\n",
        "        return output\n",
        "\n",
        "# Bulding the hybrid quantum-classical KAN model\n",
        "def build_hybrid_kan_model(input_dim=784, n_qubits = 8, n_weights = 2 * n_qubits):\n",
        "    inputs = layers.Input(shape=(input_dim,))\n",
        "\n",
        "    # Classical preprocessing\n",
        "    classical_features = layers.Dense(n_qubits, activation='relu')(inputs)\n",
        "\n",
        "    # Quantum feature map and variational circuit: transform classical features\n",
        "    quantum_features = QuantumLayer(n_qubits, n_weights)(classical_features)\n",
        "\n",
        "    # Classical postprocessing: fully connected layers for classification\n",
        "    dense1 = layers.Dense(128, activation='relu')(quantum_features)\n",
        "    dense2 = layers.Dense(64, activation='relu')(dense1)\n",
        "    outputs = layers.Dense(10, activation='softmax')(dense2)\n",
        "\n",
        "    model = models.Model(inputs=inputs, outputs=outputs, name=\"Hybrid_Quantum_KAN\")\n",
        "    return model\n",
        "\n",
        "# Build and display the model summary\n",
        "quantum_kan_model = build_hybrid_kan_model()\n",
        "quantum_kan_model.summary()"
      ],
      "metadata": {
        "colab": {
          "base_uri": "https://localhost:8080/",
          "height": 353
        },
        "id": "flhhT8Z3x-zQ",
        "outputId": "08b554ba-acdb-4a70-a926-9bc59e6b6ecc"
      },
      "id": "flhhT8Z3x-zQ",
      "execution_count": 22,
      "outputs": [
        {
          "output_type": "display_data",
          "data": {
            "text/plain": [
              "\u001b[1mModel: \"Hybrid_Quantum_KAN\"\u001b[0m\n"
            ],
            "text/html": [
              "<pre style=\"white-space:pre;overflow-x:auto;line-height:normal;font-family:Menlo,'DejaVu Sans Mono',consolas,'Courier New',monospace\"><span style=\"font-weight: bold\">Model: \"Hybrid_Quantum_KAN\"</span>\n",
              "</pre>\n"
            ]
          },
          "metadata": {}
        },
        {
          "output_type": "display_data",
          "data": {
            "text/plain": [
              "┏━━━━━━━━━━━━━━━━━━━━━━━━━━━━━━━━━━━━━━┳━━━━━━━━━━━━━━━━━━━━━━━━━━━━━┳━━━━━━━━━━━━━━━━━┓\n",
              "┃\u001b[1m \u001b[0m\u001b[1mLayer (type)                        \u001b[0m\u001b[1m \u001b[0m┃\u001b[1m \u001b[0m\u001b[1mOutput Shape               \u001b[0m\u001b[1m \u001b[0m┃\u001b[1m \u001b[0m\u001b[1m        Param #\u001b[0m\u001b[1m \u001b[0m┃\n",
              "┡━━━━━━━━━━━━━━━━━━━━━━━━━━━━━━━━━━━━━━╇━━━━━━━━━━━━━━━━━━━━━━━━━━━━━╇━━━━━━━━━━━━━━━━━┩\n",
              "│ input_layer_12 (\u001b[38;5;33mInputLayer\u001b[0m)          │ (\u001b[38;5;45mNone\u001b[0m, \u001b[38;5;34m784\u001b[0m)                 │               \u001b[38;5;34m0\u001b[0m │\n",
              "├──────────────────────────────────────┼─────────────────────────────┼─────────────────┤\n",
              "│ dense_19 (\u001b[38;5;33mDense\u001b[0m)                     │ (\u001b[38;5;45mNone\u001b[0m, \u001b[38;5;34m8\u001b[0m)                   │           \u001b[38;5;34m6,280\u001b[0m │\n",
              "├──────────────────────────────────────┼─────────────────────────────┼─────────────────┤\n",
              "│ quantum_layer_12 (\u001b[38;5;33mQuantumLayer\u001b[0m)      │ (\u001b[38;5;45mNone\u001b[0m, \u001b[38;5;34m8\u001b[0m)                   │              \u001b[38;5;34m16\u001b[0m │\n",
              "├──────────────────────────────────────┼─────────────────────────────┼─────────────────┤\n",
              "│ cast_6 (\u001b[38;5;33mCast\u001b[0m)                        │ (\u001b[38;5;45mNone\u001b[0m, \u001b[38;5;34m8\u001b[0m)                   │               \u001b[38;5;34m0\u001b[0m │\n",
              "├──────────────────────────────────────┼─────────────────────────────┼─────────────────┤\n",
              "│ dense_20 (\u001b[38;5;33mDense\u001b[0m)                     │ (\u001b[38;5;45mNone\u001b[0m, \u001b[38;5;34m128\u001b[0m)                 │           \u001b[38;5;34m1,152\u001b[0m │\n",
              "├──────────────────────────────────────┼─────────────────────────────┼─────────────────┤\n",
              "│ dense_21 (\u001b[38;5;33mDense\u001b[0m)                     │ (\u001b[38;5;45mNone\u001b[0m, \u001b[38;5;34m64\u001b[0m)                  │           \u001b[38;5;34m8,256\u001b[0m │\n",
              "├──────────────────────────────────────┼─────────────────────────────┼─────────────────┤\n",
              "│ dense_22 (\u001b[38;5;33mDense\u001b[0m)                     │ (\u001b[38;5;45mNone\u001b[0m, \u001b[38;5;34m10\u001b[0m)                  │             \u001b[38;5;34m650\u001b[0m │\n",
              "└──────────────────────────────────────┴─────────────────────────────┴─────────────────┘\n"
            ],
            "text/html": [
              "<pre style=\"white-space:pre;overflow-x:auto;line-height:normal;font-family:Menlo,'DejaVu Sans Mono',consolas,'Courier New',monospace\">┏━━━━━━━━━━━━━━━━━━━━━━━━━━━━━━━━━━━━━━┳━━━━━━━━━━━━━━━━━━━━━━━━━━━━━┳━━━━━━━━━━━━━━━━━┓\n",
              "┃<span style=\"font-weight: bold\"> Layer (type)                         </span>┃<span style=\"font-weight: bold\"> Output Shape                </span>┃<span style=\"font-weight: bold\">         Param # </span>┃\n",
              "┡━━━━━━━━━━━━━━━━━━━━━━━━━━━━━━━━━━━━━━╇━━━━━━━━━━━━━━━━━━━━━━━━━━━━━╇━━━━━━━━━━━━━━━━━┩\n",
              "│ input_layer_12 (<span style=\"color: #0087ff; text-decoration-color: #0087ff\">InputLayer</span>)          │ (<span style=\"color: #00d7ff; text-decoration-color: #00d7ff\">None</span>, <span style=\"color: #00af00; text-decoration-color: #00af00\">784</span>)                 │               <span style=\"color: #00af00; text-decoration-color: #00af00\">0</span> │\n",
              "├──────────────────────────────────────┼─────────────────────────────┼─────────────────┤\n",
              "│ dense_19 (<span style=\"color: #0087ff; text-decoration-color: #0087ff\">Dense</span>)                     │ (<span style=\"color: #00d7ff; text-decoration-color: #00d7ff\">None</span>, <span style=\"color: #00af00; text-decoration-color: #00af00\">8</span>)                   │           <span style=\"color: #00af00; text-decoration-color: #00af00\">6,280</span> │\n",
              "├──────────────────────────────────────┼─────────────────────────────┼─────────────────┤\n",
              "│ quantum_layer_12 (<span style=\"color: #0087ff; text-decoration-color: #0087ff\">QuantumLayer</span>)      │ (<span style=\"color: #00d7ff; text-decoration-color: #00d7ff\">None</span>, <span style=\"color: #00af00; text-decoration-color: #00af00\">8</span>)                   │              <span style=\"color: #00af00; text-decoration-color: #00af00\">16</span> │\n",
              "├──────────────────────────────────────┼─────────────────────────────┼─────────────────┤\n",
              "│ cast_6 (<span style=\"color: #0087ff; text-decoration-color: #0087ff\">Cast</span>)                        │ (<span style=\"color: #00d7ff; text-decoration-color: #00d7ff\">None</span>, <span style=\"color: #00af00; text-decoration-color: #00af00\">8</span>)                   │               <span style=\"color: #00af00; text-decoration-color: #00af00\">0</span> │\n",
              "├──────────────────────────────────────┼─────────────────────────────┼─────────────────┤\n",
              "│ dense_20 (<span style=\"color: #0087ff; text-decoration-color: #0087ff\">Dense</span>)                     │ (<span style=\"color: #00d7ff; text-decoration-color: #00d7ff\">None</span>, <span style=\"color: #00af00; text-decoration-color: #00af00\">128</span>)                 │           <span style=\"color: #00af00; text-decoration-color: #00af00\">1,152</span> │\n",
              "├──────────────────────────────────────┼─────────────────────────────┼─────────────────┤\n",
              "│ dense_21 (<span style=\"color: #0087ff; text-decoration-color: #0087ff\">Dense</span>)                     │ (<span style=\"color: #00d7ff; text-decoration-color: #00d7ff\">None</span>, <span style=\"color: #00af00; text-decoration-color: #00af00\">64</span>)                  │           <span style=\"color: #00af00; text-decoration-color: #00af00\">8,256</span> │\n",
              "├──────────────────────────────────────┼─────────────────────────────┼─────────────────┤\n",
              "│ dense_22 (<span style=\"color: #0087ff; text-decoration-color: #0087ff\">Dense</span>)                     │ (<span style=\"color: #00d7ff; text-decoration-color: #00d7ff\">None</span>, <span style=\"color: #00af00; text-decoration-color: #00af00\">10</span>)                  │             <span style=\"color: #00af00; text-decoration-color: #00af00\">650</span> │\n",
              "└──────────────────────────────────────┴─────────────────────────────┴─────────────────┘\n",
              "</pre>\n"
            ]
          },
          "metadata": {}
        },
        {
          "output_type": "display_data",
          "data": {
            "text/plain": [
              "\u001b[1m Total params: \u001b[0m\u001b[38;5;34m16,354\u001b[0m (63.88 KB)\n"
            ],
            "text/html": [
              "<pre style=\"white-space:pre;overflow-x:auto;line-height:normal;font-family:Menlo,'DejaVu Sans Mono',consolas,'Courier New',monospace\"><span style=\"font-weight: bold\"> Total params: </span><span style=\"color: #00af00; text-decoration-color: #00af00\">16,354</span> (63.88 KB)\n",
              "</pre>\n"
            ]
          },
          "metadata": {}
        },
        {
          "output_type": "display_data",
          "data": {
            "text/plain": [
              "\u001b[1m Trainable params: \u001b[0m\u001b[38;5;34m16,354\u001b[0m (63.88 KB)\n"
            ],
            "text/html": [
              "<pre style=\"white-space:pre;overflow-x:auto;line-height:normal;font-family:Menlo,'DejaVu Sans Mono',consolas,'Courier New',monospace\"><span style=\"font-weight: bold\"> Trainable params: </span><span style=\"color: #00af00; text-decoration-color: #00af00\">16,354</span> (63.88 KB)\n",
              "</pre>\n"
            ]
          },
          "metadata": {}
        },
        {
          "output_type": "display_data",
          "data": {
            "text/plain": [
              "\u001b[1m Non-trainable params: \u001b[0m\u001b[38;5;34m0\u001b[0m (0.00 B)\n"
            ],
            "text/html": [
              "<pre style=\"white-space:pre;overflow-x:auto;line-height:normal;font-family:Menlo,'DejaVu Sans Mono',consolas,'Courier New',monospace\"><span style=\"font-weight: bold\"> Non-trainable params: </span><span style=\"color: #00af00; text-decoration-color: #00af00\">0</span> (0.00 B)\n",
              "</pre>\n"
            ]
          },
          "metadata": {}
        }
      ]
    },
    {
      "cell_type": "markdown",
      "id": "6d9eee1e",
      "metadata": {
        "id": "6d9eee1e"
      },
      "source": [
        "___\n",
        "___"
      ]
    },
    {
      "cell_type": "markdown",
      "id": "7c14f492",
      "metadata": {
        "id": "7c14f492"
      },
      "source": [
        "## 4. References"
      ]
    },
    {
      "cell_type": "markdown",
      "id": "89541148",
      "metadata": {
        "id": "89541148"
      },
      "source": [
        "* Liu, Z., Wang, Y., Vaidya, S., Ruehle, F., Halverson, J., Soljačić, M., ... & Tegmark, M. (2024). Kan: Kolmogorov-arnold networks. arXiv preprint arXiv:2404.19756.\n",
        "* Schmidt-Hieber, J. (2021). The Kolmogorov–Arnold representation theorem revisited. Neural Networks, 137, 119-126. https://doi.org/10.1016/j.neunet.2021.01.020"
      ]
    }
  ],
  "metadata": {
    "kernelspec": {
      "display_name": "Python 3",
      "name": "python3"
    },
    "language_info": {
      "codemirror_mode": {
        "name": "ipython",
        "version": 3
      },
      "file_extension": ".py",
      "mimetype": "text/x-python",
      "name": "python",
      "nbconvert_exporter": "python",
      "pygments_lexer": "ipython3",
      "version": "3.12.4"
    },
    "colab": {
      "provenance": [],
      "gpuType": "V28"
    },
    "accelerator": "TPU"
  },
  "nbformat": 4,
  "nbformat_minor": 5
}
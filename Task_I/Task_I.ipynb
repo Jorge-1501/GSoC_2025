{
 "cells": [
  {
   "cell_type": "markdown",
   "metadata": {},
   "source": [
    "# <b>Task I: Quantum Computing Part</b> "
   ]
  },
  {
   "cell_type": "markdown",
   "metadata": {},
   "source": [
    "<b>Instructions</b>\n",
    "<ol>\n",
    "    <li>Implement a simple quantum operation with Cirq or Pennylane</li>\n",
    "        <ol type = \"a\">\n",
    "            <li>With 5 qubits</li> \n",
    "            <li>Apply Hadamard operation on every qubit</li> \n",
    "            <li>Apply CNOT operation on (0, 1), (1,2), (2,3), (3,4)</li> \n",
    "            <li>SWAP (0, 4) </li>\n",
    "            <li>Rotate X with pi/2 on any qubit </li>\n",
    "            <li>Plot the circuit </li></ol>\n",
    "    <li>Implement a second circuit with a framework of your choice:</li>\n",
    "        <ol type = \"a\">\n",
    "            <li>Apply a Hadmard gate to the first qubit</li>\n",
    "            <li>rotate the second qubit by pi/3 around X</li>\n",
    "            <li>Apply Hadamard gate to the third and fourth qubit</li>\n",
    "            <li>Perform a swap test between the states of the first and second qubit |q1 q2> and the third and fourth qubit |q3 q4></li>\n",
    "\n",
    "</ol>"
   ]
  },
  {
   "cell_type": "markdown",
   "metadata": {},
   "source": [
    "## <b>1. Implementation of a simple quantum operation</b>"
   ]
  },
  {
   "cell_type": "markdown",
   "metadata": {},
   "source": [
    "### Using Cirq"
   ]
  },
  {
   "cell_type": "code",
   "execution_count": 1,
   "metadata": {},
   "outputs": [
    {
     "name": "stdout",
     "output_type": "stream",
     "text": [
      "The packages were imported successfully, you can continue.\n"
     ]
    }
   ],
   "source": [
    "import cirq \n",
    "import numpy as np\n",
    "from cirq.contrib.svg import SVGCircuit\n",
    "print(\"The packages were imported successfully, you can continue.\")"
   ]
  },
  {
   "cell_type": "code",
   "execution_count": 2,
   "metadata": {},
   "outputs": [
    {
     "data": {
      "image/svg+xml": [
       "<svg xmlns=\"http://www.w3.org/2000/svg\" width=\"487.05328125\" height=\"250.0\"><line x1=\"30.0\" x2=\"457.05328125\" y1=\"25.0\" y2=\"25.0\" stroke=\"#1967d2\" stroke-width=\"1\" /><line x1=\"30.0\" x2=\"457.05328125\" y1=\"75.0\" y2=\"75.0\" stroke=\"#1967d2\" stroke-width=\"1\" /><line x1=\"30.0\" x2=\"457.05328125\" y1=\"125.0\" y2=\"125.0\" stroke=\"#1967d2\" stroke-width=\"1\" /><line x1=\"30.0\" x2=\"457.05328125\" y1=\"175.0\" y2=\"175.0\" stroke=\"#1967d2\" stroke-width=\"1\" /><line x1=\"30.0\" x2=\"457.05328125\" y1=\"225.0\" y2=\"225.0\" stroke=\"#1967d2\" stroke-width=\"1\" /><line x1=\"150.0\" x2=\"150.0\" y1=\"25.0\" y2=\"75.0\" stroke=\"black\" stroke-width=\"3\" /><line x1=\"210.0\" x2=\"210.0\" y1=\"75.0\" y2=\"125.0\" stroke=\"black\" stroke-width=\"3\" /><line x1=\"270.0\" x2=\"270.0\" y1=\"125.0\" y2=\"175.0\" stroke=\"black\" stroke-width=\"3\" /><line x1=\"343.526640625\" x2=\"343.526640625\" y1=\"175.0\" y2=\"225.0\" stroke=\"black\" stroke-width=\"3\" /><line x1=\"417.05328125\" x2=\"417.05328125\" y1=\"25.0\" y2=\"225.0\" stroke=\"black\" stroke-width=\"3\" /><rect x=\"10.0\" y=\"5.0\" width=\"40\" height=\"40\" stroke=\"black\" fill=\"white\" stroke-width=\"0\" /><text x=\"30.0\" y=\"25.0\" dominant-baseline=\"middle\" text-anchor=\"middle\" font-size=\"14px\" font-family=\"sans\\-serif:style=normal:variant=normal:weight=normal:stretch=normal:size=10.0\">0: </text><rect x=\"10.0\" y=\"55.0\" width=\"40\" height=\"40\" stroke=\"black\" fill=\"white\" stroke-width=\"0\" /><text x=\"30.0\" y=\"75.0\" dominant-baseline=\"middle\" text-anchor=\"middle\" font-size=\"14px\" font-family=\"sans\\-serif:style=normal:variant=normal:weight=normal:stretch=normal:size=10.0\">1: </text><rect x=\"10.0\" y=\"105.0\" width=\"40\" height=\"40\" stroke=\"black\" fill=\"white\" stroke-width=\"0\" /><text x=\"30.0\" y=\"125.0\" dominant-baseline=\"middle\" text-anchor=\"middle\" font-size=\"14px\" font-family=\"sans\\-serif:style=normal:variant=normal:weight=normal:stretch=normal:size=10.0\">2: </text><rect x=\"10.0\" y=\"155.0\" width=\"40\" height=\"40\" stroke=\"black\" fill=\"white\" stroke-width=\"0\" /><text x=\"30.0\" y=\"175.0\" dominant-baseline=\"middle\" text-anchor=\"middle\" font-size=\"14px\" font-family=\"sans\\-serif:style=normal:variant=normal:weight=normal:stretch=normal:size=10.0\">3: </text><rect x=\"10.0\" y=\"205.0\" width=\"40\" height=\"40\" stroke=\"black\" fill=\"white\" stroke-width=\"0\" /><text x=\"30.0\" y=\"225.0\" dominant-baseline=\"middle\" text-anchor=\"middle\" font-size=\"14px\" font-family=\"sans\\-serif:style=normal:variant=normal:weight=normal:stretch=normal:size=10.0\">4: </text><rect x=\"70.0\" y=\"5.0\" width=\"40\" height=\"40\" stroke=\"black\" fill=\"white\" stroke-width=\"1\" /><text x=\"90.0\" y=\"25.0\" dominant-baseline=\"middle\" text-anchor=\"middle\" font-size=\"18px\" font-family=\"sans\\-serif:style=normal:variant=normal:weight=normal:stretch=normal:size=10.0\">H</text><rect x=\"70.0\" y=\"55.0\" width=\"40\" height=\"40\" stroke=\"black\" fill=\"white\" stroke-width=\"1\" /><text x=\"90.0\" y=\"75.0\" dominant-baseline=\"middle\" text-anchor=\"middle\" font-size=\"18px\" font-family=\"sans\\-serif:style=normal:variant=normal:weight=normal:stretch=normal:size=10.0\">H</text><rect x=\"70.0\" y=\"105.0\" width=\"40\" height=\"40\" stroke=\"black\" fill=\"white\" stroke-width=\"1\" /><text x=\"90.0\" y=\"125.0\" dominant-baseline=\"middle\" text-anchor=\"middle\" font-size=\"18px\" font-family=\"sans\\-serif:style=normal:variant=normal:weight=normal:stretch=normal:size=10.0\">H</text><rect x=\"70.0\" y=\"155.0\" width=\"40\" height=\"40\" stroke=\"black\" fill=\"white\" stroke-width=\"1\" /><text x=\"90.0\" y=\"175.0\" dominant-baseline=\"middle\" text-anchor=\"middle\" font-size=\"18px\" font-family=\"sans\\-serif:style=normal:variant=normal:weight=normal:stretch=normal:size=10.0\">H</text><rect x=\"70.0\" y=\"205.0\" width=\"40\" height=\"40\" stroke=\"black\" fill=\"white\" stroke-width=\"1\" /><text x=\"90.0\" y=\"225.0\" dominant-baseline=\"middle\" text-anchor=\"middle\" font-size=\"18px\" font-family=\"sans\\-serif:style=normal:variant=normal:weight=normal:stretch=normal:size=10.0\">H</text><circle cx=\"150.0\" cy=\"25.0\" r=\"10.0\" /><rect x=\"130.0\" y=\"55.0\" width=\"40\" height=\"40\" stroke=\"black\" fill=\"white\" stroke-width=\"1\" /><text x=\"150.0\" y=\"75.0\" dominant-baseline=\"middle\" text-anchor=\"middle\" font-size=\"18px\" font-family=\"sans\\-serif:style=normal:variant=normal:weight=normal:stretch=normal:size=10.0\">X</text><circle cx=\"210.0\" cy=\"75.0\" r=\"10.0\" /><rect x=\"190.0\" y=\"105.0\" width=\"40\" height=\"40\" stroke=\"black\" fill=\"white\" stroke-width=\"1\" /><text x=\"210.0\" y=\"125.0\" dominant-baseline=\"middle\" text-anchor=\"middle\" font-size=\"18px\" font-family=\"sans\\-serif:style=normal:variant=normal:weight=normal:stretch=normal:size=10.0\">X</text><circle cx=\"270.0\" cy=\"125.0\" r=\"10.0\" /><rect x=\"250.0\" y=\"155.0\" width=\"40\" height=\"40\" stroke=\"black\" fill=\"white\" stroke-width=\"1\" /><text x=\"270.0\" y=\"175.0\" dominant-baseline=\"middle\" text-anchor=\"middle\" font-size=\"18px\" font-family=\"sans\\-serif:style=normal:variant=normal:weight=normal:stretch=normal:size=10.0\">X</text><circle cx=\"343.526640625\" cy=\"175.0\" r=\"10.0\" /><rect x=\"310.0\" y=\"205.0\" width=\"67.05328125\" height=\"40\" stroke=\"black\" fill=\"white\" stroke-width=\"1\" /><text x=\"343.526640625\" y=\"225.0\" dominant-baseline=\"middle\" text-anchor=\"middle\" font-size=\"18px\" font-family=\"sans\\-serif:style=normal:variant=normal:weight=normal:stretch=normal:size=10.0\">X</text><rect x=\"310.0\" y=\"105.0\" width=\"67.05328125\" height=\"40\" stroke=\"black\" fill=\"white\" stroke-width=\"1\" /><text x=\"343.526640625\" y=\"125.0\" dominant-baseline=\"middle\" text-anchor=\"middle\" font-size=\"14px\" font-family=\"sans\\-serif:style=normal:variant=normal:weight=normal:stretch=normal:size=10.0\">Rx(0.5π)</text><text x=\"417.05328125\" y=\"28.0\" dominant-baseline=\"middle\" text-anchor=\"middle\" font-size=\"40px\" font-family=\"sans\\-serif:style=normal:variant=normal:weight=normal:stretch=normal:size=10.0\">×</text><text x=\"417.05328125\" y=\"228.0\" dominant-baseline=\"middle\" text-anchor=\"middle\" font-size=\"40px\" font-family=\"sans\\-serif:style=normal:variant=normal:weight=normal:stretch=normal:size=10.0\">×</text></svg>"
      ],
      "text/plain": [
       "<cirq.contrib.svg.svg.SVGCircuit at 0x2147f51dee0>"
      ]
     },
     "execution_count": 2,
     "metadata": {},
     "output_type": "execute_result"
    }
   ],
   "source": [
    "# Definition of 5 qubits\n",
    "N_qubits = 5\n",
    "qubits = [cirq.LineQubit(i) for i in range(N_qubits)]\n",
    "\n",
    "# Creating the circuit\n",
    "circuit_1 = cirq.Circuit()\n",
    "\n",
    "# Hadamard in every qubit\n",
    "circuit_1.append(cirq.H(q) for q in qubits)\n",
    "\n",
    "# CNOT in (0,1), (1,2), (2,3), (3,4)\n",
    "circuit_1.append(cirq.CNOT(qubits[i], qubits[i+1]) for i in range(N_qubits-1))\n",
    "\n",
    "# SWAP in (0,4)\n",
    "circuit_1.append(cirq.SWAP(qubits[0], qubits[4]))\n",
    "\n",
    "# R_X with pi/2 in qubit 3\n",
    "circuit_1.append(cirq.rx(np.pi / 2)(qubits[2]))\n",
    "\n",
    "SVGCircuit(circuit_1)"
   ]
  },
  {
   "cell_type": "code",
   "execution_count": 3,
   "metadata": {},
   "outputs": [
    {
     "name": "stdout",
     "output_type": "stream",
     "text": [
      "0: ───H───@──────────────────────×───\n",
      "          │                      │\n",
      "1: ───H───X───@──────────────────┼───\n",
      "              │                  │\n",
      "2: ───H───────X───@───Rx(0.5π)───┼───\n",
      "                  │              │\n",
      "3: ───H───────────X───@──────────┼───\n",
      "                      │          │\n",
      "4: ───H───────────────X──────────×───\n"
     ]
    }
   ],
   "source": [
    "# Visualization\n",
    "print(circuit_1)"
   ]
  },
  {
   "cell_type": "code",
   "execution_count": 4,
   "metadata": {},
   "outputs": [
    {
     "data": {
      "image/svg+xml": [
       "<svg xmlns=\"http://www.w3.org/2000/svg\" width=\"487.05328125\" height=\"250.0\"><line x1=\"30.0\" x2=\"457.05328125\" y1=\"25.0\" y2=\"25.0\" stroke=\"#1967d2\" stroke-width=\"1\" /><line x1=\"30.0\" x2=\"457.05328125\" y1=\"75.0\" y2=\"75.0\" stroke=\"#1967d2\" stroke-width=\"1\" /><line x1=\"30.0\" x2=\"457.05328125\" y1=\"125.0\" y2=\"125.0\" stroke=\"#1967d2\" stroke-width=\"1\" /><line x1=\"30.0\" x2=\"457.05328125\" y1=\"175.0\" y2=\"175.0\" stroke=\"#1967d2\" stroke-width=\"1\" /><line x1=\"30.0\" x2=\"457.05328125\" y1=\"225.0\" y2=\"225.0\" stroke=\"#1967d2\" stroke-width=\"1\" /><line x1=\"150.0\" x2=\"150.0\" y1=\"25.0\" y2=\"75.0\" stroke=\"black\" stroke-width=\"3\" /><line x1=\"210.0\" x2=\"210.0\" y1=\"75.0\" y2=\"125.0\" stroke=\"black\" stroke-width=\"3\" /><line x1=\"270.0\" x2=\"270.0\" y1=\"125.0\" y2=\"175.0\" stroke=\"black\" stroke-width=\"3\" /><line x1=\"343.526640625\" x2=\"343.526640625\" y1=\"175.0\" y2=\"225.0\" stroke=\"black\" stroke-width=\"3\" /><line x1=\"417.05328125\" x2=\"417.05328125\" y1=\"25.0\" y2=\"225.0\" stroke=\"black\" stroke-width=\"3\" /><rect x=\"10.0\" y=\"5.0\" width=\"40\" height=\"40\" stroke=\"black\" fill=\"white\" stroke-width=\"0\" /><text x=\"30.0\" y=\"25.0\" dominant-baseline=\"middle\" text-anchor=\"middle\" font-size=\"14px\" font-family=\"sans\\-serif:style=normal:variant=normal:weight=normal:stretch=normal:size=10.0\">0: </text><rect x=\"10.0\" y=\"55.0\" width=\"40\" height=\"40\" stroke=\"black\" fill=\"white\" stroke-width=\"0\" /><text x=\"30.0\" y=\"75.0\" dominant-baseline=\"middle\" text-anchor=\"middle\" font-size=\"14px\" font-family=\"sans\\-serif:style=normal:variant=normal:weight=normal:stretch=normal:size=10.0\">1: </text><rect x=\"10.0\" y=\"105.0\" width=\"40\" height=\"40\" stroke=\"black\" fill=\"white\" stroke-width=\"0\" /><text x=\"30.0\" y=\"125.0\" dominant-baseline=\"middle\" text-anchor=\"middle\" font-size=\"14px\" font-family=\"sans\\-serif:style=normal:variant=normal:weight=normal:stretch=normal:size=10.0\">2: </text><rect x=\"10.0\" y=\"155.0\" width=\"40\" height=\"40\" stroke=\"black\" fill=\"white\" stroke-width=\"0\" /><text x=\"30.0\" y=\"175.0\" dominant-baseline=\"middle\" text-anchor=\"middle\" font-size=\"14px\" font-family=\"sans\\-serif:style=normal:variant=normal:weight=normal:stretch=normal:size=10.0\">3: </text><rect x=\"10.0\" y=\"205.0\" width=\"40\" height=\"40\" stroke=\"black\" fill=\"white\" stroke-width=\"0\" /><text x=\"30.0\" y=\"225.0\" dominant-baseline=\"middle\" text-anchor=\"middle\" font-size=\"14px\" font-family=\"sans\\-serif:style=normal:variant=normal:weight=normal:stretch=normal:size=10.0\">4: </text><rect x=\"70.0\" y=\"5.0\" width=\"40\" height=\"40\" stroke=\"black\" fill=\"white\" stroke-width=\"1\" /><text x=\"90.0\" y=\"25.0\" dominant-baseline=\"middle\" text-anchor=\"middle\" font-size=\"18px\" font-family=\"sans\\-serif:style=normal:variant=normal:weight=normal:stretch=normal:size=10.0\">H</text><rect x=\"70.0\" y=\"55.0\" width=\"40\" height=\"40\" stroke=\"black\" fill=\"white\" stroke-width=\"1\" /><text x=\"90.0\" y=\"75.0\" dominant-baseline=\"middle\" text-anchor=\"middle\" font-size=\"18px\" font-family=\"sans\\-serif:style=normal:variant=normal:weight=normal:stretch=normal:size=10.0\">H</text><rect x=\"70.0\" y=\"105.0\" width=\"40\" height=\"40\" stroke=\"black\" fill=\"white\" stroke-width=\"1\" /><text x=\"90.0\" y=\"125.0\" dominant-baseline=\"middle\" text-anchor=\"middle\" font-size=\"18px\" font-family=\"sans\\-serif:style=normal:variant=normal:weight=normal:stretch=normal:size=10.0\">H</text><rect x=\"70.0\" y=\"155.0\" width=\"40\" height=\"40\" stroke=\"black\" fill=\"white\" stroke-width=\"1\" /><text x=\"90.0\" y=\"175.0\" dominant-baseline=\"middle\" text-anchor=\"middle\" font-size=\"18px\" font-family=\"sans\\-serif:style=normal:variant=normal:weight=normal:stretch=normal:size=10.0\">H</text><rect x=\"70.0\" y=\"205.0\" width=\"40\" height=\"40\" stroke=\"black\" fill=\"white\" stroke-width=\"1\" /><text x=\"90.0\" y=\"225.0\" dominant-baseline=\"middle\" text-anchor=\"middle\" font-size=\"18px\" font-family=\"sans\\-serif:style=normal:variant=normal:weight=normal:stretch=normal:size=10.0\">H</text><circle cx=\"150.0\" cy=\"25.0\" r=\"10.0\" /><rect x=\"130.0\" y=\"55.0\" width=\"40\" height=\"40\" stroke=\"black\" fill=\"white\" stroke-width=\"1\" /><text x=\"150.0\" y=\"75.0\" dominant-baseline=\"middle\" text-anchor=\"middle\" font-size=\"18px\" font-family=\"sans\\-serif:style=normal:variant=normal:weight=normal:stretch=normal:size=10.0\">X</text><circle cx=\"210.0\" cy=\"75.0\" r=\"10.0\" /><rect x=\"190.0\" y=\"105.0\" width=\"40\" height=\"40\" stroke=\"black\" fill=\"white\" stroke-width=\"1\" /><text x=\"210.0\" y=\"125.0\" dominant-baseline=\"middle\" text-anchor=\"middle\" font-size=\"18px\" font-family=\"sans\\-serif:style=normal:variant=normal:weight=normal:stretch=normal:size=10.0\">X</text><circle cx=\"270.0\" cy=\"125.0\" r=\"10.0\" /><rect x=\"250.0\" y=\"155.0\" width=\"40\" height=\"40\" stroke=\"black\" fill=\"white\" stroke-width=\"1\" /><text x=\"270.0\" y=\"175.0\" dominant-baseline=\"middle\" text-anchor=\"middle\" font-size=\"18px\" font-family=\"sans\\-serif:style=normal:variant=normal:weight=normal:stretch=normal:size=10.0\">X</text><circle cx=\"343.526640625\" cy=\"175.0\" r=\"10.0\" /><rect x=\"310.0\" y=\"205.0\" width=\"67.05328125\" height=\"40\" stroke=\"black\" fill=\"white\" stroke-width=\"1\" /><text x=\"343.526640625\" y=\"225.0\" dominant-baseline=\"middle\" text-anchor=\"middle\" font-size=\"18px\" font-family=\"sans\\-serif:style=normal:variant=normal:weight=normal:stretch=normal:size=10.0\">X</text><rect x=\"310.0\" y=\"105.0\" width=\"67.05328125\" height=\"40\" stroke=\"black\" fill=\"white\" stroke-width=\"1\" /><text x=\"343.526640625\" y=\"125.0\" dominant-baseline=\"middle\" text-anchor=\"middle\" font-size=\"14px\" font-family=\"sans\\-serif:style=normal:variant=normal:weight=normal:stretch=normal:size=10.0\">Rx(0.5π)</text><text x=\"417.05328125\" y=\"28.0\" dominant-baseline=\"middle\" text-anchor=\"middle\" font-size=\"40px\" font-family=\"sans\\-serif:style=normal:variant=normal:weight=normal:stretch=normal:size=10.0\">×</text><text x=\"417.05328125\" y=\"228.0\" dominant-baseline=\"middle\" text-anchor=\"middle\" font-size=\"40px\" font-family=\"sans\\-serif:style=normal:variant=normal:weight=normal:stretch=normal:size=10.0\">×</text></svg>"
      ],
      "text/plain": [
       "<cirq.contrib.svg.svg.SVGCircuit at 0x2147e2d4ce0>"
      ]
     },
     "execution_count": 4,
     "metadata": {},
     "output_type": "execute_result"
    }
   ],
   "source": [
    "SVGCircuit(circuit_1)"
   ]
  },
  {
   "cell_type": "markdown",
   "metadata": {},
   "source": [
    "### Using Pennylane"
   ]
  },
  {
   "cell_type": "code",
   "execution_count": 5,
   "metadata": {},
   "outputs": [
    {
     "name": "stdout",
     "output_type": "stream",
     "text": [
      "The packages were imported successfully, you can continue.\n"
     ]
    }
   ],
   "source": [
    "import pennylane as qml\n",
    "import matplotlib.pyplot as plt\n",
    "import numpy as np\n",
    "print(\"The packages were imported successfully, you can continue.\")"
   ]
  },
  {
   "cell_type": "code",
   "execution_count": 6,
   "metadata": {},
   "outputs": [],
   "source": [
    "# Definition of 5 qubits\n",
    "N_qubits = 4\n",
    "dev = qml.device(\"default.qubit\", wires=N_qubits)\n",
    "\n",
    "@qml.qnode(dev)\n",
    "# Ceating the circuit\n",
    "def circuit_2():\n",
    "    # Hadamard in every qubit\n",
    "    for i in range(N_qubits+1):\n",
    "        qml.Hadamard(wires=i)\n",
    "\n",
    "    # CNOT in (0,1), (1,2), (2,3), (3,4)\n",
    "    for i in range(N_qubits):\n",
    "        qml.CNOT(wires=[i, i+1])\n",
    "\n",
    "    # SWAP in (0,4)\n",
    "    qml.SWAP(wires=[0, 4])\n",
    "\n",
    "    # R_X with pi/2 in qubit 3\n",
    "    qml.RX(np.pi /2, wires=2)\n",
    "\n",
    "    return qml"
   ]
  },
  {
   "cell_type": "code",
   "execution_count": 7,
   "metadata": {},
   "outputs": [
    {
     "data": {
      "image/png": "[encoded data removed]",
      "text/plain": [
       "<Figure size 1000x600 with 1 Axes>"
      ]
     },
     "metadata": {},
     "output_type": "display_data"
    }
   ],
   "source": [
    "fig, ax = qml.draw_mpl(circuit_2)()\n",
    "plt.show()"
   ]
  },
  {
   "cell_type": "markdown",
   "metadata": {},
   "source": [
    "## <b>2. Implementation of a second circuit</b>"
   ]
  },
  {
   "cell_type": "markdown",
   "metadata": {},
   "source": [
    "In this notebook we will implement a quantum circuit using both **PennyLane** and **Cirq**. The circuit performs the following operations:\n",
    "\n",
    "1. Apply a Hadamard gate to the first qubit.\n",
    "2. Rotate the second qubit by $\\pi/3$ around the X-axis.\n",
    "3. Apply a Hadamard gate to both the third and fourth qubit.\n",
    "4. Perform a swap test between the states of the first two qubits $\\ket{q_1 q_2}$ and the third and fourth qubits $\\ket{q_3 q_4}$."
   ]
  },
  {
   "cell_type": "markdown",
   "metadata": {},
   "source": [
    "<b>The Swap Test</b>\n",
    "\n",
    "The <i>swap test</i> is an algorithm used in quantum computing to measure the similarity (or overlap) between two quantum states. Given two states $\\ket{\\psi}$ and $\\ket{\\phi}$, the test estimates the squared inner product $|\\langle \\psi | \\phi \\rangle|^2$, which is a measure of their fidelity.\n",
    "\n",
    "<b>Mathematical Overview</b>\n",
    "Named $\\ket{\\phi}$ and $\\ket{\\psi}$ the qubits we want to runa swap test, then we follow the next steps\n",
    "\n",
    "1. Prepare an ancilla qubit in $\\ket{0}$ and apply a Hadamard gate to or circuit\n",
    "\\begin{equation*}\n",
    "    \\frac{1}{\\sqrt{2}}(\\ket{0\\psi\\phi} + \\ket{1\\psi\\phi})\n",
    "\\end{equation*}\n",
    "\n",
    "2. Perform a <b>controlled-SWAP</b> (Fredkin) gate between the two subsystems of interest, controlled by the ancilla.\n",
    "\n",
    "3. Apply a final Hadamard gate on the ancilla and measure it.\n",
    "\n",
    "The probability $p_0$ of the ancilla being measured in $\\ket{0}$ is given by\n",
    "\\begin{equation*}\n",
    "p_0 = \\frac{1 + |\\langle \\psi|\\phi \\rangle|^2}{2}.\n",
    "\\end{equation*}\n",
    "\n",
    "Thus, the squared inner product can be computed as:\n",
    "\\begin{equation*}\n",
    "    \\langle \\psi|\\phi \\rangle|^2 = 2p_0 - 1.\n",
    "\\end{equation*}\n",
    "\n",
    "This test can be used for comparing quantum states, which is useful in quantum machine learning, fingerprinting, and entanglement detection.\n",
    "\n",
    "---\n",
    "\n",
    "Below, we provide two implementations: one using PennyLane and another using Cirq. Each section concludes with a visualization (circuit diagram).\n"
   ]
  },
  {
   "cell_type": "markdown",
   "metadata": {},
   "source": [
    "### Using Cirq"
   ]
  },
  {
   "cell_type": "code",
   "execution_count": 4,
   "metadata": {},
   "outputs": [
    {
     "name": "stdout",
     "output_type": "stream",
     "text": [
      "The packages were imported successfully, you can continue.\n"
     ]
    }
   ],
   "source": [
    "import cirq \n",
    "import numpy as np\n",
    "from cirq.contrib.svg import SVGCircuit\n",
    "print(\"The packages were imported successfully, you can continue.\")"
   ]
  },
  {
   "cell_type": "code",
   "execution_count": 19,
   "metadata": {},
   "outputs": [],
   "source": [
    "# Create the qubits: one ancilla and four system qubits\n",
    "ancilla = cirq.NamedQubit(\"ancilla\")\n",
    "q1 = cirq.NamedQubit(\"q1\")\n",
    "q2 = cirq.NamedQubit(\"q2\")\n",
    "q3 = cirq.NamedQubit(\"q3\")\n",
    "q4 = cirq.NamedQubit(\"q4\")\n",
    "\n",
    "# Define the circuit\n",
    "circuit_3 = cirq.Circuit()\n",
    "\n",
    "# a) Hadamard on the first qubit (q1)\n",
    "circuit_3.append(cirq.H(q1))\n",
    "\n",
    "# b) Rotate the second qubit (q2) by pi/3 around the X-axis.\n",
    "circuit_3.append(cirq.rx(np.pi/3)(q2))\n",
    "\n",
    "# c) Hadamard on the third (q3) and fourth (q4) qubit.\n",
    "circuit_3.append(cirq.H(q3))\n",
    "circuit_3.append(cirq.H(q4))\n",
    "\n",
    "#------------------------------------------------------------\n",
    "# d) Swap Test - using an ancilla to control SWAP operations\n",
    "#------------------------------------------------------------\n",
    "# Prepare the ancilla\n",
    "circuit_3.append(cirq.H(ancilla))\n",
    "\n",
    "# Controlled-SWAP:\n",
    "cswap_1 = cirq.CSWAP(ancilla, q1, q3) # firsts qubits of both states\n",
    "cswap_2 = cirq.CSWAP(ancilla, q2, q4) # seconds qubits of both states\n",
    "circuit_3.append(cswap_1)\n",
    "circuit_3.append(cswap_2)\n",
    "\n",
    "# Final Hadamard gate on the ancilla\n",
    "circuit_3.append(cirq.H(ancilla))\n",
    "\n",
    "# Add a measurement on the ancilla\n",
    "circuit_3.append(cirq.measure(ancilla, key='ancilla'))"
   ]
  },
  {
   "cell_type": "code",
   "execution_count": 25,
   "metadata": {},
   "outputs": [
    {
     "name": "stdout",
     "output_type": "stream",
     "text": [
      "\n",
      "Cirq Swap Test Results:\n",
      "Probability of measuring ancilla in state |0>: 0.7420\n",
      "Estimated squared inner product: 0.4840\n"
     ]
    }
   ],
   "source": [
    "# Simulate the Cirq circuit.\n",
    "simulator = cirq.Simulator()\n",
    "result = simulator.run(circuit_3, repetitions=1000)\n",
    "counts = result.histogram(key='ancilla')\n",
    "\n",
    "# Calculate probability of measuring 0 on the ancilla.\n",
    "p0 = counts.get(0, 0) / 1000\n",
    "print(\"\\nCirq Swap Test Results:\")\n",
    "print(f\"Probability of measuring ancilla in state |0>: {p0:.4f}\")\n",
    "print(f\"Estimated squared inner product: {2*p0-1:.4f}\")\n"
   ]
  },
  {
   "cell_type": "code",
   "execution_count": 20,
   "metadata": {},
   "outputs": [
    {
     "name": "stdout",
     "output_type": "stream",
     "text": [
      "ancilla: ───H────────────@───@───H───M───\n",
      "                         │   │\n",
      "q1: ────────H────────────×───┼───────────\n",
      "                         │   │\n",
      "q2: ────────Rx(0.333π)───┼───×───────────\n",
      "                         │   │\n",
      "q3: ────────H────────────×───┼───────────\n",
      "                             │\n",
      "q4: ────────H────────────────×───────────\n"
     ]
    }
   ],
   "source": [
    "# Visualization\n",
    "print(circuit_3)"
   ]
  },
  {
   "cell_type": "code",
   "execution_count": 21,
   "metadata": {},
   "outputs": [
    {
     "data": {
      "image/svg+xml": [
       "<svg xmlns=\"http://www.w3.org/2000/svg\" width=\"462.5073828125\" height=\"250.0\"><line x1=\"38.81982421875\" x2=\"432.5073828125\" y1=\"25.0\" y2=\"25.0\" stroke=\"#1967d2\" stroke-width=\"1\" /><line x1=\"38.81982421875\" x2=\"432.5073828125\" y1=\"75.0\" y2=\"75.0\" stroke=\"#1967d2\" stroke-width=\"1\" /><line x1=\"38.81982421875\" x2=\"432.5073828125\" y1=\"125.0\" y2=\"125.0\" stroke=\"#1967d2\" stroke-width=\"1\" /><line x1=\"38.81982421875\" x2=\"432.5073828125\" y1=\"175.0\" y2=\"175.0\" stroke=\"#1967d2\" stroke-width=\"1\" /><line x1=\"38.81982421875\" x2=\"432.5073828125\" y1=\"225.0\" y2=\"225.0\" stroke=\"#1967d2\" stroke-width=\"1\" /><line x1=\"212.5073828125\" x2=\"212.5073828125\" y1=\"25.0\" y2=\"175.0\" stroke=\"black\" stroke-width=\"3\" /><line x1=\"272.5073828125\" x2=\"272.5073828125\" y1=\"25.0\" y2=\"225.0\" stroke=\"black\" stroke-width=\"3\" /><rect x=\"10.0\" y=\"5.0\" width=\"57.6396484375\" height=\"40\" stroke=\"black\" fill=\"white\" stroke-width=\"0\" /><text x=\"38.81982421875\" y=\"25.0\" dominant-baseline=\"middle\" text-anchor=\"middle\" font-size=\"14px\" font-family=\"sans\\-serif:style=normal:variant=normal:weight=normal:stretch=normal:size=10.0\">ancilla: </text><rect x=\"10.0\" y=\"55.0\" width=\"57.6396484375\" height=\"40\" stroke=\"black\" fill=\"white\" stroke-width=\"0\" /><text x=\"38.81982421875\" y=\"75.0\" dominant-baseline=\"middle\" text-anchor=\"middle\" font-size=\"14px\" font-family=\"sans\\-serif:style=normal:variant=normal:weight=normal:stretch=normal:size=10.0\">q1: </text><rect x=\"10.0\" y=\"105.0\" width=\"57.6396484375\" height=\"40\" stroke=\"black\" fill=\"white\" stroke-width=\"0\" /><text x=\"38.81982421875\" y=\"125.0\" dominant-baseline=\"middle\" text-anchor=\"middle\" font-size=\"14px\" font-family=\"sans\\-serif:style=normal:variant=normal:weight=normal:stretch=normal:size=10.0\">q2: </text><rect x=\"10.0\" y=\"155.0\" width=\"57.6396484375\" height=\"40\" stroke=\"black\" fill=\"white\" stroke-width=\"0\" /><text x=\"38.81982421875\" y=\"175.0\" dominant-baseline=\"middle\" text-anchor=\"middle\" font-size=\"14px\" font-family=\"sans\\-serif:style=normal:variant=normal:weight=normal:stretch=normal:size=10.0\">q3: </text><rect x=\"10.0\" y=\"205.0\" width=\"57.6396484375\" height=\"40\" stroke=\"black\" fill=\"white\" stroke-width=\"0\" /><text x=\"38.81982421875\" y=\"225.0\" dominant-baseline=\"middle\" text-anchor=\"middle\" font-size=\"14px\" font-family=\"sans\\-serif:style=normal:variant=normal:weight=normal:stretch=normal:size=10.0\">q4: </text><rect x=\"87.6396484375\" y=\"55.0\" width=\"84.86773437500001\" height=\"40\" stroke=\"black\" fill=\"white\" stroke-width=\"1\" /><text x=\"130.073515625\" y=\"75.0\" dominant-baseline=\"middle\" text-anchor=\"middle\" font-size=\"18px\" font-family=\"sans\\-serif:style=normal:variant=normal:weight=normal:stretch=normal:size=10.0\">H</text><rect x=\"87.6396484375\" y=\"105.0\" width=\"84.86773437500001\" height=\"40\" stroke=\"black\" fill=\"white\" stroke-width=\"1\" /><text x=\"130.073515625\" y=\"125.0\" dominant-baseline=\"middle\" text-anchor=\"middle\" font-size=\"14px\" font-family=\"sans\\-serif:style=normal:variant=normal:weight=normal:stretch=normal:size=10.0\">Rx(0.333π)</text><rect x=\"87.6396484375\" y=\"155.0\" width=\"84.86773437500001\" height=\"40\" stroke=\"black\" fill=\"white\" stroke-width=\"1\" /><text x=\"130.073515625\" y=\"175.0\" dominant-baseline=\"middle\" text-anchor=\"middle\" font-size=\"18px\" font-family=\"sans\\-serif:style=normal:variant=normal:weight=normal:stretch=normal:size=10.0\">H</text><rect x=\"87.6396484375\" y=\"205.0\" width=\"84.86773437500001\" height=\"40\" stroke=\"black\" fill=\"white\" stroke-width=\"1\" /><text x=\"130.073515625\" y=\"225.0\" dominant-baseline=\"middle\" text-anchor=\"middle\" font-size=\"18px\" font-family=\"sans\\-serif:style=normal:variant=normal:weight=normal:stretch=normal:size=10.0\">H</text><rect x=\"87.6396484375\" y=\"5.0\" width=\"84.86773437500001\" height=\"40\" stroke=\"black\" fill=\"white\" stroke-width=\"1\" /><text x=\"130.073515625\" y=\"25.0\" dominant-baseline=\"middle\" text-anchor=\"middle\" font-size=\"18px\" font-family=\"sans\\-serif:style=normal:variant=normal:weight=normal:stretch=normal:size=10.0\">H</text><circle cx=\"212.5073828125\" cy=\"25.0\" r=\"10.0\" /><text x=\"212.5073828125\" y=\"78.0\" dominant-baseline=\"middle\" text-anchor=\"middle\" font-size=\"40px\" font-family=\"sans\\-serif:style=normal:variant=normal:weight=normal:stretch=normal:size=10.0\">×</text><text x=\"212.5073828125\" y=\"178.0\" dominant-baseline=\"middle\" text-anchor=\"middle\" font-size=\"40px\" font-family=\"sans\\-serif:style=normal:variant=normal:weight=normal:stretch=normal:size=10.0\">×</text><circle cx=\"272.5073828125\" cy=\"25.0\" r=\"10.0\" /><text x=\"272.5073828125\" y=\"128.0\" dominant-baseline=\"middle\" text-anchor=\"middle\" font-size=\"40px\" font-family=\"sans\\-serif:style=normal:variant=normal:weight=normal:stretch=normal:size=10.0\">×</text><text x=\"272.5073828125\" y=\"228.0\" dominant-baseline=\"middle\" text-anchor=\"middle\" font-size=\"40px\" font-family=\"sans\\-serif:style=normal:variant=normal:weight=normal:stretch=normal:size=10.0\">×</text><rect x=\"312.5073828125\" y=\"5.0\" width=\"40\" height=\"40\" stroke=\"black\" fill=\"white\" stroke-width=\"1\" /><text x=\"332.5073828125\" y=\"25.0\" dominant-baseline=\"middle\" text-anchor=\"middle\" font-size=\"18px\" font-family=\"sans\\-serif:style=normal:variant=normal:weight=normal:stretch=normal:size=10.0\">H</text><rect x=\"372.5073828125\" y=\"5.0\" width=\"40\" height=\"40\" stroke=\"black\" fill=\"white\" stroke-width=\"1\" /><text x=\"392.5073828125\" y=\"25.0\" dominant-baseline=\"middle\" text-anchor=\"middle\" font-size=\"18px\" font-family=\"sans\\-serif:style=normal:variant=normal:weight=normal:stretch=normal:size=10.0\">M</text></svg>"
      ],
      "text/plain": [
       "<cirq.contrib.svg.svg.SVGCircuit at 0x1b0939a6120>"
      ]
     },
     "execution_count": 21,
     "metadata": {},
     "output_type": "execute_result"
    }
   ],
   "source": [
    "SVGCircuit(circuit_3)"
   ]
  },
  {
   "cell_type": "markdown",
   "metadata": {},
   "source": [
    "### Using Pennylane"
   ]
  },
  {
   "cell_type": "code",
   "execution_count": 18,
   "metadata": {},
   "outputs": [
    {
     "name": "stdout",
     "output_type": "stream",
     "text": [
      "The packages were imported successfully, you can continue.\n"
     ]
    }
   ],
   "source": [
    "import pennylane as qml\n",
    "import matplotlib.pyplot as plt\n",
    "import numpy as np\n",
    "print(\"The packages were imported successfully, you can continue.\")"
   ]
  },
  {
   "cell_type": "code",
   "execution_count": 22,
   "metadata": {},
   "outputs": [],
   "source": [
    "# Definition of 5 qubits\n",
    "N_qubits = 5\n",
    "dev = qml.device(\"default.qubit\", wires=N_qubits)\n",
    "\n",
    "@qml.qnode(dev, interface = 'autograd')\n",
    "def circuit_4():\n",
    "    # Wire labels\n",
    "    ancilla = 0\n",
    "    q1, q2, q3, q4 = 1, 2, 3, 4\n",
    "\n",
    "    # a) Apply a Hadamard gate to the first qubit (q1)\n",
    "    qml.Hadamard(wires=q1)\n",
    "\n",
    "    # b) Rotate the second qubit (q2) by pi/3 around the X-axis.\n",
    "    qml.RX(np.pi/3, wires=q2)\n",
    "\n",
    "    # c) Apply a Hadamard gate to the third (q3) and fourth (q4) qubit.\n",
    "    qml.Hadamard(wires=q3)\n",
    "    qml.Hadamard(wires=q4)\n",
    "    \n",
    "    # d) Perform the Swap Test between the two pairs |q1 q2> and |q3 q4>\n",
    "    # Prepare the ancilla qubit.\n",
    "    qml.Hadamard(wires=ancilla)\n",
    "    # Controlled swap of the first two qubits with the second two.\n",
    "    qml.ctrl(qml.SWAP, control=ancilla)(wires=[q1, q3])\n",
    "    qml.ctrl(qml.SWAP, control=ancilla)(wires=[q2, q4])\n",
    "    qml.Hadamard(wires=ancilla)\n",
    "\n",
    "    return qml.probs(ancilla)"
   ]
  },
  {
   "cell_type": "code",
   "execution_count": 2,
   "metadata": {},
   "outputs": [],
   "source": [
    "# Number of qubits: 5 (1 ancilla + 4 system qubits)\n",
    "dev = qml.device(\"default.qubit\", wires=5)\n",
    "\n",
    "@qml.qnode(dev, interface=\"autograd\")\n",
    "def circuit_4():\n",
    "    # Wire labels\n",
    "    ancilla = 0\n",
    "    q1, q2, q3, q4 = 1, 2, 3, 4\n",
    "\n",
    "    # Step a) Hadamard on q1\n",
    "    qml.Hadamard(wires=q1)\n",
    "\n",
    "    # Step b) Rotation around X by pi/3 on q2\n",
    "    qml.RX(np.pi / 3, wires=q2)\n",
    "\n",
    "    # Step c) Hadamard on q3 and q4\n",
    "    qml.Hadamard(wires=q3)\n",
    "    qml.Hadamard(wires=q4)\n",
    "\n",
    "    # Step d) Swap Test between |q1 q2> and |q3 q4>\n",
    "    qml.Hadamard(wires=ancilla)\n",
    "\n",
    "    # Controlled swap of q1 <-> q3 and q2 <-> q4\n",
    "    qml.ctrl(qml.SWAP, control=ancilla)(wires=[q1, q3])\n",
    "    qml.ctrl(qml.SWAP, control=ancilla)(wires=[q2, q4])\n",
    "\n",
    "    qml.Hadamard(wires=ancilla)\n",
    "\n",
    "    return qml.probs(wires=ancilla)"
   ]
  },
  {
   "cell_type": "code",
   "execution_count": 23,
   "metadata": {},
   "outputs": [
    {
     "name": "stdout",
     "output_type": "stream",
     "text": [
      "Probability of measuring ancilla in state 0: 0.7500\n",
      "Estimated squared inner product: 0.5000\n"
     ]
    }
   ],
   "source": [
    "probs_4 = circuit_4()\n",
    "print(f\"Probability of measuring ancilla in state 0: {probs_4[0]:.4f}\")\n",
    "print(f\"Estimated squared inner product: {2 * probs_4[0] - 1:.4f}\")"
   ]
  },
  {
   "cell_type": "code",
   "execution_count": 24,
   "metadata": {},
   "outputs": [
    {
     "data": {
      "image/png": "[encoded data removed]",
      "text/plain": [
       "<Figure size 700x600 with 1 Axes>"
      ]
     },
     "metadata": {},
     "output_type": "display_data"
    }
   ],
   "source": [
    "fig_2, ax_2 = qml.draw_mpl(circuit_4)()\n",
    "plt.show()"
   ]
  }
 ],
 "metadata": {
  "kernelspec": {
   "display_name": "base",
   "language": "python",
   "name": "python3"
  },
  "language_info": {
   "codemirror_mode": {
    "name": "ipython",
    "version": 3
   },
   "file_extension": ".py",
   "mimetype": "text/x-python",
   "name": "python",
   "nbconvert_exporter": "python",
   "pygments_lexer": "ipython3",
   "version": "3.12.4"
  }
 },
 "nbformat": 4,
 "nbformat_minor": 2
}
